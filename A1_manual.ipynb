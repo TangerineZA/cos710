{
 "cells": [
  {
   "cell_type": "code",
   "execution_count": 1,
   "metadata": {},
   "outputs": [],
   "source": [
    "# Imports\n",
    "import pandas as pd\n",
    "import random\n",
    "import numpy as np\n",
    "import treelib"
   ]
  },
  {
   "cell_type": "code",
   "execution_count": null,
   "metadata": {},
   "outputs": [],
   "source": [
    "random.seed(10)\n",
    "\n",
    "MAX_TREE_DEPTH = 17\n",
    "MIN_TREE_DEPTH = 2\n",
    "POP_SIZE = 150\n",
    "POP_GEN_METHOD = 'grow'"
   ]
  },
  {
   "cell_type": "code",
   "execution_count": null,
   "metadata": {},
   "outputs": [],
   "source": [
    "# Tree setup\n",
    "\n",
    "# Some basic functions for the function set\n",
    "def add(x,y): return x + y\n",
    "def sub(x,y): return x - y\n",
    "def mul(x,y): return x * y\n",
    "def neg(x): return (-x)\n",
    "def protectedDiv(x,y):\n",
    "    if y != 0:\n",
    "        return x/y\n",
    "    else:\n",
    "        return 1\n",
    "\n",
    "function_set = [add, sub, mul, protectedDiv, neg]\n",
    "\n",
    "terminal_set = ['Duration', 'Distance', 'Pickup_longitude', 'Pickup_latitude',\n",
    "    'Dropoff_latitude', 'Dropoff_latitude.1', 'Haversine', 'Pmonth', 'Pickup_day',\n",
    "    'Pickup_hour', 'Pickup_minute', 'Pickup_weekday', 'Dropoff_month',\n",
    "    'Dropoff_day', 'Dropoff_hour', 'Dropoff_minute', 'Dropoff_weekday', 'Temp',\n",
    "    'Precip', 'Wind', 'Humid', 'Solar', 'Snow', 'GroundTemp', 'Dust', 0, 1]\n",
    "\n",
    "def random_tree(method, max_depth, min_depth):\n",
    "    tree = treelib.Tree()\n",
    "    if (tree.depth < min_depth) or (tree.depth < max_depth and method == 'grow'):\n",
    "        tree.create_node(\"function\", data = function_set[random.randint(0, len(function_set) - 1)])\n",
    "    elif tree.depth >= max_depth:\n",
    "        tree.create_node(\"terminal\", data = terminal_set[random.randint(0, len(terminal_set) - 1)])\n",
    "    else:\n",
    "        if random() > 0.5:\n",
    "            tree.create_node(\"terminal\", data = terminal_set[random.randint(0, len(terminal_set) - 1)])\n",
    "        else:\n",
    "            tree.create_node(\"function\", data = function_set[random.randint(0, len(function_set) - 1)])\n",
    "        \n"
   ]
  }
 ],
 "metadata": {
  "kernelspec": {
   "display_name": "base",
   "language": "python",
   "name": "python3"
  },
  "language_info": {
   "codemirror_mode": {
    "name": "ipython",
    "version": 3
   },
   "file_extension": ".py",
   "mimetype": "text/x-python",
   "name": "python",
   "nbconvert_exporter": "python",
   "pygments_lexer": "ipython3",
   "version": "3.9.13"
  },
  "orig_nbformat": 4
 },
 "nbformat": 4,
 "nbformat_minor": 2
}
