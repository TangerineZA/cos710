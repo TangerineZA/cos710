{
 "cells": [
  {
   "attachments": {},
   "cell_type": "markdown",
   "metadata": {},
   "source": [
    "**Imports**"
   ]
  },
  {
   "cell_type": "code",
   "execution_count": 3,
   "metadata": {},
   "outputs": [],
   "source": [
    "# Imports\n",
    "import pandas as pd\n",
    "import random\n",
    "import numpy as np"
   ]
  },
  {
   "attachments": {},
   "cell_type": "markdown",
   "metadata": {},
   "source": [
    "**Dataset imports**"
   ]
  },
  {
   "cell_type": "code",
   "execution_count": 4,
   "metadata": {},
   "outputs": [
    {
     "name": "stdout",
     "output_type": "stream",
     "text": [
      "['Duration' 'Distance' 'Pickup_longitude' 'Pickup_latitude'\n",
      " 'Dropoff_latitude' 'Dropoff_latitude.1' 'Haversine' 'Pmonth' 'Pickup_day'\n",
      " 'Pickup_hour' 'Pickup_minute' 'Pickup_weekday' 'Dropoff_month'\n",
      " 'Dropoff_day' 'Dropoff_hour' 'Dropoff_minute' 'Dropoff_weekday' 'Temp'\n",
      " 'Precip' 'Wind' 'Humid' 'Solar' 'Snow' 'GroundTemp' 'Dust']\n"
     ]
    }
   ],
   "source": [
    "train_df = pd.read_csv(r'training.csv')\n",
    "test_df = pd.read_csv(r'testing.csv')\n",
    "# Printing the column headings to better understand the features\n",
    "print(train_df.columns.values)"
   ]
  },
  {
   "cell_type": "code",
   "execution_count": 5,
   "metadata": {},
   "outputs": [
    {
     "data": {
      "text/plain": [
       "25"
      ]
     },
     "execution_count": 5,
     "metadata": {},
     "output_type": "execute_result"
    }
   ],
   "source": [
    "len(train_df.columns.values)"
   ]
  },
  {
   "cell_type": "code",
   "execution_count": 6,
   "metadata": {},
   "outputs": [],
   "source": [
    "from deap import gp, creator, base, tools, algorithms\n",
    "import operator"
   ]
  },
  {
   "cell_type": "code",
   "execution_count": 63,
   "metadata": {},
   "outputs": [],
   "source": [
    "def protected_div(x,y):\n",
    "    if y == 0:\n",
    "        return 1\n",
    "    else:\n",
    "        return x/y"
   ]
  },
  {
   "cell_type": "code",
   "execution_count": 64,
   "metadata": {},
   "outputs": [
    {
     "name": "stderr",
     "output_type": "stream",
     "text": [
      "c:\\Users\\david\\anaconda3\\lib\\site-packages\\deap\\creator.py:138: RuntimeWarning: A class named 'FitnessMin' has already been created and it will be overwritten. Consider deleting previous creation of that class or rename it.\n",
      "  warnings.warn(\"A class named '{0}' has already been created and it \"\n",
      "c:\\Users\\david\\anaconda3\\lib\\site-packages\\deap\\creator.py:138: RuntimeWarning: A class named 'Individual' has already been created and it will be overwritten. Consider deleting previous creation of that class or rename it.\n",
      "  warnings.warn(\"A class named '{0}' has already been created and it \"\n"
     ]
    }
   ],
   "source": [
    "pset = gp.PrimitiveSet(\"MAIN\", 23)\n",
    "pset.addPrimitive(operator.add, 2)\n",
    "pset.addPrimitive(operator.sub, 2)\n",
    "pset.addPrimitive(operator.mul, 2)\n",
    "pset.addPrimitive(protected_div,2)\n",
    "# pset.addPrimitive(operator.pow, 2)\n",
    "\n",
    "creator.create(\"FitnessMin\", base.Fitness, weights=(-1.0,))\n",
    "creator.create(\"Individual\", gp.PrimitiveTree, fitness=creator.FitnessMin, pset=pset)"
   ]
  },
  {
   "cell_type": "code",
   "execution_count": 65,
   "metadata": {},
   "outputs": [],
   "source": [
    "# Toolbox setup\n",
    "toolbox = base.Toolbox()\n",
    "toolbox.register(\"expr\", gp.genHalfAndHalf, pset=pset, min_=1, max_=2)\n",
    "toolbox.register(\"individual\", tools.initIterate, creator.Individual, toolbox.expr)\n",
    "toolbox.register(\"population\", tools.initRepeat, list, toolbox.individual)\n",
    "toolbox.register(\"compile\", gp.compile, pset=pset)"
   ]
  },
  {
   "cell_type": "code",
   "execution_count": 66,
   "metadata": {},
   "outputs": [],
   "source": [
    "def eval_fitness(individual, dataset):\n",
    "    func = toolbox.compile(expr=individual)\n",
    "    #print(\"Function compiled for individual!\")\n",
    "    dataset.reset_index()\n",
    "\n",
    "    raw_fitness = 0\n",
    "\n",
    "    for index, row in dataset.iterrows():\n",
    "        durations = row.get(\"Duration\")\n",
    "        distances = row.get(\"Distance\")\n",
    "        pickup_longs = row.get(\"Pickup_longitude\")\n",
    "        pickup_lats = row.get(\"Pickup_latitude\")\n",
    "        dropoff_longs = row.get(\"Dropoff_latitude.1\")\n",
    "        dropoff_lats = row.get(\"Dropoff_latitude\")\n",
    "        haversines = row.get(\"Haversine\")\n",
    "        pmonths = row.get(\"Pmonth\")\n",
    "        pdays = row.get(\"Pickup_day\")\n",
    "        phours = row.get(\"Pickup_hour\")\n",
    "        pmins = row.get(\"Pickup_minute\")\n",
    "        pweekdays = row.get(\"Pickup_weekday\")\n",
    "        ddays = row.get(\"Dropoff_day\")\n",
    "        dhours = row.get(\"Dropoff_hour\")\n",
    "        dmins = row.get(\"Dropoff_minute\")\n",
    "        dweekdays = row.get(\"Dropoff_weekday\")\n",
    "        temps = row.get(\"Temp\")\n",
    "        precips = row.get(\"Precip\")\n",
    "        winds = row.get(\"Wind\")\n",
    "        humids = row.get(\"Humid\")\n",
    "        solars = row.get(\"Solar\")\n",
    "        snows = row.get(\"Snow\")\n",
    "        groundtemps = row.get(\"GroundTemp\")\n",
    "        dusts = row.get(\"Dust\")\n",
    "\n",
    "        estimate = func(distances, pickup_longs, pickup_lats,\n",
    "                        dropoff_longs, dropoff_lats, haversines,\n",
    "                        pmonths, pdays, phours, pmins,\n",
    "                        pweekdays, ddays, dhours, dmins, \n",
    "                        dweekdays, temps, precips, winds,\n",
    "                        humids, solars, snows, groundtemps, dusts)\n",
    "        \n",
    "        actual = durations\n",
    "\n",
    "        raw_fitness = raw_fitness + abs(actual - estimate)\n",
    "    \n",
    "    average_fitness = raw_fitness / len(dataset)\n",
    "    #print(\"Inividual fitness: \" + str(average_fitness))\n",
    "    # using average fitness to reward overall good even if it has one or two weird cases\n",
    "    return average_fitness,"
   ]
  },
  {
   "cell_type": "code",
   "execution_count": 67,
   "metadata": {},
   "outputs": [],
   "source": [
    "def fitness_function(individual):\n",
    "    # print(\"evaluating fitness...\")\n",
    "    # print(\"individual:\")\n",
    "    # print(type(individual))\n",
    "    trip_sample = train_df.sample(100, ignore_index=True, random_state=10)\n",
    "\n",
    "    # print(trip_sample.columns.values)\n",
    "\n",
    "    # break into iteratable arrays\n",
    "    durations = trip_sample.loc[:,\"Duration\"]\n",
    "    distances = trip_sample.loc[:,\"Distance\"]\n",
    "    pickup_longs = trip_sample.loc[:,\"Pickup_longitude\"]\n",
    "    pickup_lats = trip_sample.loc[:,\"Pickup_latitude\"]\n",
    "    dropoff_longs = trip_sample.loc[:,\"Dropoff_latitude.1\"]\n",
    "    dropoff_lats = trip_sample.loc[:,\"Dropoff_latitude\"]\n",
    "    haversines = trip_sample.loc[:,\"Haversine\"]\n",
    "    pmonths = trip_sample.loc[:,\"Pmonth\"]\n",
    "    pdays = trip_sample.loc[:,\"Pickup_day\"]\n",
    "    phours = trip_sample.loc[:,\"Pickup_hour\"]\n",
    "    pmins = trip_sample.loc[:,\"Pickup_minute\"]\n",
    "    pweekdays = trip_sample.loc[:,\"Pickup_weekday\"]\n",
    "    ddays = trip_sample.loc[:,\"Dropoff_day\"]\n",
    "    dhours = trip_sample.loc[:,\"Dropoff_hour\"]\n",
    "    dmins = trip_sample.loc[:,\"Dropoff_minute\"]\n",
    "    dweekdays = trip_sample.loc[:,\"Dropoff_weekday\"]\n",
    "    temps = trip_sample.loc[:,\"Temp\"]\n",
    "    precips = trip_sample.loc[:,\"Precip\"]\n",
    "    winds = trip_sample.loc[:,\"Wind\"]\n",
    "    humids = trip_sample.loc[:,\"Humid\"]\n",
    "    solars = trip_sample.loc[:,\"Solar\"]\n",
    "    snows = trip_sample.loc[:,\"Snow\"]\n",
    "    groundtemps = trip_sample.loc[:,\"GroundTemp\"]\n",
    "    dusts = trip_sample.loc[:,\"Dust\"]\n",
    "    print(\"Compiling function...\")\n",
    "    func = toolbox.compile(expr=individual)\n",
    "    print(\"function compiled\")\n",
    "    fitness = 0\n",
    "    for i in range(len(trip_sample)):\n",
    "        # print(\"fitness eval loop run \" + str(i))\n",
    "        # PSUEDOCODE: individual_fitness = abs(correct_duration - calculated_duration)\n",
    "        # PSEUDOCODE: fitness = fitness + individual_fitness\n",
    "        sample_row = trip_sample.iloc[[i]]\n",
    "        # print(\"sample row: \" + str(type(sample_row)))\n",
    "        sample_features = sample_row.drop(\"Duration\",axis=1)\n",
    "        # print(\"sample features: \" + str(type(sample_features)))\n",
    "\n",
    "        correct_duration = durations[i]\n",
    "        # print(\"correct duration for item \" + str(i) + \" is \" + str(correct_duration))\n",
    "        calculated_duration = func(\n",
    "            distances[i], pickup_longs[i], pickup_lats[i], dropoff_longs[i], dropoff_lats[i],\n",
    "            haversines[i], pmonths[i], pdays[i], phours[i], pmins[i], pweekdays[i], ddays[i],\n",
    "            dhours[i], dmins[i], dweekdays[i], temps[i], precips[i], winds[i], humids[i], solars[i],\n",
    "            snows[i], groundtemps[i], dusts[i]\n",
    "        )\n",
    "        # print(\"calculated duration for item \" + str(i) + \" is \" + str(calculated_duration))\n",
    "\n",
    "        individual_fitness = abs(correct_duration - calculated_duration)\n",
    "        fitness = fitness + individual_fitness\n",
    "    # print(\"Fitness: \" + str(fitness))\n",
    "    return fitness,"
   ]
  },
  {
   "cell_type": "code",
   "execution_count": 68,
   "metadata": {},
   "outputs": [],
   "source": [
    "train_sample = train_df.sample(10000, ignore_index=True, random_state=10)\n",
    "\n",
    "toolbox.register(\"evaluate\", eval_fitness, dataset=train_sample)\n",
    "toolbox.register(\"select\", tools.selTournament, tournsize=3)\n",
    "toolbox.register(\"mate\", gp.cxOnePoint)\n",
    "toolbox.register(\"expr_mut\", gp.genFull, min_=0, max_=2)\n",
    "toolbox.register(\"mutate\", gp.mutUniform, expr=toolbox.expr_mut, pset=pset)\n",
    "\n",
    "toolbox.decorate(\"mate\", gp.staticLimit(key=operator.attrgetter(\"height\"), max_value=17))\n",
    "toolbox.decorate(\"mutate\", gp.staticLimit(key=operator.attrgetter(\"height\"), max_value=17))"
   ]
  },
  {
   "cell_type": "code",
   "execution_count": 61,
   "metadata": {},
   "outputs": [],
   "source": [
    "stats_fit = tools.Statistics(lambda ind: ind.fitness.values)\n",
    "stats_size = tools.Statistics(len)\n",
    "mstats = tools.MultiStatistics(fitness=stats_fit, size=stats_size)\n",
    "mstats.register(\"avg\", np.mean)\n",
    "# mstats.register(\"std\", np.std)\n",
    "mstats.register(\"min\", np.min)\n",
    "# mstats.register(\"max\", np.max)"
   ]
  },
  {
   "cell_type": "code",
   "execution_count": 49,
   "metadata": {},
   "outputs": [
    {
     "name": "stdout",
     "output_type": "stream",
     "text": [
      "gen\tnevals\tavg    \tmin    \n",
      "0  \t100   \t37784.9\t16.2142\n",
      "1  \t77    \t2678.41\t17.8736\n",
      "2  \t87    \t371.553\t17.8736\n",
      "3  \t71    \t1.1824e+06\t17.2633\n",
      "4  \t73    \t1025.49   \t17.2443\n",
      "5  \t79    \t140.511   \t16.0434\n",
      "6  \t79    \t93.123    \t16.0434\n",
      "7  \t76    \t29256.9   \t15.8644\n",
      "8  \t83    \t202.559   \t15.8644\n",
      "9  \t76    \t42.0846   \t15.8644\n",
      "10 \t85    \t729.267   \t15.5   \n",
      "11 \t76    \t2715.89   \t15.6318\n",
      "12 \t63    \t2648.58   \t15.6318\n",
      "13 \t75    \t378.49    \t15.4647\n",
      "14 \t78    \t112.352   \t15.4647\n",
      "15 \t74    \t5031.51   \t15.4647\n",
      "16 \t77    \t142.052   \t15.4647\n",
      "17 \t68    \t1553      \t15.4647\n",
      "18 \t70    \t80670.3   \t15.4647\n",
      "19 \t81    \t568.788   \t15.4647\n",
      "20 \t85    \t1557.08   \t15.4647\n"
     ]
    }
   ],
   "source": [
    "pop = toolbox.population(n=100)\n",
    "hof = tools.HallOfFame(1)\n",
    "pop, log = algorithms.eaSimple(pop, toolbox, cxpb=0.7, mutpb=0.3, stats=stats_fit,\n",
    "                                   halloffame=hof, verbose=True, ngen=20)"
   ]
  },
  {
   "cell_type": "code",
   "execution_count": 50,
   "metadata": {},
   "outputs": [
    {
     "name": "stdout",
     "output_type": "stream",
     "text": [
      "[[<deap.gp.Primitive object at 0x0000022E049118B0>, <deap.gp.Primitive object at 0x0000022E049118B0>, <deap.gp.Terminal object at 0x0000022E0490FE40>, <deap.gp.Terminal object at 0x0000022E0490FFC0>, <deap.gp.Primitive object at 0x0000022E04911A40>, <deap.gp.Terminal object at 0x0000022E0490FDC0>, <deap.gp.Terminal object at 0x0000022E0490FDC0>]]\n"
     ]
    }
   ],
   "source": [
    "print(hof)"
   ]
  },
  {
   "cell_type": "code",
   "execution_count": 53,
   "metadata": {},
   "outputs": [
    {
     "data": {
      "text/plain": [
       "'add(add(ARG6, ARG10), mul(ARG5, ARG5))'"
      ]
     },
     "execution_count": 53,
     "metadata": {},
     "output_type": "execute_result"
    }
   ],
   "source": [
    "str(hof[0])"
   ]
  },
  {
   "cell_type": "code",
   "execution_count": 54,
   "metadata": {},
   "outputs": [
    {
     "name": "stdout",
     "output_type": "stream",
     "text": [
      "gen\tnevals\tavg    \tmin    \n",
      "0  \t0     \t1557.08\t15.4647\n",
      "1  \t83    \t1492.42\t15.4647\n",
      "2  \t86    \t366.29 \t15.4486\n",
      "3  \t78    \t364.683\t15.4486\n",
      "4  \t76    \t123.605\t15.4486\n",
      "5  \t84    \t288.875\t15.4486\n",
      "6  \t85    \t3457.72\t15.6318\n",
      "7  \t71    \t163.342\t15.4647\n",
      "8  \t78    \t21350.1\t15.3308\n",
      "9  \t78    \t470.613\t15.3308\n",
      "10 \t83    \t185458 \t15.3308\n",
      "11 \t83    \t6710.17\t14.8642\n",
      "12 \t89    \t251.95 \t14.8642\n",
      "13 \t77    \t1373.78\t15.3128\n",
      "14 \t83    \t272.491\t15.108 \n",
      "15 \t74    \t142650 \t14.866 \n",
      "16 \t79    \t3573.86\t14.8642\n",
      "17 \t73    \t927.101\t14.5814\n",
      "18 \t78    \t1087.65\t14.5814\n",
      "19 \t63    \t1033.33\t14.5814\n",
      "20 \t79    \t107.026\t14.1975\n"
     ]
    }
   ],
   "source": [
    "# clearly not complete, let's keep going\n",
    "\n",
    "pop, log = algorithms.eaSimple(pop, toolbox, cxpb=0.7, mutpb=0.3, stats=stats_fit,\n",
    "                                   halloffame=hof, verbose=True, ngen=20)"
   ]
  },
  {
   "cell_type": "code",
   "execution_count": 55,
   "metadata": {},
   "outputs": [
    {
     "data": {
      "text/plain": [
       "'add(add(ARG5, add(add(ARG10, ARG5), ARG5)), add(add(add(ARG5, ARG5), ARG5), ARG5))'"
      ]
     },
     "execution_count": 55,
     "metadata": {},
     "output_type": "execute_result"
    }
   ],
   "source": [
    "str(hof[0])"
   ]
  },
  {
   "cell_type": "code",
   "execution_count": 70,
   "metadata": {},
   "outputs": [
    {
     "name": "stdout",
     "output_type": "stream",
     "text": [
      "gen\tnevals\tavg    \tmin    \n",
      "0  \t100   \t9505.74\t18.1285\n",
      "1  \t80    \t6479.81\t18.0265\n",
      "2  \t82    \t97.4854\t18.0248\n",
      "3  \t75    \t437.973\t17.8764\n",
      "4  \t72    \t135.336\t17.3033\n",
      "5  \t78    \t33.1965\t17.7711\n",
      "6  \t73    \t2300.4 \t17.3033\n",
      "7  \t73    \t5139.01\t17.1685\n",
      "8  \t70    \t306509 \t17.173 \n",
      "9  \t85    \t1030.4 \t17.2633\n",
      "10 \t73    \t38.3125\t17.2633\n",
      "11 \t87    \t164.529\t17.2633\n",
      "12 \t83    \t196.279\t17.1564\n",
      "13 \t77    \t3473.7 \t16.2265\n",
      "14 \t85    \t5677.78\t16.5578\n",
      "15 \t72    \t4941.48\t17.0341\n",
      "16 \t80    \t98.7644\t16.0504\n",
      "17 \t77    \t114598 \t14.1107\n",
      "18 \t77    \t208.773\t14.1107\n",
      "19 \t76    \t584.193\t12.6898\n",
      "20 \t70    \t592.367\t12.1815\n"
     ]
    }
   ],
   "source": [
    "# clearly not complete, let's keep going -added protectedDiv\n",
    "\n",
    "pop = toolbox.population(n=100)\n",
    "pop, log = algorithms.eaSimple(pop, toolbox, cxpb=0.7, mutpb=0.3, stats=stats_fit,\n",
    "                                   halloffame=hof, verbose=True, ngen=20)"
   ]
  },
  {
   "cell_type": "code",
   "execution_count": 71,
   "metadata": {},
   "outputs": [
    {
     "data": {
      "text/plain": [
       "'add(mul(ARG20, protected_div(protected_div(ARG10, mul(mul(ARG8, protected_div(ARG1, ARG17)), ARG5)), ARG7)), protected_div(sub(ARG18, ARG0), sub(ARG5, ARG2)))'"
      ]
     },
     "execution_count": 71,
     "metadata": {},
     "output_type": "execute_result"
    }
   ],
   "source": [
    "str(hof[0])"
   ]
  },
  {
   "cell_type": "code",
   "execution_count": 72,
   "metadata": {},
   "outputs": [
    {
     "name": "stdout",
     "output_type": "stream",
     "text": [
      "gen\tnevals\tavg    \tmin    \n",
      "0  \t0     \t592.367\t12.1815\n",
      "1  \t83    \t142.676\t12.1815\n",
      "2  \t79    \t806.678\t12.1815\n",
      "3  \t84    \t11049.1\t12.1815\n",
      "4  \t76    \t431.34 \t12.1814\n",
      "5  \t86    \t498.822\t11.5923\n",
      "6  \t87    \t156847 \t10.4407\n",
      "7  \t81    \t19298.4\t10.433 \n",
      "8  \t73    \t126.129\t10.433 \n",
      "9  \t82    \t86.3524\t10.433 \n",
      "10 \t82    \t197.87 \t9.27182\n",
      "11 \t79    \t72.8986\t9.27182\n",
      "12 \t74    \t196.705\t9.27183\n",
      "13 \t79    \t132057 \t9.27183\n",
      "14 \t73    \t217777 \t9.14664\n",
      "15 \t77    \t104.427\t9.27184\n",
      "16 \t70    \t34.894 \t9.17636\n",
      "17 \t83    \t1.33265e+13\t9.17636\n",
      "18 \t71    \t23196.6    \t9.17636\n",
      "19 \t75    \t1.33265e+13\t9.17191\n",
      "20 \t78    \t345.789    \t9.17537\n"
     ]
    }
   ],
   "source": [
    "# getting closer...?\n",
    "pop, log = algorithms.eaSimple(pop, toolbox, cxpb=0.7, mutpb=0.3, stats=stats_fit,\n",
    "                                   halloffame=hof, verbose=True, ngen=20)"
   ]
  },
  {
   "cell_type": "code",
   "execution_count": 73,
   "metadata": {},
   "outputs": [
    {
     "data": {
      "text/plain": [
       "'add(mul(ARG20, protected_div(protected_div(ARG16, ARG7), add(protected_div(mul(ARG0, ARG22), protected_div(ARG5, ARG6)), mul(ARG14, add(ARG13, ARG2))))), protected_div(sub(mul(sub(ARG8, ARG6), sub(ARG6, ARG11)), ARG0), sub(sub(ARG10, ARG18), ARG2)))'"
      ]
     },
     "execution_count": 73,
     "metadata": {},
     "output_type": "execute_result"
    }
   ],
   "source": [
    "str(hof[0])"
   ]
  },
  {
   "cell_type": "code",
   "execution_count": 74,
   "metadata": {},
   "outputs": [],
   "source": [
    "import pickle"
   ]
  },
  {
   "cell_type": "code",
   "execution_count": 75,
   "metadata": {},
   "outputs": [],
   "source": [
    "with open(\"deap_with_div_pop.pkl\", \"wb\") as deap_savefile:\n",
    "    pickle.dump(pop, deap_savefile)\n",
    "\n",
    "# saved with best of 9.147"
   ]
  },
  {
   "cell_type": "code",
   "execution_count": 76,
   "metadata": {},
   "outputs": [
    {
     "name": "stdout",
     "output_type": "stream",
     "text": [
      "gen\tnevals\tavg    \tmin    \n",
      "0  \t0     \t345.789\t9.17537\n",
      "1  \t87    \t1.15319e+06\t9.17474\n",
      "2  \t78    \t232.265    \t9.17338\n",
      "3  \t80    \t31.8668    \t9.17177\n",
      "4  \t80    \t114.789    \t9.16745\n",
      "5  \t82    \t621.456    \t9.16753\n",
      "6  \t80    \t34338.9    \t9.13052\n",
      "7  \t73    \t17.5476    \t9.13052\n",
      "8  \t79    \t8577.4     \t9.09184\n",
      "9  \t82    \t1769.11    \t9.13047\n",
      "10 \t72    \t16.2175    \t9.13047\n",
      "11 \t82    \t3181.14    \t9.12905\n",
      "12 \t78    \t1743.75    \t9.12612\n",
      "13 \t82    \t36986.7    \t9.12612\n",
      "14 \t81    \t2148.56    \t9.10348\n",
      "15 \t74    \t85.4853    \t9.08093\n",
      "16 \t86    \t347.586    \t9.08093\n",
      "17 \t80    \t2.09266e+07\t9.08019\n",
      "18 \t80    \t833.977    \t9.04315\n",
      "19 \t82    \t269.43     \t9.043  \n",
      "20 \t82    \t2.31055e+06\t9.04315\n"
     ]
    }
   ],
   "source": [
    "# div seemed to help a lot...\n",
    "pop, log = algorithms.eaSimple(pop, toolbox, cxpb=0.7, mutpb=0.3, stats=stats_fit,\n",
    "                                   halloffame=hof, verbose=True, ngen=20)"
   ]
  },
  {
   "cell_type": "code",
   "execution_count": 77,
   "metadata": {},
   "outputs": [
    {
     "data": {
      "text/plain": [
       "'add(mul(ARG20, protected_div(protected_div(protected_div(ARG6, mul(ARG5, protected_div(protected_div(sub(mul(sub(protected_div(add(ARG2, ARG9), mul(ARG7, mul(ARG20, add(ARG13, ARG2)))), ARG6), ARG6), ARG2), sub(sub(ARG10, ARG18), ARG2)), ARG7))), ARG7), ARG18)), protected_div(sub(sub(sub(sub(mul(ARG18, ARG5), add(ARG8, ARG3)), protected_div(ARG13, ARG14)), ARG18), ARG0), sub(sub(ARG10, ARG18), ARG2)))'"
      ]
     },
     "execution_count": 77,
     "metadata": {},
     "output_type": "execute_result"
    }
   ],
   "source": [
    "str(hof[0])"
   ]
  },
  {
   "cell_type": "code",
   "execution_count": 78,
   "metadata": {},
   "outputs": [],
   "source": [
    "with open(\"deap_with_div_pop_2.pkl\", \"wb\") as deap_savefile:\n",
    "    pickle.dump(pop, deap_savefile)\n",
    "\n",
    "# saved with best of 9.043"
   ]
  },
  {
   "cell_type": "code",
   "execution_count": null,
   "metadata": {},
   "outputs": [],
   "source": []
  }
 ],
 "metadata": {
  "kernelspec": {
   "display_name": "base",
   "language": "python",
   "name": "python3"
  },
  "language_info": {
   "codemirror_mode": {
    "name": "ipython",
    "version": 3
   },
   "file_extension": ".py",
   "mimetype": "text/x-python",
   "name": "python",
   "nbconvert_exporter": "python",
   "pygments_lexer": "ipython3",
   "version": "3.9.13"
  },
  "orig_nbformat": 4
 },
 "nbformat": 4,
 "nbformat_minor": 2
}
