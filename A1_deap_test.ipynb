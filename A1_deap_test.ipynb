{
 "cells": [
  {
   "attachments": {},
   "cell_type": "markdown",
   "metadata": {},
   "source": [
    "**Imports**"
   ]
  },
  {
   "cell_type": "code",
   "execution_count": 1,
   "metadata": {},
   "outputs": [],
   "source": [
    "# Imports\n",
    "import pandas as pd\n",
    "import random\n",
    "import numpy as np\n",
    "from sklearn.model_selection import train_test_split"
   ]
  },
  {
   "attachments": {},
   "cell_type": "markdown",
   "metadata": {},
   "source": [
    "**Dataset imports**"
   ]
  },
  {
   "cell_type": "code",
   "execution_count": 2,
   "metadata": {},
   "outputs": [
    {
     "data": {
      "text/plain": [
       "Index(['Duration', 'Distance', 'Pickup_longitude', 'Pickup_latitude',\n",
       "       'Haversine', 'Pmonth', 'Pickup_day', 'Pickup_hour', 'Pickup_minute',\n",
       "       'Pickup_weekday', 'Dropoff_hour', 'Dropoff_minute', 'Temp', 'Precip',\n",
       "       'Wind', 'Humid', 'Solar', 'Snow', 'Dust'],\n",
       "      dtype='object')"
      ]
     },
     "execution_count": 2,
     "metadata": {},
     "output_type": "execute_result"
    }
   ],
   "source": [
    "# import dataset (cleaned)\n",
    "df = pd.read_csv(r'cleaned_data_simplified.csv', index_col=0)\n",
    "df.columns"
   ]
  },
  {
   "cell_type": "code",
   "execution_count": 3,
   "metadata": {},
   "outputs": [],
   "source": [
    "train_df, test_df = train_test_split(df, test_size=0.3)"
   ]
  },
  {
   "cell_type": "code",
   "execution_count": 4,
   "metadata": {},
   "outputs": [
    {
     "name": "stdout",
     "output_type": "stream",
     "text": [
      "['Duration' 'Distance' 'Pickup_longitude' 'Pickup_latitude' 'Haversine'\n",
      " 'Pmonth' 'Pickup_day' 'Pickup_hour' 'Pickup_minute' 'Pickup_weekday'\n",
      " 'Dropoff_hour' 'Dropoff_minute' 'Temp' 'Precip' 'Wind' 'Humid' 'Solar'\n",
      " 'Snow' 'Dust']\n"
     ]
    }
   ],
   "source": [
    "# Printing the column headings to better understand the features\n",
    "print(train_df.columns.values)"
   ]
  },
  {
   "cell_type": "code",
   "execution_count": 5,
   "metadata": {},
   "outputs": [
    {
     "data": {
      "text/plain": [
       "19"
      ]
     },
     "execution_count": 5,
     "metadata": {},
     "output_type": "execute_result"
    }
   ],
   "source": [
    "len(train_df.columns.values)"
   ]
  },
  {
   "cell_type": "code",
   "execution_count": 6,
   "metadata": {},
   "outputs": [],
   "source": [
    "from deap import gp, creator, base, tools, algorithms\n",
    "import operator"
   ]
  },
  {
   "cell_type": "code",
   "execution_count": 7,
   "metadata": {},
   "outputs": [],
   "source": [
    "def protected_div(x,y):\n",
    "    if y == 0:\n",
    "        return 1\n",
    "    else:\n",
    "        return x/y"
   ]
  },
  {
   "cell_type": "code",
   "execution_count": 8,
   "metadata": {},
   "outputs": [],
   "source": [
    "pset = gp.PrimitiveSet(\"MAIN\", 18)\n",
    "pset.addPrimitive(operator.add, 2)\n",
    "pset.addPrimitive(operator.sub, 2)\n",
    "pset.addPrimitive(operator.mul, 2)\n",
    "pset.addPrimitive(protected_div,2)\n",
    "# pset.addPrimitive(operator.pow, 2)\n",
    "\n",
    "creator.create(\"FitnessMin\", base.Fitness, weights=(-1.0,))\n",
    "creator.create(\"Individual\", gp.PrimitiveTree, fitness=creator.FitnessMin, pset=pset)"
   ]
  },
  {
   "cell_type": "code",
   "execution_count": 9,
   "metadata": {},
   "outputs": [],
   "source": [
    "# Toolbox setup\n",
    "toolbox = base.Toolbox()\n",
    "toolbox.register(\"expr\", gp.genHalfAndHalf, pset=pset, min_=1, max_=2)\n",
    "toolbox.register(\"individual\", tools.initIterate, creator.Individual, toolbox.expr)\n",
    "toolbox.register(\"population\", tools.initRepeat, list, toolbox.individual)\n",
    "toolbox.register(\"compile\", gp.compile, pset=pset)"
   ]
  },
  {
   "cell_type": "code",
   "execution_count": 16,
   "metadata": {},
   "outputs": [],
   "source": [
    "def eval_fitness(individual, dataset : pd.DataFrame):\n",
    "    func = toolbox.compile(expr=individual)\n",
    "    dataset.reset_index()\n",
    "\n",
    "    raw_fitness = 0\n",
    "\n",
    "    sample = dataset.sample(n=10000, random_state=10)\n",
    "\n",
    "    for index, row in sample.iterrows():\n",
    "        durations = row.get(\"Duration\")\n",
    "        distances = row.get(\"Distance\")\n",
    "        pickup_longs = row.get(\"Pickup_longitude\")\n",
    "        pickup_lats = row.get(\"Pickup_latitude\")\n",
    "        haversines = row.get(\"Haversine\")\n",
    "        pmonths = row.get(\"Pmonth\")\n",
    "        pdays = row.get(\"Pickup_day\")\n",
    "        phours = row.get(\"Pickup_hour\")\n",
    "        pmins = row.get(\"Pickup_minute\")\n",
    "        pweekdays = row.get(\"Pickup_weekday\")\n",
    "        dhours = row.get(\"Dropoff_hour\")\n",
    "        dmins = row.get(\"Dropoff_minute\")\n",
    "        temps = row.get(\"Temp\")\n",
    "        precips = row.get(\"Precip\")\n",
    "        winds = row.get(\"Wind\")\n",
    "        humids = row.get(\"Humid\")\n",
    "        solars = row.get(\"Solar\")\n",
    "        snows = row.get(\"Snow\")\n",
    "        dusts = row.get(\"Dust\")\n",
    "\n",
    "        estimate = func(distances, pickup_longs, pickup_lats,\n",
    "                        haversines,\n",
    "                        pmonths, pdays, phours, pmins,\n",
    "                        pweekdays, dhours, dmins, \n",
    "                        temps, precips, winds,\n",
    "                        humids, solars, snows, dusts)\n",
    "        \n",
    "        actual = durations\n",
    "\n",
    "        raw_fitness = raw_fitness + abs(actual - estimate)\n",
    "    \n",
    "    average_fitness = raw_fitness / len(sample)\n",
    "    # using average fitness to reward overall good even if it has one or two weird cases\n",
    "    return average_fitness,"
   ]
  },
  {
   "cell_type": "code",
   "execution_count": 17,
   "metadata": {},
   "outputs": [],
   "source": [
    "toolbox.register(\"evaluate\", eval_fitness, dataset=train_df)\n",
    "toolbox.register(\"select\", tools.selTournament, tournsize=10)\n",
    "toolbox.register(\"mate\", gp.cxOnePoint)\n",
    "toolbox.register(\"expr_mut\", gp.genFull, min_=0, max_=2)\n",
    "toolbox.register(\"mutate\", gp.mutUniform, expr=toolbox.expr_mut, pset=pset)\n",
    "\n",
    "toolbox.decorate(\"mate\", gp.staticLimit(key=operator.attrgetter(\"height\"), max_value=25))\n",
    "toolbox.decorate(\"mutate\", gp.staticLimit(key=operator.attrgetter(\"height\"), max_value=17))"
   ]
  },
  {
   "cell_type": "code",
   "execution_count": 18,
   "metadata": {},
   "outputs": [],
   "source": [
    "stats_fit = tools.Statistics(lambda ind: ind.fitness.values)\n",
    "stats_size = tools.Statistics(len)\n",
    "mstats = tools.MultiStatistics(fitness=stats_fit, size=stats_size)\n",
    "mstats.register(\"avg\", np.mean)\n",
    "mstats.register(\"std\", np.std)\n",
    "mstats.register(\"min\", np.min)\n",
    "mstats.register(\"max\", np.max)"
   ]
  },
  {
   "cell_type": "code",
   "execution_count": 20,
   "metadata": {},
   "outputs": [
    {
     "name": "stdout",
     "output_type": "stream",
     "text": [
      "gen\tnevals\tavg    \tstd    \tmin    \tmax    \n",
      "0  \t0     \t123.133\t564.555\t14.5201\t3715.46\n",
      "1  \t71    \t1047.18\t9313.45\t14.5201\t93585.2\n",
      "2  \t76    \t225.227\t733.766\t14.5197\t3637.52\n",
      "3  \t73    \t4776.63\t44488.5\t14.5197\t446820 \n",
      "4  \t64    \t12867.2\t119278 \t14.5197\t1.19745e+06\n",
      "5  \t70    \t129.462\t535.929\t14.5193\t3212.63    \n",
      "6  \t75    \t12096.4\t118081 \t14.5193\t1.1869e+06 \n",
      "7  \t83    \t475.026\t2376.77\t14.519 \t17977      \n",
      "8  \t79    \t176120 \t1.7351e+06\t14.5132\t1.74398e+07\n",
      "9  \t81    \t204.958\t757.107   \t13.5971\t4684.94    \n",
      "10 \t76    \t3142.73\t21116.2   \t13.5971\t184747     \n",
      "11 \t78    \t710.894\t3466.72   \t13.5971\t24334.7    \n",
      "12 \t80    \t1696.3 \t15655.6   \t13.5971\t157426     \n",
      "13 \t78    \t6377.08\t46250.6   \t13.5971\t451833     \n",
      "14 \t74    \t197.799\t690.533   \t13.5971\t4222.19    \n",
      "15 \t75    \t705.71 \t4724.15   \t13.5971\t46553.2    \n",
      "16 \t72    \t2724.65\t23653.2   \t13.5971\t236818     \n",
      "17 \t74    \t1647.22\t10350.3   \t13.5971\t93585.3    \n",
      "18 \t79    \t637102 \t6.32431e+06\t13.5971\t6.35631e+07\n",
      "19 \t77    \t532.591\t2523.52    \t13.5971\t23321.5    \n",
      "20 \t76    \t3938.6 \t21258      \t13.5971\t175417     \n"
     ]
    }
   ],
   "source": [
    "pop = toolbox.population(n=100)\n",
    "hof = tools.HallOfFame(1)\n",
    "pop, log = algorithms.eaSimple(pop, toolbox, cxpb=0.6, mutpb=0.4, stats=stats_fit,\n",
    "                                   halloffame=hof, verbose=True, ngen=20)"
   ]
  },
  {
   "cell_type": "code",
   "execution_count": 15,
   "metadata": {},
   "outputs": [
    {
     "data": {
      "text/plain": [
       "'add(ARG4, sub(mul(ARG3, ARG3), mul(ARG16, ARG16)))'"
      ]
     },
     "execution_count": 15,
     "metadata": {},
     "output_type": "execute_result"
    }
   ],
   "source": [
    "str(hof[0])"
   ]
  },
  {
   "cell_type": "code",
   "execution_count": 21,
   "metadata": {},
   "outputs": [],
   "source": [
    "import pickle\n",
    "checkpoint = dict(population=pop, generation=10, halloffame=hof,\n",
    "                      logbook=log, rndstate=10)\n",
    "\n",
    "with open(\"deap_report_model.pkl\", \"wb\") as cp_file:\n",
    "    pickle.dump(checkpoint, cp_file)"
   ]
  },
  {
   "attachments": {},
   "cell_type": "markdown",
   "metadata": {},
   "source": [
    "**ABOVE USED FOR ACTUAL REPORT, BELOW IS FOR OWN USE**"
   ]
  },
  {
   "cell_type": "code",
   "execution_count": 58,
   "metadata": {},
   "outputs": [
    {
     "name": "stdout",
     "output_type": "stream",
     "text": [
      "gen\tnevals\tavg   \tmin    \n",
      "0  \t100   \t2454.2\t8.82621\n",
      "1  \t76    \t2215.3\t8.82621\n",
      "2  \t81    \t1464.46\t8.82621\n",
      "3  \t73    \t7381.15\t8.77462\n",
      "4  \t77    \t5014.73\t8.50087\n",
      "5  \t72    \t394.931\t8.46374\n",
      "6  \t84    \t4540.87\t7.93321\n",
      "7  \t82    \t4747.42\t7.93321\n",
      "8  \t79    \t218.961\t7.75871\n",
      "9  \t80    \t600.488\t7.75391\n",
      "10 \t68    \t739.138\t7.71315\n",
      "11 \t76    \t2099.35\t7.59096\n",
      "12 \t80    \t1653.9 \t7.58504\n",
      "13 \t66    \t469325 \t7.57819\n",
      "14 \t69    \t93.7175\t7.57819\n",
      "15 \t76    \t184.956\t7.54628\n",
      "16 \t77    \t4033.83\t7.52595\n",
      "17 \t75    \t4912.86\t7.52595\n",
      "18 \t66    \t559.089\t7.45965\n",
      "19 \t68    \t177.944\t7.40844\n",
      "20 \t77    \t107.059\t7.40844\n"
     ]
    }
   ],
   "source": [
    "pop = toolbox.population(n=100)\n",
    "hof = tools.HallOfFame(1)\n",
    "pop, log = algorithms.eaSimple(pop, toolbox, cxpb=0.6, mutpb=0.4, stats=stats_fit,\n",
    "                                   halloffame=hof, verbose=True, ngen=20)"
   ]
  },
  {
   "cell_type": "code",
   "execution_count": 59,
   "metadata": {},
   "outputs": [
    {
     "data": {
      "text/plain": [
       "'protected_div(sub(sub(sub(ARG0, ARG4), mul(sub(ARG1, ARG16), mul(ARG4, ARG3))), sub(mul(sub(mul(ARG4, ARG3), ARG15), ARG3), ARG11)), ARG2)'"
      ]
     },
     "execution_count": 59,
     "metadata": {},
     "output_type": "execute_result"
    }
   ],
   "source": [
    "str(hof[0])"
   ]
  },
  {
   "cell_type": "code",
   "execution_count": 60,
   "metadata": {},
   "outputs": [
    {
     "name": "stdout",
     "output_type": "stream",
     "text": [
      "gen\tnevals\tavg    \tmin    \n",
      "0  \t0     \t107.059\t7.40844\n",
      "1  \t72    \t1271.09\t7.40844\n",
      "2  \t73    \t1479.74\t7.34972\n",
      "3  \t84    \t131.247\t7.32959\n",
      "4  \t82    \t390.82 \t7.32959\n",
      "5  \t84    \t85.1676\t7.32959\n",
      "6  \t64    \t177.55 \t7.32135\n",
      "7  \t83    \t111383 \t7.32135\n",
      "8  \t79    \t28.6044\t7.31718\n",
      "9  \t72    \t39.4054\t7.31718\n",
      "10 \t81    \t236.228\t7.25117\n",
      "11 \t74    \t7543.3 \t7.25117\n",
      "12 \t77    \t1.88899e+06\t7.2399 \n",
      "13 \t77    \t78.6997    \t7.2399 \n",
      "14 \t77    \t119.711    \t7.21941\n",
      "15 \t91    \t476.803    \t7.19738\n",
      "16 \t84    \t12491.9    \t7.19738\n",
      "17 \t84    \t240.285    \t7.19577\n",
      "18 \t83    \t11281.5    \t7.19517\n",
      "19 \t79    \t837.624    \t7.18608\n",
      "20 \t81    \t496802     \t7.17706\n"
     ]
    }
   ],
   "source": [
    "# clearly not complete, let's keep going\n",
    "\n",
    "pop, log = algorithms.eaSimple(pop, toolbox, cxpb=0.7, mutpb=0.3, stats=stats_fit,\n",
    "                                   halloffame=hof, verbose=True, ngen=20)"
   ]
  },
  {
   "cell_type": "code",
   "execution_count": 37,
   "metadata": {},
   "outputs": [
    {
     "data": {
      "text/plain": [
       "'sub(add(mul(ARG3, ARG3), ARG6), protected_div(add(sub(add(ARG11, ARG2), mul(ARG8, ARG3)), ARG6), mul(ARG3, ARG1)))'"
      ]
     },
     "execution_count": 37,
     "metadata": {},
     "output_type": "execute_result"
    }
   ],
   "source": [
    "str(hof[0])"
   ]
  },
  {
   "cell_type": "code",
   "execution_count": 22,
   "metadata": {},
   "outputs": [
    {
     "name": "stdout",
     "output_type": "stream",
     "text": [
      "gen\tnevals\tavg    \tmin    \n",
      "0  \t100   \t421.491\t9.06984\n",
      "1  \t80    \t82.7819\t13.3953\n",
      "2  \t68    \t101.196\t13.3953\n",
      "3  \t84    \t5620.99\t13.3953\n",
      "4  \t74    \t2598.9 \t13.3953\n",
      "5  \t69    \t12279.7\t13.3953\n",
      "6  \t81    \t160.194\t13.3953\n",
      "7  \t76    \t3071.2 \t13.3953\n",
      "8  \t82    \t4478.93\t13.3953\n",
      "9  \t67    \t141.106\t13.3953\n",
      "10 \t86    \t605.612\t13.3953\n",
      "11 \t72    \t7248.42\t13.3953\n",
      "12 \t73    \t1640.14\t13.3953\n"
     ]
    },
    {
     "ename": "KeyboardInterrupt",
     "evalue": "",
     "output_type": "error",
     "traceback": [
      "\u001b[1;31m---------------------------------------------------------------------------\u001b[0m",
      "\u001b[1;31mKeyboardInterrupt\u001b[0m                         Traceback (most recent call last)",
      "\u001b[1;32m~\\AppData\\Local\\Temp\\ipykernel_4912\\2207399385.py\u001b[0m in \u001b[0;36m<module>\u001b[1;34m\u001b[0m\n\u001b[0;32m      1\u001b[0m \u001b[0mpop\u001b[0m \u001b[1;33m=\u001b[0m \u001b[0mtoolbox\u001b[0m\u001b[1;33m.\u001b[0m\u001b[0mpopulation\u001b[0m\u001b[1;33m(\u001b[0m\u001b[0mn\u001b[0m\u001b[1;33m=\u001b[0m\u001b[1;36m100\u001b[0m\u001b[1;33m)\u001b[0m\u001b[1;33m\u001b[0m\u001b[1;33m\u001b[0m\u001b[0m\n\u001b[0;32m      2\u001b[0m \u001b[0mhof\u001b[0m \u001b[1;33m=\u001b[0m \u001b[0mtools\u001b[0m\u001b[1;33m.\u001b[0m\u001b[0mHallOfFame\u001b[0m\u001b[1;33m(\u001b[0m\u001b[1;36m1\u001b[0m\u001b[1;33m)\u001b[0m\u001b[1;33m\u001b[0m\u001b[1;33m\u001b[0m\u001b[0m\n\u001b[1;32m----> 3\u001b[1;33m pop, log = algorithms.eaSimple(pop, toolbox, cxpb=0.6, mutpb=0.4, stats=stats_fit,\n\u001b[0m\u001b[0;32m      4\u001b[0m                                    halloffame=hof, verbose=True, ngen=50)\n",
      "\u001b[1;32mc:\\Users\\david\\anaconda3\\lib\\site-packages\\deap\\algorithms.py\u001b[0m in \u001b[0;36meaSimple\u001b[1;34m(population, toolbox, cxpb, mutpb, ngen, stats, halloffame, verbose)\u001b[0m\n\u001b[0;32m    171\u001b[0m         \u001b[0minvalid_ind\u001b[0m \u001b[1;33m=\u001b[0m \u001b[1;33m[\u001b[0m\u001b[0mind\u001b[0m \u001b[1;32mfor\u001b[0m \u001b[0mind\u001b[0m \u001b[1;32min\u001b[0m \u001b[0moffspring\u001b[0m \u001b[1;32mif\u001b[0m \u001b[1;32mnot\u001b[0m \u001b[0mind\u001b[0m\u001b[1;33m.\u001b[0m\u001b[0mfitness\u001b[0m\u001b[1;33m.\u001b[0m\u001b[0mvalid\u001b[0m\u001b[1;33m]\u001b[0m\u001b[1;33m\u001b[0m\u001b[1;33m\u001b[0m\u001b[0m\n\u001b[0;32m    172\u001b[0m         \u001b[0mfitnesses\u001b[0m \u001b[1;33m=\u001b[0m \u001b[0mtoolbox\u001b[0m\u001b[1;33m.\u001b[0m\u001b[0mmap\u001b[0m\u001b[1;33m(\u001b[0m\u001b[0mtoolbox\u001b[0m\u001b[1;33m.\u001b[0m\u001b[0mevaluate\u001b[0m\u001b[1;33m,\u001b[0m \u001b[0minvalid_ind\u001b[0m\u001b[1;33m)\u001b[0m\u001b[1;33m\u001b[0m\u001b[1;33m\u001b[0m\u001b[0m\n\u001b[1;32m--> 173\u001b[1;33m         \u001b[1;32mfor\u001b[0m \u001b[0mind\u001b[0m\u001b[1;33m,\u001b[0m \u001b[0mfit\u001b[0m \u001b[1;32min\u001b[0m \u001b[0mzip\u001b[0m\u001b[1;33m(\u001b[0m\u001b[0minvalid_ind\u001b[0m\u001b[1;33m,\u001b[0m \u001b[0mfitnesses\u001b[0m\u001b[1;33m)\u001b[0m\u001b[1;33m:\u001b[0m\u001b[1;33m\u001b[0m\u001b[1;33m\u001b[0m\u001b[0m\n\u001b[0m\u001b[0;32m    174\u001b[0m             \u001b[0mind\u001b[0m\u001b[1;33m.\u001b[0m\u001b[0mfitness\u001b[0m\u001b[1;33m.\u001b[0m\u001b[0mvalues\u001b[0m \u001b[1;33m=\u001b[0m \u001b[0mfit\u001b[0m\u001b[1;33m\u001b[0m\u001b[1;33m\u001b[0m\u001b[0m\n\u001b[0;32m    175\u001b[0m \u001b[1;33m\u001b[0m\u001b[0m\n",
      "\u001b[1;32m~\\AppData\\Local\\Temp\\ipykernel_4912\\3952424919.py\u001b[0m in \u001b[0;36meval_fitness\u001b[1;34m(individual, dataset)\u001b[0m\n\u001b[0;32m      6\u001b[0m     \u001b[0mraw_fitness\u001b[0m \u001b[1;33m=\u001b[0m \u001b[1;36m0\u001b[0m\u001b[1;33m\u001b[0m\u001b[1;33m\u001b[0m\u001b[0m\n\u001b[0;32m      7\u001b[0m \u001b[1;33m\u001b[0m\u001b[0m\n\u001b[1;32m----> 8\u001b[1;33m     \u001b[1;32mfor\u001b[0m \u001b[0mindex\u001b[0m\u001b[1;33m,\u001b[0m \u001b[0mrow\u001b[0m \u001b[1;32min\u001b[0m \u001b[0mdataset\u001b[0m\u001b[1;33m.\u001b[0m\u001b[0miterrows\u001b[0m\u001b[1;33m(\u001b[0m\u001b[1;33m)\u001b[0m\u001b[1;33m:\u001b[0m\u001b[1;33m\u001b[0m\u001b[1;33m\u001b[0m\u001b[0m\n\u001b[0m\u001b[0;32m      9\u001b[0m         \u001b[0mdurations\u001b[0m \u001b[1;33m=\u001b[0m \u001b[0mrow\u001b[0m\u001b[1;33m.\u001b[0m\u001b[0mget\u001b[0m\u001b[1;33m(\u001b[0m\u001b[1;34m\"Duration\"\u001b[0m\u001b[1;33m)\u001b[0m\u001b[1;33m\u001b[0m\u001b[1;33m\u001b[0m\u001b[0m\n\u001b[0;32m     10\u001b[0m         \u001b[0mdistances\u001b[0m \u001b[1;33m=\u001b[0m \u001b[0mrow\u001b[0m\u001b[1;33m.\u001b[0m\u001b[0mget\u001b[0m\u001b[1;33m(\u001b[0m\u001b[1;34m\"Distance\"\u001b[0m\u001b[1;33m)\u001b[0m\u001b[1;33m\u001b[0m\u001b[1;33m\u001b[0m\u001b[0m\n",
      "\u001b[1;32mc:\\Users\\david\\anaconda3\\lib\\site-packages\\pandas\\core\\frame.py\u001b[0m in \u001b[0;36miterrows\u001b[1;34m(self)\u001b[0m\n\u001b[0;32m   1322\u001b[0m         \u001b[0mklass\u001b[0m \u001b[1;33m=\u001b[0m \u001b[0mself\u001b[0m\u001b[1;33m.\u001b[0m\u001b[0m_constructor_sliced\u001b[0m\u001b[1;33m\u001b[0m\u001b[1;33m\u001b[0m\u001b[0m\n\u001b[0;32m   1323\u001b[0m         \u001b[1;32mfor\u001b[0m \u001b[0mk\u001b[0m\u001b[1;33m,\u001b[0m \u001b[0mv\u001b[0m \u001b[1;32min\u001b[0m \u001b[0mzip\u001b[0m\u001b[1;33m(\u001b[0m\u001b[0mself\u001b[0m\u001b[1;33m.\u001b[0m\u001b[0mindex\u001b[0m\u001b[1;33m,\u001b[0m \u001b[0mself\u001b[0m\u001b[1;33m.\u001b[0m\u001b[0mvalues\u001b[0m\u001b[1;33m)\u001b[0m\u001b[1;33m:\u001b[0m\u001b[1;33m\u001b[0m\u001b[1;33m\u001b[0m\u001b[0m\n\u001b[1;32m-> 1324\u001b[1;33m             \u001b[0ms\u001b[0m \u001b[1;33m=\u001b[0m \u001b[0mklass\u001b[0m\u001b[1;33m(\u001b[0m\u001b[0mv\u001b[0m\u001b[1;33m,\u001b[0m \u001b[0mindex\u001b[0m\u001b[1;33m=\u001b[0m\u001b[0mcolumns\u001b[0m\u001b[1;33m,\u001b[0m \u001b[0mname\u001b[0m\u001b[1;33m=\u001b[0m\u001b[0mk\u001b[0m\u001b[1;33m)\u001b[0m\u001b[1;33m\u001b[0m\u001b[1;33m\u001b[0m\u001b[0m\n\u001b[0m\u001b[0;32m   1325\u001b[0m             \u001b[1;32myield\u001b[0m \u001b[0mk\u001b[0m\u001b[1;33m,\u001b[0m \u001b[0ms\u001b[0m\u001b[1;33m\u001b[0m\u001b[1;33m\u001b[0m\u001b[0m\n\u001b[0;32m   1326\u001b[0m \u001b[1;33m\u001b[0m\u001b[0m\n",
      "\u001b[1;32mc:\\Users\\david\\anaconda3\\lib\\site-packages\\pandas\\core\\series.py\u001b[0m in \u001b[0;36m__init__\u001b[1;34m(self, data, index, dtype, name, copy, fastpath)\u001b[0m\n\u001b[0;32m    363\u001b[0m         \u001b[1;32melse\u001b[0m\u001b[1;33m:\u001b[0m\u001b[1;33m\u001b[0m\u001b[1;33m\u001b[0m\u001b[0m\n\u001b[0;32m    364\u001b[0m \u001b[1;33m\u001b[0m\u001b[0m\n\u001b[1;32m--> 365\u001b[1;33m             \u001b[0mname\u001b[0m \u001b[1;33m=\u001b[0m \u001b[0mibase\u001b[0m\u001b[1;33m.\u001b[0m\u001b[0mmaybe_extract_name\u001b[0m\u001b[1;33m(\u001b[0m\u001b[0mname\u001b[0m\u001b[1;33m,\u001b[0m \u001b[0mdata\u001b[0m\u001b[1;33m,\u001b[0m \u001b[0mtype\u001b[0m\u001b[1;33m(\u001b[0m\u001b[0mself\u001b[0m\u001b[1;33m)\u001b[0m\u001b[1;33m)\u001b[0m\u001b[1;33m\u001b[0m\u001b[1;33m\u001b[0m\u001b[0m\n\u001b[0m\u001b[0;32m    366\u001b[0m \u001b[1;33m\u001b[0m\u001b[0m\n\u001b[0;32m    367\u001b[0m             \u001b[1;32mif\u001b[0m \u001b[0mis_empty_data\u001b[0m\u001b[1;33m(\u001b[0m\u001b[0mdata\u001b[0m\u001b[1;33m)\u001b[0m \u001b[1;32mand\u001b[0m \u001b[0mdtype\u001b[0m \u001b[1;32mis\u001b[0m \u001b[1;32mNone\u001b[0m\u001b[1;33m:\u001b[0m\u001b[1;33m\u001b[0m\u001b[1;33m\u001b[0m\u001b[0m\n",
      "\u001b[1;31mKeyboardInterrupt\u001b[0m: "
     ]
    }
   ],
   "source": [
    "pop = toolbox.population(n=100)\n",
    "hof = tools.HallOfFame(1)\n",
    "pop, log = algorithms.eaSimple(pop, toolbox, cxpb=0.6, mutpb=0.4, stats=stats_fit,\n",
    "                                   halloffame=hof, verbose=True, ngen=50)"
   ]
  },
  {
   "cell_type": "code",
   "execution_count": 17,
   "metadata": {},
   "outputs": [],
   "source": [
    "import pickle"
   ]
  },
  {
   "cell_type": "code",
   "execution_count": 63,
   "metadata": {},
   "outputs": [],
   "source": [
    "with open(\"deap_with_div_pop_2.pkl\", \"wb\") as deap_savefile:\n",
    "    pickle.dump(pop, deap_savefile)\n",
    "\n",
    "# saved with best of 7.whateverthehell"
   ]
  }
 ],
 "metadata": {
  "kernelspec": {
   "display_name": "base",
   "language": "python",
   "name": "python3"
  },
  "language_info": {
   "codemirror_mode": {
    "name": "ipython",
    "version": 3
   },
   "file_extension": ".py",
   "mimetype": "text/x-python",
   "name": "python",
   "nbconvert_exporter": "python",
   "pygments_lexer": "ipython3",
   "version": "3.9.13"
  },
  "orig_nbformat": 4
 },
 "nbformat": 4,
 "nbformat_minor": 2
}
