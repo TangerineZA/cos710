{
 "cells": [
  {
   "attachments": {},
   "cell_type": "markdown",
   "metadata": {},
   "source": [
    "**Imports**"
   ]
  },
  {
   "cell_type": "code",
   "execution_count": 1,
   "metadata": {},
   "outputs": [],
   "source": [
    "# Imports\n",
    "import pandas as pd\n",
    "import random\n",
    "import numpy as np"
   ]
  },
  {
   "attachments": {},
   "cell_type": "markdown",
   "metadata": {},
   "source": [
    "**Dataset imports**"
   ]
  },
  {
   "cell_type": "code",
   "execution_count": 2,
   "metadata": {},
   "outputs": [
    {
     "name": "stdout",
     "output_type": "stream",
     "text": [
      "['Duration' 'Distance' 'Pickup_longitude' 'Pickup_latitude'\n",
      " 'Dropoff_latitude' 'Dropoff_latitude.1' 'Haversine' 'Pmonth' 'Pickup_day'\n",
      " 'Pickup_hour' 'Pickup_minute' 'Pickup_weekday' 'Dropoff_month'\n",
      " 'Dropoff_day' 'Dropoff_hour' 'Dropoff_minute' 'Dropoff_weekday' 'Temp'\n",
      " 'Precip' 'Wind' 'Humid' 'Solar' 'Snow' 'GroundTemp' 'Dust']\n"
     ]
    }
   ],
   "source": [
    "train_df = pd.read_csv(r'training.csv')\n",
    "test_df = pd.read_csv(r'testing.csv')\n",
    "# Printing the column headings to better understand the features\n",
    "print(train_df.columns.values)"
   ]
  },
  {
   "cell_type": "code",
   "execution_count": 3,
   "metadata": {},
   "outputs": [
    {
     "data": {
      "text/plain": [
       "25"
      ]
     },
     "execution_count": 3,
     "metadata": {},
     "output_type": "execute_result"
    }
   ],
   "source": [
    "len(train_df.columns.values)"
   ]
  },
  {
   "cell_type": "code",
   "execution_count": 44,
   "metadata": {},
   "outputs": [],
   "source": [
    "from deap import gp, creator, base, tools, algorithms\n",
    "import operator"
   ]
  },
  {
   "cell_type": "code",
   "execution_count": 56,
   "metadata": {},
   "outputs": [
    {
     "name": "stderr",
     "output_type": "stream",
     "text": [
      "c:\\Users\\david\\anaconda3\\lib\\site-packages\\deap\\creator.py:138: RuntimeWarning: A class named 'FitnessMin' has already been created and it will be overwritten. Consider deleting previous creation of that class or rename it.\n",
      "  warnings.warn(\"A class named '{0}' has already been created and it \"\n",
      "c:\\Users\\david\\anaconda3\\lib\\site-packages\\deap\\creator.py:138: RuntimeWarning: A class named 'Individual' has already been created and it will be overwritten. Consider deleting previous creation of that class or rename it.\n",
      "  warnings.warn(\"A class named '{0}' has already been created and it \"\n"
     ]
    }
   ],
   "source": [
    "def protectedDiv(x,y):\n",
    "    try:\n",
    "        return x/y\n",
    "    except ZeroDivisionError:\n",
    "        return 1\n",
    "\n",
    "pset = gp.PrimitiveSet(\"MAIN\", 23)\n",
    "pset.addPrimitive(operator.add, 2)\n",
    "pset.addPrimitive(operator.sub, 2)\n",
    "pset.addPrimitive(operator.mul, 2)\n",
    "# pset.addPrimitive(protectedDiv, 2)\n",
    "# pset.addPrimitive(operator.neg, 1)\n",
    "\n",
    "creator.create(\"FitnessMin\", base.Fitness, weights=(-1.0,))\n",
    "creator.create(\"Individual\", gp.PrimitiveTree, fitness=creator.FitnessMin, pset=pset)"
   ]
  },
  {
   "cell_type": "code",
   "execution_count": 57,
   "metadata": {},
   "outputs": [],
   "source": [
    "# Toolbox setup\n",
    "toolbox = base.Toolbox()\n",
    "toolbox.register(\"expr\", gp.genHalfAndHalf, pset=pset, min_=1, max_=2)\n",
    "toolbox.register(\"individual\", tools.initIterate, creator.Individual, toolbox.expr)\n",
    "toolbox.register(\"population\", tools.initRepeat, list, toolbox.individual)\n",
    "toolbox.register(\"compile\", gp.compile, pset=pset)"
   ]
  },
  {
   "cell_type": "code",
   "execution_count": 58,
   "metadata": {},
   "outputs": [],
   "source": [
    "def fitness_function(individual):\n",
    "    # print(\"evaluating fitness...\")\n",
    "    # print(\"individual:\")\n",
    "    # print(type(individual))\n",
    "    trip_sample = train_df.sample(100, ignore_index=True, random_state=10)\n",
    "\n",
    "    # print(trip_sample.columns.values)\n",
    "\n",
    "    # break into iteratable arrays\n",
    "    durations = trip_sample.loc[:,\"Duration\"]\n",
    "    distances = trip_sample.loc[:,\"Distance\"]\n",
    "    pickup_longs = trip_sample.loc[:,\"Pickup_longitude\"]\n",
    "    pickup_lats = trip_sample.loc[:,\"Pickup_latitude\"]\n",
    "    dropoff_longs = trip_sample.loc[:,\"Dropoff_latitude.1\"]\n",
    "    dropoff_lats = trip_sample.loc[:,\"Dropoff_latitude\"]\n",
    "    haversines = trip_sample.loc[:,\"Haversine\"]\n",
    "    pmonths = trip_sample.loc[:,\"Pmonth\"]\n",
    "    pdays = trip_sample.loc[:,\"Pickup_day\"]\n",
    "    phours = trip_sample.loc[:,\"Pickup_hour\"]\n",
    "    pmins = trip_sample.loc[:,\"Pickup_minute\"]\n",
    "    pweekdays = trip_sample.loc[:,\"Pickup_weekday\"]\n",
    "    ddays = trip_sample.loc[:,\"Dropoff_day\"]\n",
    "    dhours = trip_sample.loc[:,\"Dropoff_hour\"]\n",
    "    dmins = trip_sample.loc[:,\"Dropoff_minute\"]\n",
    "    dweekdays = trip_sample.loc[:,\"Dropoff_weekday\"]\n",
    "    temps = trip_sample.loc[:,\"Temp\"]\n",
    "    precips = trip_sample.loc[:,\"Precip\"]\n",
    "    winds = trip_sample.loc[:,\"Wind\"]\n",
    "    humids = trip_sample.loc[:,\"Humid\"]\n",
    "    solars = trip_sample.loc[:,\"Solar\"]\n",
    "    snows = trip_sample.loc[:,\"Snow\"]\n",
    "    groundtemps = trip_sample.loc[:,\"GroundTemp\"]\n",
    "    dusts = trip_sample.loc[:,\"Dust\"]\n",
    "\n",
    "    func = toolbox.compile(expr=individual)\n",
    "    # print(\"function compiled\")\n",
    "    fitness = 0\n",
    "    for i in range(len(trip_sample)):\n",
    "        # print(\"fitness eval loop run \" + str(i))\n",
    "        # PSUEDOCODE: individual_fitness = abs(correct_duration - calculated_duration)\n",
    "        # PSEUDOCODE: fitness = fitness + individual_fitness\n",
    "        sample_row = trip_sample.iloc[[i]]\n",
    "        # print(\"sample row: \" + str(type(sample_row)))\n",
    "        sample_features = sample_row.drop(\"Duration\",axis=1)\n",
    "        # print(\"sample features: \" + str(type(sample_features)))\n",
    "\n",
    "        correct_duration = durations[i]\n",
    "        # print(\"correct duration for item \" + str(i) + \" is \" + str(correct_duration))\n",
    "        calculated_duration = func(\n",
    "            distances[i], pickup_longs[i], pickup_lats[i], dropoff_longs[i], dropoff_lats[i],\n",
    "            haversines[i], pmonths[i], pdays[i], phours[i], pmins[i], pweekdays[i], ddays[i],\n",
    "            dhours[i], dmins[i], dweekdays[i], temps[i], precips[i], winds[i], humids[i], solars[i],\n",
    "            snows[i], groundtemps[i], dusts[i]\n",
    "        )\n",
    "        # print(\"calculated duration for item \" + str(i) + \" is \" + str(calculated_duration))\n",
    "\n",
    "        individual_fitness = abs(correct_duration - calculated_duration)\n",
    "        fitness = fitness + individual_fitness\n",
    "    # print(\"Fitness: \" + str(fitness))\n",
    "    return fitness,"
   ]
  },
  {
   "cell_type": "code",
   "execution_count": 59,
   "metadata": {},
   "outputs": [],
   "source": [
    "toolbox.register(\"evaluate\", fitness_function)\n",
    "toolbox.register(\"select\", tools.selTournament, tournsize=3)\n",
    "toolbox.register(\"mate\", gp.cxOnePoint)\n",
    "toolbox.register(\"expr_mut\", gp.genFull, min_=0, max_=2)\n",
    "toolbox.register(\"mutate\", gp.mutUniform, expr=toolbox.expr_mut, pset=pset)\n",
    "\n",
    "toolbox.decorate(\"mate\", gp.staticLimit(key=operator.attrgetter(\"height\"), max_value=17))\n",
    "toolbox.decorate(\"mutate\", gp.staticLimit(key=operator.attrgetter(\"height\"), max_value=17))"
   ]
  },
  {
   "cell_type": "code",
   "execution_count": 60,
   "metadata": {},
   "outputs": [],
   "source": [
    "stats_fit = tools.Statistics(lambda ind: ind.fitness.values)\n",
    "stats_size = tools.Statistics(len)\n",
    "mstats = tools.MultiStatistics(fitness=stats_fit, size=stats_size)\n",
    "mstats.register(\"avg\", np.mean)\n",
    "mstats.register(\"std\", np.std)\n",
    "mstats.register(\"min\", np.min)\n",
    "mstats.register(\"max\", np.max)"
   ]
  },
  {
   "cell_type": "code",
   "execution_count": 62,
   "metadata": {},
   "outputs": [
    {
     "name": "stdout",
     "output_type": "stream",
     "text": [
      "   \t      \t                       fitness                        \t                      size                     \n",
      "   \t      \t------------------------------------------------------\t-----------------------------------------------\n",
      "gen\tnevals\tavg   \tgen\tmax        \tmin    \tnevals\tstd   \tavg \tgen\tmax\tmin\tnevals\tstd    \n",
      "0  \t100   \t282036\t0  \t5.64092e+06\t1624.56\t100   \t974230\t4.16\t0  \t7  \t3  \t100   \t1.74768\n",
      "1  \t67    \t7.60328e+06\t1  \t6.77078e+08\t1624.56\t67    \t6.74988e+07\t4.88\t1  \t13 \t1  \t67    \t2.78309\n",
      "2  \t76    \t497238     \t2  \t1.69907e+07\t1672   \t76    \t2.39089e+06\t5.14\t2  \t15 \t1  \t76    \t3.03651\n",
      "3  \t83    \t371127     \t3  \t2.41596e+07\t1651   \t83    \t2.49225e+06\t4.44\t3  \t13 \t1  \t83    \t3.1123 \n",
      "4  \t80    \t148505     \t4  \t1.37092e+07\t1649   \t80    \t1.36352e+06\t4.6 \t4  \t13 \t1  \t80    \t3.29848\n",
      "5  \t80    \t168615     \t5  \t9.15631e+06\t1649   \t80    \t1.05557e+06\t4.58\t5  \t13 \t1  \t80    \t3.08927\n",
      "6  \t74    \t2.35089e+07\t6  \t2.34778e+09\t1649   \t74    \t2.33598e+08\t4.44\t6  \t17 \t1  \t74    \t3.00772\n",
      "7  \t78    \t521669     \t7  \t4.27163e+07\t1624.56\t78    \t4.27613e+06\t4.04\t7  \t11 \t1  \t78    \t2.59969\n",
      "8  \t83    \t132077     \t8  \t1.0242e+07 \t1624.56\t83    \t1.02595e+06\t4.52\t8  \t13 \t1  \t83    \t2.77301\n",
      "9  \t75    \t29829.5    \t9  \t1.40369e+06\t1645.56\t75    \t149227     \t4.62\t9  \t13 \t1  \t75    \t3.02913\n",
      "10 \t82    \t6.74883e+07\t10 \t6.65672e+09\t1624.56\t82    \t6.62271e+08\t4.32\t10 \t13 \t1  \t82    \t2.73086\n",
      "11 \t81    \t4.20196e+06\t11 \t4.0339e+08 \t1645.56\t81    \t4.01232e+07\t5.24\t11 \t19 \t1  \t81    \t3.51318\n",
      "12 \t66    \t7.46989e+06\t12 \t6.72089e+08\t1649   \t66    \t6.69785e+07\t5.9 \t12 \t19 \t1  \t66    \t3.46843\n",
      "13 \t80    \t1.3292e+06 \t13 \t1.28027e+08\t1645.56\t80    \t1.27351e+07\t5.56\t13 \t19 \t1  \t80    \t3.73181\n",
      "14 \t76    \t27182.8    \t14 \t1.24875e+06\t1649   \t76    \t131239     \t5.36\t14 \t19 \t1  \t76    \t3.50291\n",
      "15 \t79    \t2.91424e+08\t15 \t2.90746e+10\t1649   \t79    \t2.89282e+09\t5.78\t15 \t21 \t1  \t79    \t4.21326\n",
      "16 \t69    \t692725     \t16 \t4.56136e+07\t1649   \t69    \t4.83534e+06\t5.22\t16 \t19 \t1  \t69    \t3.50879\n",
      "17 \t74    \t326100     \t17 \t1.96648e+07\t1649   \t74    \t2.0716e+06 \t5.1 \t17 \t15 \t1  \t74    \t3.15436\n",
      "18 \t68    \t1.16294e+06\t18 \t1.02208e+08\t1649   \t68    \t1.01854e+07\t5.88\t18 \t21 \t1  \t68    \t4.22677\n",
      "19 \t76    \t98117.4    \t19 \t4.10412e+06\t1624.56\t76    \t502228     \t5.7 \t19 \t17 \t1  \t76    \t3.69188\n",
      "20 \t72    \t98910.4    \t20 \t6.49685e+06\t1624.56\t72    \t650393     \t5.24\t20 \t21 \t1  \t72    \t3.60311\n"
     ]
    }
   ],
   "source": [
    "pop = toolbox.population(n=100)\n",
    "hof = tools.HallOfFame(1)\n",
    "pop, log = algorithms.eaSimple(pop, toolbox, cxpb=0.5, mutpb=0.5, stats=mstats,\n",
    "                                   halloffame=hof, verbose=True, ngen=20)"
   ]
  },
  {
   "cell_type": "code",
   "execution_count": null,
   "metadata": {},
   "outputs": [],
   "source": []
  }
 ],
 "metadata": {
  "kernelspec": {
   "display_name": "base",
   "language": "python",
   "name": "python3"
  },
  "language_info": {
   "codemirror_mode": {
    "name": "ipython",
    "version": 3
   },
   "file_extension": ".py",
   "mimetype": "text/x-python",
   "name": "python",
   "nbconvert_exporter": "python",
   "pygments_lexer": "ipython3",
   "version": "3.9.13"
  },
  "orig_nbformat": 4
 },
 "nbformat": 4,
 "nbformat_minor": 2
}
