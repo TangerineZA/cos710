{
 "cells": [
  {
   "attachments": {},
   "cell_type": "markdown",
   "metadata": {},
   "source": [
    "**Imports**"
   ]
  },
  {
   "cell_type": "code",
   "execution_count": 21,
   "metadata": {},
   "outputs": [],
   "source": [
    "# Imports\n",
    "import pandas as pd\n",
    "import random\n",
    "import numpy as np\n",
    "from sklearn.model_selection import train_test_split"
   ]
  },
  {
   "attachments": {},
   "cell_type": "markdown",
   "metadata": {},
   "source": [
    "**Dataset imports**"
   ]
  },
  {
   "cell_type": "code",
   "execution_count": 22,
   "metadata": {},
   "outputs": [
    {
     "data": {
      "text/plain": [
       "Index(['Duration', 'Distance', 'Pickup_longitude', 'Pickup_latitude',\n",
       "       'Haversine', 'Pmonth', 'Pickup_day', 'Pickup_hour', 'Pickup_minute',\n",
       "       'Pickup_weekday', 'Dropoff_hour', 'Dropoff_minute', 'Temp', 'Precip',\n",
       "       'Wind', 'Humid', 'Solar', 'Snow', 'Dust'],\n",
       "      dtype='object')"
      ]
     },
     "execution_count": 22,
     "metadata": {},
     "output_type": "execute_result"
    }
   ],
   "source": [
    "# import dataset (cleaned)\n",
    "df = pd.read_csv(r'cleaned_data_simplified.csv', index_col=0)\n",
    "df.columns"
   ]
  },
  {
   "cell_type": "code",
   "execution_count": 23,
   "metadata": {},
   "outputs": [],
   "source": [
    "train_df, test_df = train_test_split(df, test_size=0.3)"
   ]
  },
  {
   "cell_type": "code",
   "execution_count": 24,
   "metadata": {},
   "outputs": [
    {
     "name": "stdout",
     "output_type": "stream",
     "text": [
      "['Duration' 'Distance' 'Pickup_longitude' 'Pickup_latitude' 'Haversine'\n",
      " 'Pmonth' 'Pickup_day' 'Pickup_hour' 'Pickup_minute' 'Pickup_weekday'\n",
      " 'Dropoff_hour' 'Dropoff_minute' 'Temp' 'Precip' 'Wind' 'Humid' 'Solar'\n",
      " 'Snow' 'Dust']\n"
     ]
    }
   ],
   "source": [
    "# Printing the column headings to better understand the features\n",
    "print(train_df.columns.values)"
   ]
  },
  {
   "cell_type": "code",
   "execution_count": 25,
   "metadata": {},
   "outputs": [
    {
     "data": {
      "text/plain": [
       "19"
      ]
     },
     "execution_count": 25,
     "metadata": {},
     "output_type": "execute_result"
    }
   ],
   "source": [
    "len(train_df.columns.values)"
   ]
  },
  {
   "cell_type": "code",
   "execution_count": 26,
   "metadata": {},
   "outputs": [],
   "source": [
    "from deap import gp, creator, base, tools, algorithms\n",
    "import operator"
   ]
  },
  {
   "cell_type": "code",
   "execution_count": 27,
   "metadata": {},
   "outputs": [],
   "source": [
    "def protected_div(x,y):\n",
    "    if y == 0:\n",
    "        return 1\n",
    "    else:\n",
    "        return x/y"
   ]
  },
  {
   "cell_type": "code",
   "execution_count": 28,
   "metadata": {},
   "outputs": [
    {
     "name": "stderr",
     "output_type": "stream",
     "text": [
      "c:\\Users\\david\\anaconda3\\lib\\site-packages\\deap\\creator.py:138: RuntimeWarning: A class named 'FitnessMin' has already been created and it will be overwritten. Consider deleting previous creation of that class or rename it.\n",
      "  warnings.warn(\"A class named '{0}' has already been created and it \"\n",
      "c:\\Users\\david\\anaconda3\\lib\\site-packages\\deap\\creator.py:138: RuntimeWarning: A class named 'Individual' has already been created and it will be overwritten. Consider deleting previous creation of that class or rename it.\n",
      "  warnings.warn(\"A class named '{0}' has already been created and it \"\n"
     ]
    }
   ],
   "source": [
    "pset = gp.PrimitiveSet(\"MAIN\", 18)\n",
    "pset.addPrimitive(operator.add, 2)\n",
    "pset.addPrimitive(operator.sub, 2)\n",
    "pset.addPrimitive(operator.mul, 2)\n",
    "pset.addPrimitive(protected_div,2)\n",
    "# pset.addPrimitive(operator.pow, 2)\n",
    "\n",
    "creator.create(\"FitnessMin\", base.Fitness, weights=(-1.0,))\n",
    "creator.create(\"Individual\", gp.PrimitiveTree, fitness=creator.FitnessMin, pset=pset)"
   ]
  },
  {
   "cell_type": "code",
   "execution_count": 29,
   "metadata": {},
   "outputs": [],
   "source": [
    "# Toolbox setup\n",
    "toolbox = base.Toolbox()\n",
    "toolbox.register(\"expr\", gp.genHalfAndHalf, pset=pset, min_=1, max_=2)\n",
    "toolbox.register(\"individual\", tools.initIterate, creator.Individual, toolbox.expr)\n",
    "toolbox.register(\"population\", tools.initRepeat, list, toolbox.individual)\n",
    "toolbox.register(\"compile\", gp.compile, pset=pset)"
   ]
  },
  {
   "cell_type": "code",
   "execution_count": 30,
   "metadata": {},
   "outputs": [],
   "source": [
    "def eval_fitness(individual, dataset):\n",
    "    func = toolbox.compile(expr=individual)\n",
    "    #print(\"Function compiled for individual!\")\n",
    "    dataset.reset_index()\n",
    "\n",
    "    raw_fitness = 0\n",
    "\n",
    "    for index, row in dataset.iterrows():\n",
    "        durations = row.get(\"Duration\")\n",
    "        distances = row.get(\"Distance\")\n",
    "        pickup_longs = row.get(\"Pickup_longitude\")\n",
    "        pickup_lats = row.get(\"Pickup_latitude\")\n",
    "        haversines = row.get(\"Haversine\")\n",
    "        pmonths = row.get(\"Pmonth\")\n",
    "        pdays = row.get(\"Pickup_day\")\n",
    "        phours = row.get(\"Pickup_hour\")\n",
    "        pmins = row.get(\"Pickup_minute\")\n",
    "        pweekdays = row.get(\"Pickup_weekday\")\n",
    "        dhours = row.get(\"Dropoff_hour\")\n",
    "        dmins = row.get(\"Dropoff_minute\")\n",
    "        temps = row.get(\"Temp\")\n",
    "        precips = row.get(\"Precip\")\n",
    "        winds = row.get(\"Wind\")\n",
    "        humids = row.get(\"Humid\")\n",
    "        solars = row.get(\"Solar\")\n",
    "        snows = row.get(\"Snow\")\n",
    "        dusts = row.get(\"Dust\")\n",
    "\n",
    "        estimate = func(distances, pickup_longs, pickup_lats,\n",
    "                        haversines,\n",
    "                        pmonths, pdays, phours, pmins,\n",
    "                        pweekdays, dhours, dmins, \n",
    "                        temps, precips, winds,\n",
    "                        humids, solars, snows, dusts)\n",
    "        \n",
    "        actual = durations\n",
    "\n",
    "        raw_fitness = raw_fitness + abs(actual - estimate)\n",
    "    \n",
    "    average_fitness = raw_fitness / len(dataset)\n",
    "    #print(\"Inividual fitness: \" + str(average_fitness))\n",
    "    # using average fitness to reward overall good even if it has one or two weird cases\n",
    "    return average_fitness,"
   ]
  },
  {
   "cell_type": "code",
   "execution_count": 31,
   "metadata": {},
   "outputs": [],
   "source": [
    "def fitness_function(individual):\n",
    "    # print(\"evaluating fitness...\")\n",
    "    # print(\"individual:\")\n",
    "    # print(type(individual))\n",
    "    trip_sample = train_df.sample(100, ignore_index=True, random_state=10)\n",
    "\n",
    "    # print(trip_sample.columns.values)\n",
    "\n",
    "    # break into iteratable arrays\n",
    "    durations = trip_sample.loc[:,\"Duration\"]\n",
    "    distances = trip_sample.loc[:,\"Distance\"]\n",
    "    pickup_longs = trip_sample.loc[:,\"Pickup_longitude\"]\n",
    "    pickup_lats = trip_sample.loc[:,\"Pickup_latitude\"]\n",
    "    dropoff_longs = trip_sample.loc[:,\"Dropoff_latitude.1\"]\n",
    "    dropoff_lats = trip_sample.loc[:,\"Dropoff_latitude\"]\n",
    "    haversines = trip_sample.loc[:,\"Haversine\"]\n",
    "    pmonths = trip_sample.loc[:,\"Pmonth\"]\n",
    "    pdays = trip_sample.loc[:,\"Pickup_day\"]\n",
    "    phours = trip_sample.loc[:,\"Pickup_hour\"]\n",
    "    pmins = trip_sample.loc[:,\"Pickup_minute\"]\n",
    "    pweekdays = trip_sample.loc[:,\"Pickup_weekday\"]\n",
    "    ddays = trip_sample.loc[:,\"Dropoff_day\"]\n",
    "    dhours = trip_sample.loc[:,\"Dropoff_hour\"]\n",
    "    dmins = trip_sample.loc[:,\"Dropoff_minute\"]\n",
    "    dweekdays = trip_sample.loc[:,\"Dropoff_weekday\"]\n",
    "    temps = trip_sample.loc[:,\"Temp\"]\n",
    "    precips = trip_sample.loc[:,\"Precip\"]\n",
    "    winds = trip_sample.loc[:,\"Wind\"]\n",
    "    humids = trip_sample.loc[:,\"Humid\"]\n",
    "    solars = trip_sample.loc[:,\"Solar\"]\n",
    "    snows = trip_sample.loc[:,\"Snow\"]\n",
    "    groundtemps = trip_sample.loc[:,\"GroundTemp\"]\n",
    "    dusts = trip_sample.loc[:,\"Dust\"]\n",
    "    print(\"Compiling function...\")\n",
    "    func = toolbox.compile(expr=individual)\n",
    "    print(\"function compiled\")\n",
    "    fitness = 0\n",
    "    for i in range(len(trip_sample)):\n",
    "        # print(\"fitness eval loop run \" + str(i))\n",
    "        # PSUEDOCODE: individual_fitness = abs(correct_duration - calculated_duration)\n",
    "        # PSEUDOCODE: fitness = fitness + individual_fitness\n",
    "        sample_row = trip_sample.iloc[[i]]\n",
    "        # print(\"sample row: \" + str(type(sample_row)))\n",
    "        sample_features = sample_row.drop(\"Duration\",axis=1)\n",
    "        # print(\"sample features: \" + str(type(sample_features)))\n",
    "\n",
    "        correct_duration = durations[i]\n",
    "        # print(\"correct duration for item \" + str(i) + \" is \" + str(correct_duration))\n",
    "        calculated_duration = func(\n",
    "            distances[i], pickup_longs[i], pickup_lats[i], dropoff_longs[i], dropoff_lats[i],\n",
    "            haversines[i], pmonths[i], pdays[i], phours[i], pmins[i], pweekdays[i], ddays[i],\n",
    "            dhours[i], dmins[i], dweekdays[i], temps[i], precips[i], winds[i], humids[i], solars[i],\n",
    "            snows[i], groundtemps[i], dusts[i]\n",
    "        )\n",
    "        # print(\"calculated duration for item \" + str(i) + \" is \" + str(calculated_duration))\n",
    "\n",
    "        individual_fitness = abs(correct_duration - calculated_duration)\n",
    "        fitness = fitness + individual_fitness\n",
    "    # print(\"Fitness: \" + str(fitness))\n",
    "    return fitness,"
   ]
  },
  {
   "cell_type": "code",
   "execution_count": 32,
   "metadata": {},
   "outputs": [],
   "source": [
    "train_sample = train_df.sample(10000, ignore_index=True, random_state=10)\n",
    "\n",
    "toolbox.register(\"evaluate\", eval_fitness, dataset=train_sample)\n",
    "toolbox.register(\"select\", tools.selTournament, tournsize=3)\n",
    "toolbox.register(\"mate\", gp.cxOnePoint)\n",
    "toolbox.register(\"expr_mut\", gp.genFull, min_=0, max_=2)\n",
    "toolbox.register(\"mutate\", gp.mutUniform, expr=toolbox.expr_mut, pset=pset)\n",
    "\n",
    "toolbox.decorate(\"mate\", gp.staticLimit(key=operator.attrgetter(\"height\"), max_value=17))\n",
    "toolbox.decorate(\"mutate\", gp.staticLimit(key=operator.attrgetter(\"height\"), max_value=17))"
   ]
  },
  {
   "cell_type": "code",
   "execution_count": 33,
   "metadata": {},
   "outputs": [],
   "source": [
    "stats_fit = tools.Statistics(lambda ind: ind.fitness.values)\n",
    "stats_size = tools.Statistics(len)\n",
    "mstats = tools.MultiStatistics(fitness=stats_fit, size=stats_size)\n",
    "mstats.register(\"avg\", np.mean)\n",
    "# mstats.register(\"std\", np.std)\n",
    "mstats.register(\"min\", np.min)\n",
    "# mstats.register(\"max\", np.max)"
   ]
  },
  {
   "cell_type": "code",
   "execution_count": 34,
   "metadata": {},
   "outputs": [
    {
     "name": "stdout",
     "output_type": "stream",
     "text": [
      "gen\tnevals\tavg    \tmin   \n",
      "0  \t100   \t11695.1\t15.715\n",
      "1  \t86    \t1494.73\t15.715\n",
      "2  \t89    \t891.822\t14.9543\n",
      "3  \t79    \t498.999\t14.333 \n",
      "4  \t87    \t1477.51\t14.333 \n",
      "5  \t74    \t849.862\t14.333 \n",
      "6  \t78    \t27160.7\t14.333 \n",
      "7  \t78    \t17282.5\t14.333 \n",
      "8  \t82    \t192.513\t13.5745\n",
      "9  \t71    \t2744.44\t14.072 \n",
      "10 \t82    \t962.434\t13.8407\n",
      "11 \t78    \t105.603\t13.8407\n",
      "12 \t84    \t407.275\t13.8407\n",
      "13 \t73    \t54.5174\t12.895 \n",
      "14 \t79    \t4579.36\t12.895 \n",
      "15 \t73    \t314.362\t12.7058\n",
      "16 \t78    \t55.9045\t12.895 \n",
      "17 \t82    \t574.102\t12.7058\n",
      "18 \t77    \t9216.48\t12.7058\n",
      "19 \t75    \t328.279\t12.7058\n",
      "20 \t76    \t208.545\t12.6882\n"
     ]
    }
   ],
   "source": [
    "pop = toolbox.population(n=100)\n",
    "hof = tools.HallOfFame(1)\n",
    "pop, log = algorithms.eaSimple(pop, toolbox, cxpb=0.7, mutpb=0.3, stats=stats_fit,\n",
    "                                   halloffame=hof, verbose=True, ngen=20)"
   ]
  },
  {
   "cell_type": "code",
   "execution_count": 35,
   "metadata": {},
   "outputs": [
    {
     "data": {
      "text/plain": [
       "'sub(add(mul(ARG3, ARG3), ARG6), protected_div(ARG6, mul(ARG8, ARG3)))'"
      ]
     },
     "execution_count": 35,
     "metadata": {},
     "output_type": "execute_result"
    }
   ],
   "source": [
    "str(hof[0])"
   ]
  },
  {
   "cell_type": "code",
   "execution_count": 36,
   "metadata": {},
   "outputs": [
    {
     "name": "stdout",
     "output_type": "stream",
     "text": [
      "gen\tnevals\tavg    \tmin    \n",
      "0  \t0     \t208.545\t12.6882\n",
      "1  \t74    \t13110.3\t12.6704\n",
      "2  \t66    \t141.614\t12.7021\n",
      "3  \t83    \t181.297\t12.5718\n",
      "4  \t80    \t1290.97\t12.5718\n",
      "5  \t76    \t52674.5\t12.5718\n",
      "6  \t78    \t171.249\t12.6971\n",
      "7  \t77    \t189.346\t12.6886\n",
      "8  \t81    \t242.772\t12.6886\n",
      "9  \t83    \t217.8  \t12.6361\n",
      "10 \t87    \t2741.64\t12.6183\n",
      "11 \t85    \t226.431\t12.6183\n",
      "12 \t75    \t96.8682\t12.6177\n",
      "13 \t74    \t654.548\t12.5101\n",
      "14 \t83    \t7079.02\t12.5157\n",
      "15 \t76    \t365.811\t12.4261\n",
      "16 \t76    \t225.799\t12.4313\n",
      "17 \t77    \t33.6636\t12.5157\n",
      "18 \t83    \t1022.17\t12.5157\n",
      "19 \t80    \t67.4671\t12.3904\n",
      "20 \t82    \t163.397\t12.4602\n"
     ]
    }
   ],
   "source": [
    "# clearly not complete, let's keep going\n",
    "\n",
    "pop, log = algorithms.eaSimple(pop, toolbox, cxpb=0.7, mutpb=0.3, stats=stats_fit,\n",
    "                                   halloffame=hof, verbose=True, ngen=20)"
   ]
  },
  {
   "cell_type": "code",
   "execution_count": 37,
   "metadata": {},
   "outputs": [
    {
     "data": {
      "text/plain": [
       "'sub(add(mul(ARG3, ARG3), ARG6), protected_div(add(sub(add(ARG11, ARG2), mul(ARG8, ARG3)), ARG6), mul(ARG3, ARG1)))'"
      ]
     },
     "execution_count": 37,
     "metadata": {},
     "output_type": "execute_result"
    }
   ],
   "source": [
    "str(hof[0])"
   ]
  },
  {
   "cell_type": "code",
   "execution_count": 38,
   "metadata": {},
   "outputs": [
    {
     "name": "stdout",
     "output_type": "stream",
     "text": [
      "gen\tnevals\tavg    \tmin    \n",
      "0  \t100   \t8486.45\t15.7596\n",
      "1  \t77    \t526.354\t15.923 \n",
      "2  \t74    \t6894.73\t14.9789\n"
     ]
    },
    {
     "ename": "KeyboardInterrupt",
     "evalue": "",
     "output_type": "error",
     "traceback": [
      "\u001b[1;31m---------------------------------------------------------------------------\u001b[0m",
      "\u001b[1;31mKeyboardInterrupt\u001b[0m                         Traceback (most recent call last)",
      "\u001b[1;32m~\\AppData\\Local\\Temp\\ipykernel_19868\\3492199504.py\u001b[0m in \u001b[0;36m<module>\u001b[1;34m\u001b[0m\n\u001b[0;32m      2\u001b[0m \u001b[1;33m\u001b[0m\u001b[0m\n\u001b[0;32m      3\u001b[0m \u001b[0mpop\u001b[0m \u001b[1;33m=\u001b[0m \u001b[0mtoolbox\u001b[0m\u001b[1;33m.\u001b[0m\u001b[0mpopulation\u001b[0m\u001b[1;33m(\u001b[0m\u001b[0mn\u001b[0m\u001b[1;33m=\u001b[0m\u001b[1;36m100\u001b[0m\u001b[1;33m)\u001b[0m\u001b[1;33m\u001b[0m\u001b[1;33m\u001b[0m\u001b[0m\n\u001b[1;32m----> 4\u001b[1;33m pop, log = algorithms.eaSimple(pop, toolbox, cxpb=0.7, mutpb=0.3, stats=stats_fit,\n\u001b[0m\u001b[0;32m      5\u001b[0m                                    halloffame=hof, verbose=True, ngen=20)\n",
      "\u001b[1;32mc:\\Users\\david\\anaconda3\\lib\\site-packages\\deap\\algorithms.py\u001b[0m in \u001b[0;36meaSimple\u001b[1;34m(population, toolbox, cxpb, mutpb, ngen, stats, halloffame, verbose)\u001b[0m\n\u001b[0;32m    171\u001b[0m         \u001b[0minvalid_ind\u001b[0m \u001b[1;33m=\u001b[0m \u001b[1;33m[\u001b[0m\u001b[0mind\u001b[0m \u001b[1;32mfor\u001b[0m \u001b[0mind\u001b[0m \u001b[1;32min\u001b[0m \u001b[0moffspring\u001b[0m \u001b[1;32mif\u001b[0m \u001b[1;32mnot\u001b[0m \u001b[0mind\u001b[0m\u001b[1;33m.\u001b[0m\u001b[0mfitness\u001b[0m\u001b[1;33m.\u001b[0m\u001b[0mvalid\u001b[0m\u001b[1;33m]\u001b[0m\u001b[1;33m\u001b[0m\u001b[1;33m\u001b[0m\u001b[0m\n\u001b[0;32m    172\u001b[0m         \u001b[0mfitnesses\u001b[0m \u001b[1;33m=\u001b[0m \u001b[0mtoolbox\u001b[0m\u001b[1;33m.\u001b[0m\u001b[0mmap\u001b[0m\u001b[1;33m(\u001b[0m\u001b[0mtoolbox\u001b[0m\u001b[1;33m.\u001b[0m\u001b[0mevaluate\u001b[0m\u001b[1;33m,\u001b[0m \u001b[0minvalid_ind\u001b[0m\u001b[1;33m)\u001b[0m\u001b[1;33m\u001b[0m\u001b[1;33m\u001b[0m\u001b[0m\n\u001b[1;32m--> 173\u001b[1;33m         \u001b[1;32mfor\u001b[0m \u001b[0mind\u001b[0m\u001b[1;33m,\u001b[0m \u001b[0mfit\u001b[0m \u001b[1;32min\u001b[0m \u001b[0mzip\u001b[0m\u001b[1;33m(\u001b[0m\u001b[0minvalid_ind\u001b[0m\u001b[1;33m,\u001b[0m \u001b[0mfitnesses\u001b[0m\u001b[1;33m)\u001b[0m\u001b[1;33m:\u001b[0m\u001b[1;33m\u001b[0m\u001b[1;33m\u001b[0m\u001b[0m\n\u001b[0m\u001b[0;32m    174\u001b[0m             \u001b[0mind\u001b[0m\u001b[1;33m.\u001b[0m\u001b[0mfitness\u001b[0m\u001b[1;33m.\u001b[0m\u001b[0mvalues\u001b[0m \u001b[1;33m=\u001b[0m \u001b[0mfit\u001b[0m\u001b[1;33m\u001b[0m\u001b[1;33m\u001b[0m\u001b[0m\n\u001b[0;32m    175\u001b[0m \u001b[1;33m\u001b[0m\u001b[0m\n",
      "\u001b[1;32m~\\AppData\\Local\\Temp\\ipykernel_19868\\3952424919.py\u001b[0m in \u001b[0;36meval_fitness\u001b[1;34m(individual, dataset)\u001b[0m\n\u001b[0;32m     14\u001b[0m         \u001b[0mpmonths\u001b[0m \u001b[1;33m=\u001b[0m \u001b[0mrow\u001b[0m\u001b[1;33m.\u001b[0m\u001b[0mget\u001b[0m\u001b[1;33m(\u001b[0m\u001b[1;34m\"Pmonth\"\u001b[0m\u001b[1;33m)\u001b[0m\u001b[1;33m\u001b[0m\u001b[1;33m\u001b[0m\u001b[0m\n\u001b[0;32m     15\u001b[0m         \u001b[0mpdays\u001b[0m \u001b[1;33m=\u001b[0m \u001b[0mrow\u001b[0m\u001b[1;33m.\u001b[0m\u001b[0mget\u001b[0m\u001b[1;33m(\u001b[0m\u001b[1;34m\"Pickup_day\"\u001b[0m\u001b[1;33m)\u001b[0m\u001b[1;33m\u001b[0m\u001b[1;33m\u001b[0m\u001b[0m\n\u001b[1;32m---> 16\u001b[1;33m         \u001b[0mphours\u001b[0m \u001b[1;33m=\u001b[0m \u001b[0mrow\u001b[0m\u001b[1;33m.\u001b[0m\u001b[0mget\u001b[0m\u001b[1;33m(\u001b[0m\u001b[1;34m\"Pickup_hour\"\u001b[0m\u001b[1;33m)\u001b[0m\u001b[1;33m\u001b[0m\u001b[1;33m\u001b[0m\u001b[0m\n\u001b[0m\u001b[0;32m     17\u001b[0m         \u001b[0mpmins\u001b[0m \u001b[1;33m=\u001b[0m \u001b[0mrow\u001b[0m\u001b[1;33m.\u001b[0m\u001b[0mget\u001b[0m\u001b[1;33m(\u001b[0m\u001b[1;34m\"Pickup_minute\"\u001b[0m\u001b[1;33m)\u001b[0m\u001b[1;33m\u001b[0m\u001b[1;33m\u001b[0m\u001b[0m\n\u001b[0;32m     18\u001b[0m         \u001b[0mpweekdays\u001b[0m \u001b[1;33m=\u001b[0m \u001b[0mrow\u001b[0m\u001b[1;33m.\u001b[0m\u001b[0mget\u001b[0m\u001b[1;33m(\u001b[0m\u001b[1;34m\"Pickup_weekday\"\u001b[0m\u001b[1;33m)\u001b[0m\u001b[1;33m\u001b[0m\u001b[1;33m\u001b[0m\u001b[0m\n",
      "\u001b[1;32mc:\\Users\\david\\anaconda3\\lib\\site-packages\\pandas\\core\\generic.py\u001b[0m in \u001b[0;36mget\u001b[1;34m(self, key, default)\u001b[0m\n\u001b[0;32m   4114\u001b[0m         \"\"\"\n\u001b[0;32m   4115\u001b[0m         \u001b[1;32mtry\u001b[0m\u001b[1;33m:\u001b[0m\u001b[1;33m\u001b[0m\u001b[1;33m\u001b[0m\u001b[0m\n\u001b[1;32m-> 4116\u001b[1;33m             \u001b[1;32mreturn\u001b[0m \u001b[0mself\u001b[0m\u001b[1;33m[\u001b[0m\u001b[0mkey\u001b[0m\u001b[1;33m]\u001b[0m\u001b[1;33m\u001b[0m\u001b[1;33m\u001b[0m\u001b[0m\n\u001b[0m\u001b[0;32m   4117\u001b[0m         \u001b[1;32mexcept\u001b[0m \u001b[1;33m(\u001b[0m\u001b[0mKeyError\u001b[0m\u001b[1;33m,\u001b[0m \u001b[0mValueError\u001b[0m\u001b[1;33m,\u001b[0m \u001b[0mIndexError\u001b[0m\u001b[1;33m)\u001b[0m\u001b[1;33m:\u001b[0m\u001b[1;33m\u001b[0m\u001b[1;33m\u001b[0m\u001b[0m\n\u001b[0;32m   4118\u001b[0m             \u001b[1;32mreturn\u001b[0m \u001b[0mdefault\u001b[0m\u001b[1;33m\u001b[0m\u001b[1;33m\u001b[0m\u001b[0m\n",
      "\u001b[1;32mc:\\Users\\david\\anaconda3\\lib\\site-packages\\pandas\\core\\series.py\u001b[0m in \u001b[0;36m__getitem__\u001b[1;34m(self, key)\u001b[0m\n\u001b[0;32m    956\u001b[0m \u001b[1;33m\u001b[0m\u001b[0m\n\u001b[0;32m    957\u001b[0m         \u001b[1;32melif\u001b[0m \u001b[0mkey_is_scalar\u001b[0m\u001b[1;33m:\u001b[0m\u001b[1;33m\u001b[0m\u001b[1;33m\u001b[0m\u001b[0m\n\u001b[1;32m--> 958\u001b[1;33m             \u001b[1;32mreturn\u001b[0m \u001b[0mself\u001b[0m\u001b[1;33m.\u001b[0m\u001b[0m_get_value\u001b[0m\u001b[1;33m(\u001b[0m\u001b[0mkey\u001b[0m\u001b[1;33m)\u001b[0m\u001b[1;33m\u001b[0m\u001b[1;33m\u001b[0m\u001b[0m\n\u001b[0m\u001b[0;32m    959\u001b[0m \u001b[1;33m\u001b[0m\u001b[0m\n\u001b[0;32m    960\u001b[0m         \u001b[1;32mif\u001b[0m \u001b[0mis_hashable\u001b[0m\u001b[1;33m(\u001b[0m\u001b[0mkey\u001b[0m\u001b[1;33m)\u001b[0m\u001b[1;33m:\u001b[0m\u001b[1;33m\u001b[0m\u001b[1;33m\u001b[0m\u001b[0m\n",
      "\u001b[1;32mc:\\Users\\david\\anaconda3\\lib\\site-packages\\pandas\\core\\series.py\u001b[0m in \u001b[0;36m_get_value\u001b[1;34m(self, label, takeable)\u001b[0m\n\u001b[0;32m   1067\u001b[0m \u001b[1;33m\u001b[0m\u001b[0m\n\u001b[0;32m   1068\u001b[0m         \u001b[1;31m# Similar to Index.get_value, but we do not fall back to positional\u001b[0m\u001b[1;33m\u001b[0m\u001b[1;33m\u001b[0m\u001b[0m\n\u001b[1;32m-> 1069\u001b[1;33m         \u001b[0mloc\u001b[0m \u001b[1;33m=\u001b[0m \u001b[0mself\u001b[0m\u001b[1;33m.\u001b[0m\u001b[0mindex\u001b[0m\u001b[1;33m.\u001b[0m\u001b[0mget_loc\u001b[0m\u001b[1;33m(\u001b[0m\u001b[0mlabel\u001b[0m\u001b[1;33m)\u001b[0m\u001b[1;33m\u001b[0m\u001b[1;33m\u001b[0m\u001b[0m\n\u001b[0m\u001b[0;32m   1070\u001b[0m         \u001b[1;32mreturn\u001b[0m \u001b[0mself\u001b[0m\u001b[1;33m.\u001b[0m\u001b[0mindex\u001b[0m\u001b[1;33m.\u001b[0m\u001b[0m_get_values_for_loc\u001b[0m\u001b[1;33m(\u001b[0m\u001b[0mself\u001b[0m\u001b[1;33m,\u001b[0m \u001b[0mloc\u001b[0m\u001b[1;33m,\u001b[0m \u001b[0mlabel\u001b[0m\u001b[1;33m)\u001b[0m\u001b[1;33m\u001b[0m\u001b[1;33m\u001b[0m\u001b[0m\n\u001b[0;32m   1071\u001b[0m \u001b[1;33m\u001b[0m\u001b[0m\n",
      "\u001b[1;32mc:\\Users\\david\\anaconda3\\lib\\site-packages\\pandas\\core\\indexes\\base.py\u001b[0m in \u001b[0;36mget_loc\u001b[1;34m(self, key, method, tolerance)\u001b[0m\n\u001b[0;32m   3627\u001b[0m             \u001b[0mcasted_key\u001b[0m \u001b[1;33m=\u001b[0m \u001b[0mself\u001b[0m\u001b[1;33m.\u001b[0m\u001b[0m_maybe_cast_indexer\u001b[0m\u001b[1;33m(\u001b[0m\u001b[0mkey\u001b[0m\u001b[1;33m)\u001b[0m\u001b[1;33m\u001b[0m\u001b[1;33m\u001b[0m\u001b[0m\n\u001b[0;32m   3628\u001b[0m             \u001b[1;32mtry\u001b[0m\u001b[1;33m:\u001b[0m\u001b[1;33m\u001b[0m\u001b[1;33m\u001b[0m\u001b[0m\n\u001b[1;32m-> 3629\u001b[1;33m                 \u001b[1;32mreturn\u001b[0m \u001b[0mself\u001b[0m\u001b[1;33m.\u001b[0m\u001b[0m_engine\u001b[0m\u001b[1;33m.\u001b[0m\u001b[0mget_loc\u001b[0m\u001b[1;33m(\u001b[0m\u001b[0mcasted_key\u001b[0m\u001b[1;33m)\u001b[0m\u001b[1;33m\u001b[0m\u001b[1;33m\u001b[0m\u001b[0m\n\u001b[0m\u001b[0;32m   3630\u001b[0m             \u001b[1;32mexcept\u001b[0m \u001b[0mKeyError\u001b[0m \u001b[1;32mas\u001b[0m \u001b[0merr\u001b[0m\u001b[1;33m:\u001b[0m\u001b[1;33m\u001b[0m\u001b[1;33m\u001b[0m\u001b[0m\n\u001b[0;32m   3631\u001b[0m                 \u001b[1;32mraise\u001b[0m \u001b[0mKeyError\u001b[0m\u001b[1;33m(\u001b[0m\u001b[0mkey\u001b[0m\u001b[1;33m)\u001b[0m \u001b[1;32mfrom\u001b[0m \u001b[0merr\u001b[0m\u001b[1;33m\u001b[0m\u001b[1;33m\u001b[0m\u001b[0m\n",
      "\u001b[1;31mKeyboardInterrupt\u001b[0m: "
     ]
    }
   ],
   "source": [
    "# clearly not complete, let's keep going -added protectedDiv\n",
    "\n",
    "pop = toolbox.population(n=100)\n",
    "pop, log = algorithms.eaSimple(pop, toolbox, cxpb=0.7, mutpb=0.3, stats=stats_fit,\n",
    "                                   halloffame=hof, verbose=True, ngen=20)"
   ]
  },
  {
   "cell_type": "code",
   "execution_count": null,
   "metadata": {},
   "outputs": [
    {
     "data": {
      "text/plain": [
       "'add(add(mul(protected_div(ARG3, ARG9), mul(add(ARG13, ARG9), ARG3)), protected_div(mul(protected_div(protected_div(ARG3, add(protected_div(mul(protected_div(ARG3, add(add(ARG6, protected_div(ARG3, mul(ARG5, ARG1))), ARG6)), mul(ARG9, ARG3)), ARG14), ARG0)), mul(protected_div(ARG3, ARG9), mul(add(ARG13, ARG9), ARG3))), mul(ARG6, add(ARG13, ARG9))), ARG14)), ARG6)'"
      ]
     },
     "execution_count": 19,
     "metadata": {},
     "output_type": "execute_result"
    }
   ],
   "source": [
    "str(hof[0])"
   ]
  },
  {
   "cell_type": "code",
   "execution_count": null,
   "metadata": {},
   "outputs": [
    {
     "name": "stdout",
     "output_type": "stream",
     "text": [
      "gen\tnevals\tavg    \tmin    \n",
      "0  \t0     \t592.367\t12.1815\n",
      "1  \t83    \t142.676\t12.1815\n",
      "2  \t79    \t806.678\t12.1815\n",
      "3  \t84    \t11049.1\t12.1815\n",
      "4  \t76    \t431.34 \t12.1814\n",
      "5  \t86    \t498.822\t11.5923\n",
      "6  \t87    \t156847 \t10.4407\n",
      "7  \t81    \t19298.4\t10.433 \n",
      "8  \t73    \t126.129\t10.433 \n",
      "9  \t82    \t86.3524\t10.433 \n",
      "10 \t82    \t197.87 \t9.27182\n",
      "11 \t79    \t72.8986\t9.27182\n",
      "12 \t74    \t196.705\t9.27183\n",
      "13 \t79    \t132057 \t9.27183\n",
      "14 \t73    \t217777 \t9.14664\n",
      "15 \t77    \t104.427\t9.27184\n",
      "16 \t70    \t34.894 \t9.17636\n",
      "17 \t83    \t1.33265e+13\t9.17636\n",
      "18 \t71    \t23196.6    \t9.17636\n",
      "19 \t75    \t1.33265e+13\t9.17191\n",
      "20 \t78    \t345.789    \t9.17537\n"
     ]
    }
   ],
   "source": [
    "# getting closer...?\n",
    "pop, log = algorithms.eaSimple(pop, toolbox, cxpb=0.7, mutpb=0.3, stats=stats_fit,\n",
    "                                   halloffame=hof, verbose=True, ngen=20)"
   ]
  },
  {
   "cell_type": "code",
   "execution_count": null,
   "metadata": {},
   "outputs": [
    {
     "data": {
      "text/plain": [
       "'add(mul(ARG20, protected_div(protected_div(ARG16, ARG7), add(protected_div(mul(ARG0, ARG22), protected_div(ARG5, ARG6)), mul(ARG14, add(ARG13, ARG2))))), protected_div(sub(mul(sub(ARG8, ARG6), sub(ARG6, ARG11)), ARG0), sub(sub(ARG10, ARG18), ARG2)))'"
      ]
     },
     "execution_count": 73,
     "metadata": {},
     "output_type": "execute_result"
    }
   ],
   "source": [
    "str(hof[0])"
   ]
  },
  {
   "cell_type": "code",
   "execution_count": null,
   "metadata": {},
   "outputs": [],
   "source": [
    "import pickle"
   ]
  },
  {
   "cell_type": "code",
   "execution_count": null,
   "metadata": {},
   "outputs": [],
   "source": [
    "with open(\"deap_with_div_pop.pkl\", \"wb\") as deap_savefile:\n",
    "    pickle.dump(pop, deap_savefile)\n",
    "\n",
    "# saved with best of 9.147"
   ]
  },
  {
   "cell_type": "code",
   "execution_count": null,
   "metadata": {},
   "outputs": [
    {
     "name": "stdout",
     "output_type": "stream",
     "text": [
      "gen\tnevals\tavg    \tmin    \n",
      "0  \t0     \t345.789\t9.17537\n",
      "1  \t87    \t1.15319e+06\t9.17474\n",
      "2  \t78    \t232.265    \t9.17338\n",
      "3  \t80    \t31.8668    \t9.17177\n",
      "4  \t80    \t114.789    \t9.16745\n",
      "5  \t82    \t621.456    \t9.16753\n",
      "6  \t80    \t34338.9    \t9.13052\n",
      "7  \t73    \t17.5476    \t9.13052\n",
      "8  \t79    \t8577.4     \t9.09184\n",
      "9  \t82    \t1769.11    \t9.13047\n",
      "10 \t72    \t16.2175    \t9.13047\n",
      "11 \t82    \t3181.14    \t9.12905\n",
      "12 \t78    \t1743.75    \t9.12612\n",
      "13 \t82    \t36986.7    \t9.12612\n",
      "14 \t81    \t2148.56    \t9.10348\n",
      "15 \t74    \t85.4853    \t9.08093\n",
      "16 \t86    \t347.586    \t9.08093\n",
      "17 \t80    \t2.09266e+07\t9.08019\n",
      "18 \t80    \t833.977    \t9.04315\n",
      "19 \t82    \t269.43     \t9.043  \n",
      "20 \t82    \t2.31055e+06\t9.04315\n"
     ]
    }
   ],
   "source": [
    "# div seemed to help a lot...\n",
    "pop, log = algorithms.eaSimple(pop, toolbox, cxpb=0.7, mutpb=0.3, stats=stats_fit,\n",
    "                                   halloffame=hof, verbose=True, ngen=20)"
   ]
  },
  {
   "cell_type": "code",
   "execution_count": 20,
   "metadata": {},
   "outputs": [
    {
     "data": {
      "text/plain": [
       "'add(add(mul(protected_div(ARG3, ARG9), mul(add(ARG13, ARG9), ARG3)), protected_div(mul(protected_div(protected_div(ARG3, add(protected_div(mul(protected_div(ARG3, add(add(ARG6, protected_div(ARG3, mul(ARG5, ARG1))), ARG6)), mul(ARG9, ARG3)), ARG14), ARG0)), mul(protected_div(ARG3, ARG9), mul(add(ARG13, ARG9), ARG3))), mul(ARG6, add(ARG13, ARG9))), ARG14)), ARG6)'"
      ]
     },
     "execution_count": 20,
     "metadata": {},
     "output_type": "execute_result"
    }
   ],
   "source": [
    "str(hof[0])"
   ]
  },
  {
   "cell_type": "code",
   "execution_count": 78,
   "metadata": {},
   "outputs": [],
   "source": [
    "with open(\"deap_with_div_pop_2.pkl\", \"wb\") as deap_savefile:\n",
    "    pickle.dump(pop, deap_savefile)\n",
    "\n",
    "# saved with best of 9.043"
   ]
  },
  {
   "cell_type": "code",
   "execution_count": null,
   "metadata": {},
   "outputs": [],
   "source": []
  }
 ],
 "metadata": {
  "kernelspec": {
   "display_name": "base",
   "language": "python",
   "name": "python3"
  },
  "language_info": {
   "codemirror_mode": {
    "name": "ipython",
    "version": 3
   },
   "file_extension": ".py",
   "mimetype": "text/x-python",
   "name": "python",
   "nbconvert_exporter": "python",
   "pygments_lexer": "ipython3",
   "version": "3.9.13"
  },
  "orig_nbformat": 4
 },
 "nbformat": 4,
 "nbformat_minor": 2
}
