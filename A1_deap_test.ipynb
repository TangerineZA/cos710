{
 "cells": [
  {
   "attachments": {},
   "cell_type": "markdown",
   "metadata": {},
   "source": [
    "**Imports**"
   ]
  },
  {
   "cell_type": "code",
   "execution_count": 3,
   "metadata": {},
   "outputs": [],
   "source": [
    "# Imports\n",
    "import pandas as pd\n",
    "import random\n",
    "import numpy as np"
   ]
  },
  {
   "attachments": {},
   "cell_type": "markdown",
   "metadata": {},
   "source": [
    "**Dataset imports**"
   ]
  },
  {
   "cell_type": "code",
   "execution_count": 4,
   "metadata": {},
   "outputs": [
    {
     "name": "stdout",
     "output_type": "stream",
     "text": [
      "['Duration' 'Distance' 'Pickup_longitude' 'Pickup_latitude'\n",
      " 'Dropoff_latitude' 'Dropoff_latitude.1' 'Haversine' 'Pmonth' 'Pickup_day'\n",
      " 'Pickup_hour' 'Pickup_minute' 'Pickup_weekday' 'Dropoff_month'\n",
      " 'Dropoff_day' 'Dropoff_hour' 'Dropoff_minute' 'Dropoff_weekday' 'Temp'\n",
      " 'Precip' 'Wind' 'Humid' 'Solar' 'Snow' 'GroundTemp' 'Dust']\n"
     ]
    }
   ],
   "source": [
    "train_df = pd.read_csv(r'training.csv')\n",
    "test_df = pd.read_csv(r'testing.csv')\n",
    "# Printing the column headings to better understand the features\n",
    "print(train_df.columns.values)"
   ]
  },
  {
   "cell_type": "code",
   "execution_count": 5,
   "metadata": {},
   "outputs": [
    {
     "data": {
      "text/plain": [
       "25"
      ]
     },
     "execution_count": 5,
     "metadata": {},
     "output_type": "execute_result"
    }
   ],
   "source": [
    "len(train_df.columns.values)"
   ]
  },
  {
   "cell_type": "code",
   "execution_count": 6,
   "metadata": {},
   "outputs": [],
   "source": [
    "from deap import gp, creator, base, tools, algorithms\n",
    "import operator"
   ]
  },
  {
   "cell_type": "code",
   "execution_count": 7,
   "metadata": {},
   "outputs": [],
   "source": [
    "pset = gp.PrimitiveSet(\"MAIN\", 23)\n",
    "pset.addPrimitive(operator.add, 2)\n",
    "pset.addPrimitive(operator.sub, 2)\n",
    "pset.addPrimitive(operator.mul, 2)\n",
    "\n",
    "creator.create(\"FitnessMin\", base.Fitness, weights=(-1.0,))\n",
    "creator.create(\"Individual\", gp.PrimitiveTree, fitness=creator.FitnessMin, pset=pset)"
   ]
  },
  {
   "cell_type": "code",
   "execution_count": 18,
   "metadata": {},
   "outputs": [],
   "source": [
    "# Toolbox setup\n",
    "toolbox = base.Toolbox()\n",
    "toolbox.register(\"expr\", gp.genHalfAndHalf, pset=pset, min_=1, max_=2)\n",
    "toolbox.register(\"individual\", tools.initIterate, creator.Individual, toolbox.expr)\n",
    "toolbox.register(\"population\", tools.initRepeat, list, toolbox.individual)\n",
    "toolbox.register(\"compile\", gp.compile, pset=pset)"
   ]
  },
  {
   "cell_type": "code",
   "execution_count": 38,
   "metadata": {},
   "outputs": [],
   "source": [
    "def eval_fitness(individual, dataset):\n",
    "    func = toolbox.compile(expr=individual)\n",
    "    #print(\"Function compiled for individual!\")\n",
    "    dataset.reset_index()\n",
    "\n",
    "    raw_fitness = 0\n",
    "\n",
    "    for index, row in dataset.iterrows():\n",
    "        durations = row.get(\"Duration\")\n",
    "        distances = row.get(\"Distance\")\n",
    "        pickup_longs = row.get(\"Pickup_longitude\")\n",
    "        pickup_lats = row.get(\"Pickup_latitude\")\n",
    "        dropoff_longs = row.get(\"Dropoff_latitude.1\")\n",
    "        dropoff_lats = row.get(\"Dropoff_latitude\")\n",
    "        haversines = row.get(\"Haversine\")\n",
    "        pmonths = row.get(\"Pmonth\")\n",
    "        pdays = row.get(\"Pickup_day\")\n",
    "        phours = row.get(\"Pickup_hour\")\n",
    "        pmins = row.get(\"Pickup_minute\")\n",
    "        pweekdays = row.get(\"Pickup_weekday\")\n",
    "        ddays = row.get(\"Dropoff_day\")\n",
    "        dhours = row.get(\"Dropoff_hour\")\n",
    "        dmins = row.get(\"Dropoff_minute\")\n",
    "        dweekdays = row.get(\"Dropoff_weekday\")\n",
    "        temps = row.get(\"Temp\")\n",
    "        precips = row.get(\"Precip\")\n",
    "        winds = row.get(\"Wind\")\n",
    "        humids = row.get(\"Humid\")\n",
    "        solars = row.get(\"Solar\")\n",
    "        snows = row.get(\"Snow\")\n",
    "        groundtemps = row.get(\"GroundTemp\")\n",
    "        dusts = row.get(\"Dust\")\n",
    "\n",
    "        estimate = func(distances, pickup_longs, pickup_lats,\n",
    "                        dropoff_longs, dropoff_lats, haversines,\n",
    "                        pmonths, pdays, phours, pmins,\n",
    "                        pweekdays, ddays, dhours, dmins, \n",
    "                        dweekdays, temps, precips, winds,\n",
    "                        humids, solars, snows, groundtemps, dusts)\n",
    "        \n",
    "        actual = durations\n",
    "\n",
    "        raw_fitness = raw_fitness + abs(actual - estimate)\n",
    "    \n",
    "    average_fitness = raw_fitness / len(dataset)\n",
    "    #print(\"Inividual fitness: \" + str(average_fitness))\n",
    "    # using average fitness to reward overall good even if it has one or two weird cases\n",
    "    return average_fitness,"
   ]
  },
  {
   "cell_type": "code",
   "execution_count": 39,
   "metadata": {},
   "outputs": [],
   "source": [
    "def fitness_function(individual):\n",
    "    # print(\"evaluating fitness...\")\n",
    "    # print(\"individual:\")\n",
    "    # print(type(individual))\n",
    "    trip_sample = train_df.sample(100, ignore_index=True, random_state=10)\n",
    "\n",
    "    # print(trip_sample.columns.values)\n",
    "\n",
    "    # break into iteratable arrays\n",
    "    durations = trip_sample.loc[:,\"Duration\"]\n",
    "    distances = trip_sample.loc[:,\"Distance\"]\n",
    "    pickup_longs = trip_sample.loc[:,\"Pickup_longitude\"]\n",
    "    pickup_lats = trip_sample.loc[:,\"Pickup_latitude\"]\n",
    "    dropoff_longs = trip_sample.loc[:,\"Dropoff_latitude.1\"]\n",
    "    dropoff_lats = trip_sample.loc[:,\"Dropoff_latitude\"]\n",
    "    haversines = trip_sample.loc[:,\"Haversine\"]\n",
    "    pmonths = trip_sample.loc[:,\"Pmonth\"]\n",
    "    pdays = trip_sample.loc[:,\"Pickup_day\"]\n",
    "    phours = trip_sample.loc[:,\"Pickup_hour\"]\n",
    "    pmins = trip_sample.loc[:,\"Pickup_minute\"]\n",
    "    pweekdays = trip_sample.loc[:,\"Pickup_weekday\"]\n",
    "    ddays = trip_sample.loc[:,\"Dropoff_day\"]\n",
    "    dhours = trip_sample.loc[:,\"Dropoff_hour\"]\n",
    "    dmins = trip_sample.loc[:,\"Dropoff_minute\"]\n",
    "    dweekdays = trip_sample.loc[:,\"Dropoff_weekday\"]\n",
    "    temps = trip_sample.loc[:,\"Temp\"]\n",
    "    precips = trip_sample.loc[:,\"Precip\"]\n",
    "    winds = trip_sample.loc[:,\"Wind\"]\n",
    "    humids = trip_sample.loc[:,\"Humid\"]\n",
    "    solars = trip_sample.loc[:,\"Solar\"]\n",
    "    snows = trip_sample.loc[:,\"Snow\"]\n",
    "    groundtemps = trip_sample.loc[:,\"GroundTemp\"]\n",
    "    dusts = trip_sample.loc[:,\"Dust\"]\n",
    "    print(\"Compiling function...\")\n",
    "    func = toolbox.compile(expr=individual)\n",
    "    print(\"function compiled\")\n",
    "    fitness = 0\n",
    "    for i in range(len(trip_sample)):\n",
    "        # print(\"fitness eval loop run \" + str(i))\n",
    "        # PSUEDOCODE: individual_fitness = abs(correct_duration - calculated_duration)\n",
    "        # PSEUDOCODE: fitness = fitness + individual_fitness\n",
    "        sample_row = trip_sample.iloc[[i]]\n",
    "        # print(\"sample row: \" + str(type(sample_row)))\n",
    "        sample_features = sample_row.drop(\"Duration\",axis=1)\n",
    "        # print(\"sample features: \" + str(type(sample_features)))\n",
    "\n",
    "        correct_duration = durations[i]\n",
    "        # print(\"correct duration for item \" + str(i) + \" is \" + str(correct_duration))\n",
    "        calculated_duration = func(\n",
    "            distances[i], pickup_longs[i], pickup_lats[i], dropoff_longs[i], dropoff_lats[i],\n",
    "            haversines[i], pmonths[i], pdays[i], phours[i], pmins[i], pweekdays[i], ddays[i],\n",
    "            dhours[i], dmins[i], dweekdays[i], temps[i], precips[i], winds[i], humids[i], solars[i],\n",
    "            snows[i], groundtemps[i], dusts[i]\n",
    "        )\n",
    "        # print(\"calculated duration for item \" + str(i) + \" is \" + str(calculated_duration))\n",
    "\n",
    "        individual_fitness = abs(correct_duration - calculated_duration)\n",
    "        fitness = fitness + individual_fitness\n",
    "    # print(\"Fitness: \" + str(fitness))\n",
    "    return fitness,"
   ]
  },
  {
   "cell_type": "code",
   "execution_count": 44,
   "metadata": {},
   "outputs": [],
   "source": [
    "train_sample = train_df.sample(10000, ignore_index=True, random_state=10)\n",
    "\n",
    "toolbox.register(\"evaluate\", eval_fitness, dataset=train_df)\n",
    "toolbox.register(\"select\", tools.selTournament, tournsize=3)\n",
    "toolbox.register(\"mate\", gp.cxOnePoint)\n",
    "toolbox.register(\"expr_mut\", gp.genFull, min_=0, max_=2)\n",
    "toolbox.register(\"mutate\", gp.mutUniform, expr=toolbox.expr_mut, pset=pset)\n",
    "\n",
    "toolbox.decorate(\"mate\", gp.staticLimit(key=operator.attrgetter(\"height\"), max_value=17))\n",
    "toolbox.decorate(\"mutate\", gp.staticLimit(key=operator.attrgetter(\"height\"), max_value=17))"
   ]
  },
  {
   "cell_type": "code",
   "execution_count": 45,
   "metadata": {},
   "outputs": [],
   "source": [
    "stats_fit = tools.Statistics(lambda ind: ind.fitness.values)\n",
    "stats_size = tools.Statistics(len)\n",
    "mstats = tools.MultiStatistics(fitness=stats_fit, size=stats_size)\n",
    "mstats.register(\"avg\", np.mean)\n",
    "# mstats.register(\"std\", np.std)\n",
    "mstats.register(\"min\", np.min)\n",
    "# mstats.register(\"max\", np.max)"
   ]
  },
  {
   "cell_type": "code",
   "execution_count": 46,
   "metadata": {},
   "outputs": [],
   "source": [
    "pop = toolbox.population(n=100)\n",
    "hof = tools.HallOfFame(1)\n",
    "pop, log = algorithms.eaSimple(pop, toolbox, cxpb=0.5, mutpb=0.5, stats=stats_fit,\n",
    "                                   halloffame=hof, verbose=True, ngen=20)"
   ]
  },
  {
   "cell_type": "code",
   "execution_count": null,
   "metadata": {},
   "outputs": [],
   "source": []
  }
 ],
 "metadata": {
  "kernelspec": {
   "display_name": "base",
   "language": "python",
   "name": "python3"
  },
  "language_info": {
   "codemirror_mode": {
    "name": "ipython",
    "version": 3
   },
   "file_extension": ".py",
   "mimetype": "text/x-python",
   "name": "python",
   "nbconvert_exporter": "python",
   "pygments_lexer": "ipython3",
   "version": "3.9.13"
  },
  "orig_nbformat": 4
 },
 "nbformat": 4,
 "nbformat_minor": 2
}
