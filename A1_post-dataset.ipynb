{
 "cells": [
  {
   "attachments": {},
   "cell_type": "markdown",
   "metadata": {},
   "source": [
    "**Imports**"
   ]
  },
  {
   "cell_type": "code",
   "execution_count": 11,
   "metadata": {},
   "outputs": [],
   "source": [
    "# Imports\n",
    "import pandas as pd\n",
    "import random\n",
    "import numpy as np"
   ]
  },
  {
   "attachments": {},
   "cell_type": "markdown",
   "metadata": {},
   "source": [
    "**Parameters**"
   ]
  },
  {
   "cell_type": "code",
   "execution_count": 2,
   "metadata": {},
   "outputs": [
    {
     "name": "stderr",
     "output_type": "stream",
     "text": [
      "<>:10: SyntaxWarning: \"is\" with a literal. Did you mean \"==\"?\n",
      "<>:10: SyntaxWarning: \"is\" with a literal. Did you mean \"==\"?\n",
      "C:\\Users\\david\\AppData\\Local\\Temp\\ipykernel_15384\\1671493786.py:10: SyntaxWarning: \"is\" with a literal. Did you mean \"==\"?\n",
      "  if POP_GEN_METHOD is 'grow':\n"
     ]
    }
   ],
   "source": [
    "MAX_TREE_DEPTH = 5\n",
    "MIN_TREE_DEPTH = 2\n",
    "POP_SIZE = 200\n",
    "POP_GEN_METHOD = 'grow'\n",
    "\n",
    "random.seed(10)\n",
    "\n",
    "# Initialise generation method variables\n",
    "grow = False\n",
    "if POP_GEN_METHOD is 'grow':\n",
    "    grow = True"
   ]
  },
  {
   "attachments": {},
   "cell_type": "markdown",
   "metadata": {},
   "source": [
    "**Dataset imports**"
   ]
  },
  {
   "cell_type": "code",
   "execution_count": 3,
   "metadata": {},
   "outputs": [],
   "source": [
    "train_df = pd.read_csv(r'training.csv')\n",
    "test_df = pd.read_csv(r'testing.csv')"
   ]
  },
  {
   "cell_type": "code",
   "execution_count": 4,
   "metadata": {},
   "outputs": [
    {
     "name": "stdout",
     "output_type": "stream",
     "text": [
      "['Duration' 'Distance' 'Pickup_longitude' 'Pickup_latitude'\n",
      " 'Dropoff_latitude' 'Dropoff_latitude.1' 'Haversine' 'Pmonth' 'Pickup_day'\n",
      " 'Pickup_hour' 'Pickup_minute' 'Pickup_weekday' 'Dropoff_month'\n",
      " 'Dropoff_day' 'Dropoff_hour' 'Dropoff_minute' 'Dropoff_weekday' 'Temp'\n",
      " 'Precip' 'Wind' 'Humid' 'Solar' 'Snow' 'GroundTemp' 'Dust']\n"
     ]
    }
   ],
   "source": [
    "# Printing the column headings to better understand the features\n",
    "print(train_df.columns.values)"
   ]
  },
  {
   "cell_type": "code",
   "execution_count": 5,
   "metadata": {},
   "outputs": [
    {
     "name": "stdout",
     "output_type": "stream",
     "text": [
      "Labels column: Index(['Duration'], dtype='object')\n",
      "\n",
      "\n",
      "Features columns: Index(['Distance', 'Pickup_longitude', 'Pickup_latitude', 'Dropoff_latitude',\n",
      "       'Dropoff_latitude.1', 'Haversine', 'Pmonth', 'Pickup_day',\n",
      "       'Pickup_hour', 'Pickup_minute', 'Pickup_weekday', 'Dropoff_month',\n",
      "       'Dropoff_day', 'Dropoff_hour', 'Dropoff_minute', 'Dropoff_weekday',\n",
      "       'Temp', 'Precip', 'Wind', 'Humid', 'Solar', 'Snow', 'GroundTemp',\n",
      "       'Dust'],\n",
      "      dtype='object')\n"
     ]
    }
   ],
   "source": [
    "# Seperate values from data\n",
    "# Remember: features = data used to reach output, while labels are the outputs themselves\n",
    "train_labels = train_df[['Duration']]\n",
    "test_labels = test_df[['Duration']]\n",
    "\n",
    "train_features = train_df.drop('Duration',axis=1)\n",
    "test_features = test_df.drop('Duration',axis=1)\n",
    "\n",
    "print('Labels column: ' + str(train_labels.columns) + '\\n\\n')\n",
    "print('Features columns: ' + str(train_features.columns))"
   ]
  },
  {
   "cell_type": "code",
   "execution_count": 6,
   "metadata": {},
   "outputs": [
    {
     "name": "stdout",
     "output_type": "stream",
     "text": [
      "<class 'pandas.core.frame.DataFrame'>\n",
      "RangeIndex: 6720797 entries, 0 to 6720796\n",
      "Data columns (total 24 columns):\n",
      " #   Column              Dtype  \n",
      "---  ------              -----  \n",
      " 0   Distance            int64  \n",
      " 1   Pickup_longitude    float64\n",
      " 2   Pickup_latitude     float64\n",
      " 3   Dropoff_latitude    float64\n",
      " 4   Dropoff_latitude.1  float64\n",
      " 5   Haversine           float64\n",
      " 6   Pmonth              int64  \n",
      " 7   Pickup_day          int64  \n",
      " 8   Pickup_hour         int64  \n",
      " 9   Pickup_minute       int64  \n",
      " 10  Pickup_weekday      int64  \n",
      " 11  Dropoff_month       int64  \n",
      " 12  Dropoff_day         int64  \n",
      " 13  Dropoff_hour        int64  \n",
      " 14  Dropoff_minute      int64  \n",
      " 15  Dropoff_weekday     int64  \n",
      " 16  Temp                float64\n",
      " 17  Precip              float64\n",
      " 18  Wind                float64\n",
      " 19  Humid               float64\n",
      " 20  Solar               float64\n",
      " 21  Snow                float64\n",
      " 22  GroundTemp          float64\n",
      " 23  Dust                float64\n",
      "dtypes: float64(13), int64(11)\n",
      "memory usage: 1.2 GB\n",
      "None\n",
      "Entries in \"training features\": 6720797\n"
     ]
    }
   ],
   "source": [
    "print(train_features.info())\n",
    "print('Entries in \"training features\": ' + str(len(train_features)))"
   ]
  },
  {
   "cell_type": "code",
   "execution_count": 7,
   "metadata": {},
   "outputs": [
    {
     "name": "stdout",
     "output_type": "stream",
     "text": [
      "<class 'pandas.core.frame.DataFrame'>\n",
      "RangeIndex: 6720797 entries, 0 to 6720796\n",
      "Data columns (total 1 columns):\n",
      " #   Column    Dtype\n",
      "---  ------    -----\n",
      " 0   Duration  int64\n",
      "dtypes: int64(1)\n",
      "memory usage: 51.3 MB\n",
      "None\n",
      "Entries in \"training labels\": 6720797\n"
     ]
    }
   ],
   "source": [
    "print(train_labels.info())\n",
    "print('Entries in \"training labels\": ' + str(len(train_labels)))"
   ]
  },
  {
   "cell_type": "code",
   "execution_count": 8,
   "metadata": {},
   "outputs": [
    {
     "data": {
      "text/plain": [
       "0"
      ]
     },
     "execution_count": 8,
     "metadata": {},
     "output_type": "execute_result"
    }
   ],
   "source": [
    "# Free up RAM\n",
    "import gc\n",
    "\n",
    "train_df = None\n",
    "test_df = None\n",
    "\n",
    "gc.collect()\n"
   ]
  },
  {
   "attachments": {},
   "cell_type": "markdown",
   "metadata": {},
   "source": [
    "**Terminal and Function set creation**"
   ]
  },
  {
   "cell_type": "code",
   "execution_count": 9,
   "metadata": {},
   "outputs": [],
   "source": [
    "# Some basic functions for the function set\n",
    "def add(x,y): return x + y\n",
    "def sub(x,y): return x - y\n",
    "def mul(x,y): return x * y\n",
    "def div(x,y): return x / y\n",
    "\n",
    "function_set = [add, sub, mul, div]"
   ]
  },
  {
   "cell_type": "code",
   "execution_count": 10,
   "metadata": {},
   "outputs": [],
   "source": [
    "# Creation of terminal set\n",
    "# Terminals are a range of constants, as made below\n",
    "terminal_set = ['Duration', 'Distance', 'Pickup_longitude', 'Pickup_latitude',\n",
    "    'Dropoff_latitude', 'Dropoff_latitude.1', 'Haversine', 'Pmonth', 'Pickup_day',\n",
    "    'Pickup_hour', 'Pickup_minute', 'Pickup_weekday', 'Dropoff_month',\n",
    "    'Dropoff_day', 'Dropoff_hour', 'Dropoff_minute', 'Dropoff_weekday', 'Temp',\n",
    "    'Precip', 'Wind', 'Humid', 'Solar', 'Snow', 'GroundTemp', 'Dust']"
   ]
  },
  {
   "attachments": {},
   "cell_type": "markdown",
   "metadata": {},
   "source": [
    "**Tree definitions**"
   ]
  },
  {
   "cell_type": "code",
   "execution_count": 11,
   "metadata": {},
   "outputs": [],
   "source": [
    "class GPTree:\n",
    "    def __init__(self, data = None, left = None, right = None):\n",
    "        self.data = data\n",
    "        self.left = left\n",
    "        self.right = right\n",
    "\n",
    "    # Allows for either grow (if grow parameter is true) or full method (grow set to false)\n",
    "    # Makes self into a new random tree\n",
    "    def random_tree(self, grow, max_depth, depth = 0):\n",
    "        if depth < max_depth or (depth < max_depth and not grow): \n",
    "            self.data = function_set[random.randint(0, len(function_set) - 1)]\n",
    "        elif depth >= max_depth:   \n",
    "            self.data = terminal_set[random.randint(0, len(terminal_set) - 1)]\n",
    "        else:\n",
    "            if random() > 0.5: # 50% chance\n",
    "                self.data = terminal_set[random.randint(0, len(terminal_set) - 1)]\n",
    "            else:\n",
    "                self.data = function_set[random.randint(0, len(function_set) - 1)]\n",
    "        if self.data in function_set:\n",
    "            self.left = GPTree()\n",
    "            self.left.random_tree(grow, max_depth, depth = depth + 1)            \n",
    "            self.right = GPTree()\n",
    "            self.right.random_tree(grow, max_depth, depth = depth + 1)\n",
    "\n",
    "    # recursive depth-first evaluation, returns calculated value of tree - can be used on root or any subtree\n",
    "    def evaluate_tree(self):\n",
    "        if self.data in terminal_set:\n",
    "            return self.data\n",
    "        else:\n",
    "            left_value = self.left.evaluate_tree()\n",
    "            right_value = self.right.evaluate_tree()\n",
    "            own_value = self.data(left_value, right_value)\n",
    "            return own_value\n",
    "\n",
    "    def print_tree(self):\n",
    "        if self.data in terminal_set:\n",
    "            print('TERMINAL: ' + str(self.data))\n",
    "        elif self.data in function_set:\n",
    "            print('FUNCTION: ' + str(self.data))\n",
    "            print(self.left.print_tree())\n",
    "            print(self.right.print_tree())\n",
    "            pass"
   ]
  },
  {
   "cell_type": "code",
   "execution_count": 12,
   "metadata": {},
   "outputs": [
    {
     "name": "stdout",
     "output_type": "stream",
     "text": [
      "FUNCTION: <function add at 0x000001A1208D3700>\n",
      "FUNCTION: <function div at 0x000001A120807310>\n",
      "FUNCTION: <function div at 0x000001A120807310>\n",
      "FUNCTION: <function add at 0x000001A1208D3700>\n",
      "FUNCTION: <function sub at 0x000001A12079B160>\n",
      "TERMINAL: Dropoff_hour\n",
      "None\n",
      "TERMINAL: Dropoff_minute\n",
      "None\n",
      "None\n",
      "FUNCTION: <function mul at 0x000001A1208073A0>\n",
      "TERMINAL: Humid\n",
      "None\n",
      "TERMINAL: Dropoff_latitude.1\n",
      "None\n",
      "None\n",
      "None\n",
      "FUNCTION: <function add at 0x000001A1208D3700>\n",
      "FUNCTION: <function div at 0x000001A120807310>\n",
      "TERMINAL: Pickup_minute\n",
      "None\n",
      "TERMINAL: Pickup_longitude\n",
      "None\n",
      "None\n",
      "FUNCTION: <function sub at 0x000001A12079B160>\n",
      "TERMINAL: GroundTemp\n",
      "None\n",
      "TERMINAL: Pickup_weekday\n",
      "None\n",
      "None\n",
      "None\n",
      "None\n",
      "FUNCTION: <function add at 0x000001A1208D3700>\n",
      "FUNCTION: <function div at 0x000001A120807310>\n",
      "FUNCTION: <function sub at 0x000001A12079B160>\n",
      "TERMINAL: Wind\n",
      "None\n",
      "TERMINAL: Pickup_weekday\n",
      "None\n",
      "None\n",
      "FUNCTION: <function div at 0x000001A120807310>\n",
      "TERMINAL: Dropoff_day\n",
      "None\n",
      "TERMINAL: Pickup_hour\n",
      "None\n",
      "None\n",
      "None\n",
      "FUNCTION: <function mul at 0x000001A1208073A0>\n",
      "FUNCTION: <function div at 0x000001A120807310>\n",
      "TERMINAL: Dropoff_latitude.1\n",
      "None\n",
      "TERMINAL: Solar\n",
      "None\n",
      "None\n",
      "FUNCTION: <function mul at 0x000001A1208073A0>\n",
      "TERMINAL: Solar\n",
      "None\n",
      "TERMINAL: Pickup_weekday\n",
      "None\n",
      "None\n",
      "None\n",
      "None\n",
      "None\n",
      "FUNCTION: <function sub at 0x000001A12079B160>\n",
      "FUNCTION: <function div at 0x000001A120807310>\n",
      "FUNCTION: <function sub at 0x000001A12079B160>\n",
      "FUNCTION: <function div at 0x000001A120807310>\n",
      "TERMINAL: Wind\n",
      "None\n",
      "TERMINAL: Dropoff_month\n",
      "None\n",
      "None\n",
      "FUNCTION: <function add at 0x000001A1208D3700>\n",
      "TERMINAL: Precip\n",
      "None\n",
      "TERMINAL: Duration\n",
      "None\n",
      "None\n",
      "None\n",
      "FUNCTION: <function sub at 0x000001A12079B160>\n",
      "FUNCTION: <function sub at 0x000001A12079B160>\n",
      "TERMINAL: Haversine\n",
      "None\n",
      "TERMINAL: Pickup_hour\n",
      "None\n",
      "None\n",
      "FUNCTION: <function mul at 0x000001A1208073A0>\n",
      "TERMINAL: Dust\n",
      "None\n",
      "TERMINAL: Pmonth\n",
      "None\n",
      "None\n",
      "None\n",
      "None\n",
      "FUNCTION: <function mul at 0x000001A1208073A0>\n",
      "FUNCTION: <function div at 0x000001A120807310>\n",
      "FUNCTION: <function div at 0x000001A120807310>\n",
      "TERMINAL: Dropoff_minute\n",
      "None\n",
      "TERMINAL: Pickup_longitude\n",
      "None\n",
      "None\n",
      "FUNCTION: <function mul at 0x000001A1208073A0>\n",
      "TERMINAL: Dropoff_weekday\n",
      "None\n",
      "TERMINAL: Dropoff_latitude.1\n",
      "None\n",
      "None\n",
      "None\n",
      "FUNCTION: <function sub at 0x000001A12079B160>\n",
      "FUNCTION: <function div at 0x000001A120807310>\n",
      "TERMINAL: Pmonth\n",
      "None\n",
      "TERMINAL: Distance\n",
      "None\n",
      "None\n",
      "FUNCTION: <function add at 0x000001A1208D3700>\n",
      "TERMINAL: Dropoff_minute\n",
      "None\n",
      "TERMINAL: Pickup_hour\n",
      "None\n",
      "None\n",
      "None\n",
      "None\n",
      "None\n",
      "None\n"
     ]
    }
   ],
   "source": [
    "# Test for random_tree\n",
    "test_tree = GPTree()\n",
    "test_tree.random_tree(True, MAX_TREE_DEPTH)\n",
    "print(test_tree.print_tree())"
   ]
  },
  {
   "attachments": {},
   "cell_type": "markdown",
   "metadata": {},
   "source": [
    "**Initial population generation**"
   ]
  },
  {
   "cell_type": "code",
   "execution_count": 13,
   "metadata": {},
   "outputs": [],
   "source": [
    "# Returns array containing initial tree population\n",
    "# TODO - look for library that does the tree things but prettier\n",
    "def init_population(): # Assuming not using ramped 50/50 - TODO, adjust later to allow this\n",
    "    population = []\n",
    "    for i in range(0, POP_SIZE):\n",
    "        new_random_tree = GPTree()\n",
    "        new_random_tree.random_tree(grow, MAX_TREE_DEPTH)\n",
    "        population.append(new_random_tree)\n",
    "    return population"
   ]
  },
  {
   "cell_type": "code",
   "execution_count": 14,
   "metadata": {},
   "outputs": [
    {
     "name": "stdout",
     "output_type": "stream",
     "text": [
      "200\n"
     ]
    }
   ],
   "source": [
    "# Test for init_population\n",
    "test_pop = init_population()\n",
    "print(len(test_pop))"
   ]
  },
  {
   "attachments": {},
   "cell_type": "markdown",
   "metadata": {},
   "source": [
    "**Fitness function**"
   ]
  },
  {
   "cell_type": "code",
   "execution_count": null,
   "metadata": {},
   "outputs": [],
   "source": [
    "def raw_fitness_function(tree : GPTree, test_dataset_features, test_dataset_labels):\n",
    "    tree_duration = tree.evaluate_tree()\n",
    "\n",
    "    \n",
    "    \n",
    "    pass"
   ]
  },
  {
   "cell_type": "code",
   "execution_count": null,
   "metadata": {},
   "outputs": [],
   "source": []
  }
 ],
 "metadata": {
  "kernelspec": {
   "display_name": "base",
   "language": "python",
   "name": "python3"
  },
  "language_info": {
   "codemirror_mode": {
    "name": "ipython",
    "version": 3
   },
   "file_extension": ".py",
   "mimetype": "text/x-python",
   "name": "python",
   "nbconvert_exporter": "python",
   "pygments_lexer": "ipython3",
   "version": "3.9.13"
  },
  "orig_nbformat": 4,
  "vscode": {
   "interpreter": {
    "hash": "ea8238db6dc1fe8cf6fe83219457bde9bcbcde2053d40c59d2e78211d10c5fee"
   }
  }
 },
 "nbformat": 4,
 "nbformat_minor": 2
}
