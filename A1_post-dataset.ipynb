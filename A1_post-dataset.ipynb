{
 "cells": [
  {
   "attachments": {},
   "cell_type": "markdown",
   "metadata": {},
   "source": [
    "**Imports**"
   ]
  },
  {
   "cell_type": "code",
   "execution_count": 1,
   "metadata": {},
   "outputs": [],
   "source": [
    "# Imports\n",
    "import pandas as pd\n",
    "import random\n",
    "import numpy as np\n",
    "import treelib"
   ]
  },
  {
   "attachments": {},
   "cell_type": "markdown",
   "metadata": {},
   "source": [
    "**Parameters**"
   ]
  },
  {
   "cell_type": "code",
   "execution_count": 2,
   "metadata": {},
   "outputs": [
    {
     "name": "stderr",
     "output_type": "stream",
     "text": [
      "<>:10: SyntaxWarning: \"is\" with a literal. Did you mean \"==\"?\n",
      "<>:10: SyntaxWarning: \"is\" with a literal. Did you mean \"==\"?\n",
      "C:\\Users\\david\\AppData\\Local\\Temp\\ipykernel_3604\\1671493786.py:10: SyntaxWarning: \"is\" with a literal. Did you mean \"==\"?\n",
      "  if POP_GEN_METHOD is 'grow':\n"
     ]
    }
   ],
   "source": [
    "MAX_TREE_DEPTH = 5\n",
    "MIN_TREE_DEPTH = 2\n",
    "POP_SIZE = 200\n",
    "POP_GEN_METHOD = 'grow'\n",
    "\n",
    "random.seed(10)\n",
    "randomstate_seed = 10\n",
    "\n",
    "# Initialise generation method variables\n",
    "grow = False\n",
    "if POP_GEN_METHOD is 'grow':\n",
    "    grow = True"
   ]
  },
  {
   "attachments": {},
   "cell_type": "markdown",
   "metadata": {},
   "source": [
    "**Dataset imports**"
   ]
  },
  {
   "cell_type": "code",
   "execution_count": 3,
   "metadata": {},
   "outputs": [],
   "source": [
    "train_df = pd.read_csv(r'training.csv')\n",
    "test_df = pd.read_csv(r'testing.csv')"
   ]
  },
  {
   "cell_type": "code",
   "execution_count": 4,
   "metadata": {},
   "outputs": [
    {
     "name": "stdout",
     "output_type": "stream",
     "text": [
      "['Duration' 'Distance' 'Pickup_longitude' 'Pickup_latitude'\n",
      " 'Dropoff_latitude' 'Dropoff_latitude.1' 'Haversine' 'Pmonth' 'Pickup_day'\n",
      " 'Pickup_hour' 'Pickup_minute' 'Pickup_weekday' 'Dropoff_month'\n",
      " 'Dropoff_day' 'Dropoff_hour' 'Dropoff_minute' 'Dropoff_weekday' 'Temp'\n",
      " 'Precip' 'Wind' 'Humid' 'Solar' 'Snow' 'GroundTemp' 'Dust']\n"
     ]
    }
   ],
   "source": [
    "# Printing the column headings to better understand the features\n",
    "print(train_df.columns.values)"
   ]
  },
  {
   "cell_type": "code",
   "execution_count": 5,
   "metadata": {},
   "outputs": [
    {
     "name": "stdout",
     "output_type": "stream",
     "text": [
      "Labels column: Index(['Duration'], dtype='object')\n",
      "\n",
      "\n",
      "Features columns: Index(['Distance', 'Pickup_longitude', 'Pickup_latitude', 'Dropoff_latitude',\n",
      "       'Dropoff_latitude.1', 'Haversine', 'Pmonth', 'Pickup_day',\n",
      "       'Pickup_hour', 'Pickup_minute', 'Pickup_weekday', 'Dropoff_month',\n",
      "       'Dropoff_day', 'Dropoff_hour', 'Dropoff_minute', 'Dropoff_weekday',\n",
      "       'Temp', 'Precip', 'Wind', 'Humid', 'Solar', 'Snow', 'GroundTemp',\n",
      "       'Dust'],\n",
      "      dtype='object')\n"
     ]
    }
   ],
   "source": [
    "# Seperate values from data\n",
    "# Remember: features = data used to reach output, while labels are the outputs themselves\n",
    "train_labels = train_df[['Duration']]\n",
    "test_labels = test_df[['Duration']]\n",
    "\n",
    "train_features = train_df.drop('Duration',axis=1)\n",
    "test_features = test_df.drop('Duration',axis=1)\n",
    "\n",
    "print('Labels column: ' + str(train_labels.columns) + '\\n\\n')\n",
    "print('Features columns: ' + str(train_features.columns))"
   ]
  },
  {
   "cell_type": "code",
   "execution_count": 6,
   "metadata": {},
   "outputs": [
    {
     "name": "stdout",
     "output_type": "stream",
     "text": [
      "<class 'pandas.core.frame.DataFrame'>\n",
      "RangeIndex: 6720797 entries, 0 to 6720796\n",
      "Data columns (total 24 columns):\n",
      " #   Column              Dtype  \n",
      "---  ------              -----  \n",
      " 0   Distance            int64  \n",
      " 1   Pickup_longitude    float64\n",
      " 2   Pickup_latitude     float64\n",
      " 3   Dropoff_latitude    float64\n",
      " 4   Dropoff_latitude.1  float64\n",
      " 5   Haversine           float64\n",
      " 6   Pmonth              int64  \n",
      " 7   Pickup_day          int64  \n",
      " 8   Pickup_hour         int64  \n",
      " 9   Pickup_minute       int64  \n",
      " 10  Pickup_weekday      int64  \n",
      " 11  Dropoff_month       int64  \n",
      " 12  Dropoff_day         int64  \n",
      " 13  Dropoff_hour        int64  \n",
      " 14  Dropoff_minute      int64  \n",
      " 15  Dropoff_weekday     int64  \n",
      " 16  Temp                float64\n",
      " 17  Precip              float64\n",
      " 18  Wind                float64\n",
      " 19  Humid               float64\n",
      " 20  Solar               float64\n",
      " 21  Snow                float64\n",
      " 22  GroundTemp          float64\n",
      " 23  Dust                float64\n",
      "dtypes: float64(13), int64(11)\n",
      "memory usage: 1.2 GB\n",
      "None\n",
      "Entries in \"training features\": 6720797\n"
     ]
    }
   ],
   "source": [
    "print(train_features.info())\n",
    "print('Entries in \"training features\": ' + str(len(train_features)))"
   ]
  },
  {
   "cell_type": "code",
   "execution_count": 7,
   "metadata": {},
   "outputs": [
    {
     "name": "stdout",
     "output_type": "stream",
     "text": [
      "<class 'pandas.core.frame.DataFrame'>\n",
      "RangeIndex: 6720797 entries, 0 to 6720796\n",
      "Data columns (total 1 columns):\n",
      " #   Column    Dtype\n",
      "---  ------    -----\n",
      " 0   Duration  int64\n",
      "dtypes: int64(1)\n",
      "memory usage: 51.3 MB\n",
      "None\n",
      "Entries in \"training labels\": 6720797\n"
     ]
    }
   ],
   "source": [
    "print(train_labels.info())\n",
    "print('Entries in \"training labels\": ' + str(len(train_labels)))"
   ]
  },
  {
   "cell_type": "code",
   "execution_count": 8,
   "metadata": {},
   "outputs": [
    {
     "data": {
      "text/plain": [
       "0"
      ]
     },
     "execution_count": 8,
     "metadata": {},
     "output_type": "execute_result"
    }
   ],
   "source": [
    "# Free up RAM\n",
    "import gc\n",
    "\n",
    "train_df = None\n",
    "test_df = None\n",
    "\n",
    "gc.collect()"
   ]
  },
  {
   "attachments": {},
   "cell_type": "markdown",
   "metadata": {},
   "source": [
    "**Terminal and Function set creation**"
   ]
  },
  {
   "cell_type": "code",
   "execution_count": 9,
   "metadata": {},
   "outputs": [],
   "source": [
    "# Some basic functions for the function set\n",
    "def add(x,y): return x + y\n",
    "def sub(x,y): return x - y\n",
    "def mul(x,y): return x * y\n",
    "def div(x,y): return x / y\n",
    "\n",
    "function_set = [add, sub, mul, div]"
   ]
  },
  {
   "cell_type": "code",
   "execution_count": 10,
   "metadata": {},
   "outputs": [],
   "source": [
    "# Creation of terminal set\n",
    "# Terminals are a range of constants, as made below\n",
    "terminal_set = ['Duration', 'Distance', 'Pickup_longitude', 'Pickup_latitude',\n",
    "    'Dropoff_latitude', 'Dropoff_latitude.1', 'Haversine', 'Pmonth', 'Pickup_day',\n",
    "    'Pickup_hour', 'Pickup_minute', 'Pickup_weekday', 'Dropoff_month',\n",
    "    'Dropoff_day', 'Dropoff_hour', 'Dropoff_minute', 'Dropoff_weekday', 'Temp',\n",
    "    'Precip', 'Wind', 'Humid', 'Solar', 'Snow', 'GroundTemp', 'Dust']"
   ]
  },
  {
   "attachments": {},
   "cell_type": "markdown",
   "metadata": {},
   "source": [
    "**Tree definitions**"
   ]
  },
  {
   "cell_type": "code",
   "execution_count": 13,
   "metadata": {},
   "outputs": [],
   "source": [
    "class GPTree:\n",
    "    def __init__(self, data = None, left = None, right = None):\n",
    "        self.data = data\n",
    "        self.left = left\n",
    "        self.right = right\n",
    "\n",
    "    # Allows for either grow (if grow parameter is true) or full method (grow set to false)\n",
    "    # Makes self into a new random tree\n",
    "    def random_tree(self, grow, max_depth, depth = 0):\n",
    "        if (depth < max_depth and not grow) or (depth < MIN_TREE_DEPTH): \n",
    "            self.data = function_set[random.randint(0, len(function_set) - 1)]\n",
    "        elif depth >= max_depth:   \n",
    "            self.data = terminal_set[random.randint(0, len(terminal_set) - 1)]\n",
    "        else:\n",
    "            if random.random() > 0.5: # 50% chance\n",
    "                self.data = terminal_set[random.randint(0, len(terminal_set) - 1)]\n",
    "            else:\n",
    "                self.data = function_set[random.randint(0, len(function_set) - 1)]\n",
    "        if self.data in function_set:\n",
    "            self.left = GPTree()\n",
    "            self.left.random_tree(grow, max_depth, depth = depth + 1)            \n",
    "            self.right = GPTree()\n",
    "            self.right.random_tree(grow, max_depth, depth = depth + 1)\n",
    "\n",
    "    # recursive depth-first evaluation, returns calculated value of tree - can be used on root or any subtree\n",
    "    def evaluate_tree(self):\n",
    "        if self.data in terminal_set:\n",
    "            return self.data\n",
    "        else:\n",
    "            left_value = self.left.evaluate_tree()\n",
    "            right_value = self.right.evaluate_tree()\n",
    "            own_value = self.data(left_value, right_value)\n",
    "            return own_value\n",
    "        \n",
    "    def create_function(self):\n",
    "        \n",
    "\n",
    "    def print_tree(self):\n",
    "        if self.data in terminal_set:\n",
    "            print('TERMINAL: ' + str(self.data))\n",
    "        elif self.data in function_set:\n",
    "            print('FUNCTION: ' + str(self.data))\n",
    "            print(self.left.print_tree())\n",
    "            print(self.right.print_tree())"
   ]
  },
  {
   "cell_type": "code",
   "execution_count": 18,
   "metadata": {},
   "outputs": [
    {
     "name": "stdout",
     "output_type": "stream",
     "text": [
      "FUNCTION: <function div at 0x000001A43AE3A9D0>\n",
      "FUNCTION: <function mul at 0x000001A43AE1CF70>\n",
      "FUNCTION: <function mul at 0x000001A43AE1CF70>\n",
      "FUNCTION: <function sub at 0x000001A437EE3550>\n",
      "FUNCTION: <function mul at 0x000001A43AE1CF70>\n",
      "TERMINAL: Pickup_day\n",
      "None\n",
      "TERMINAL: Dropoff_latitude.1\n",
      "None\n",
      "None\n",
      "TERMINAL: Pmonth\n",
      "None\n",
      "None\n",
      "FUNCTION: <function sub at 0x000001A437EE3550>\n",
      "FUNCTION: <function div at 0x000001A43AE3A9D0>\n",
      "TERMINAL: Pickup_weekday\n",
      "None\n",
      "TERMINAL: GroundTemp\n",
      "None\n",
      "None\n",
      "FUNCTION: <function div at 0x000001A43AE3A9D0>\n",
      "TERMINAL: Pmonth\n",
      "None\n",
      "TERMINAL: Dropoff_minute\n",
      "None\n",
      "None\n",
      "None\n",
      "None\n",
      "FUNCTION: <function div at 0x000001A43AE3A9D0>\n",
      "FUNCTION: <function sub at 0x000001A437EE3550>\n",
      "FUNCTION: <function add at 0x000001A437EE3820>\n",
      "TERMINAL: Pickup_weekday\n",
      "None\n",
      "TERMINAL: Dropoff_latitude\n",
      "None\n",
      "None\n",
      "TERMINAL: Pickup_hour\n",
      "None\n",
      "None\n",
      "FUNCTION: <function div at 0x000001A43AE3A9D0>\n",
      "TERMINAL: Solar\n",
      "None\n",
      "FUNCTION: <function mul at 0x000001A43AE1CF70>\n",
      "TERMINAL: Temp\n",
      "None\n",
      "TERMINAL: Pickup_minute\n",
      "None\n",
      "None\n",
      "None\n",
      "None\n",
      "None\n",
      "FUNCTION: <function sub at 0x000001A437EE3550>\n",
      "TERMINAL: Snow\n",
      "None\n",
      "FUNCTION: <function add at 0x000001A437EE3820>\n",
      "TERMINAL: Pickup_weekday\n",
      "None\n",
      "TERMINAL: Distance\n",
      "None\n",
      "None\n",
      "None\n"
     ]
    }
   ],
   "source": [
    "# Test for random_tree\n",
    "test_tree = GPTree()\n",
    "test_tree.random_tree(True, MAX_TREE_DEPTH)\n",
    "test_tree\n",
    "test_tree.print_tree()"
   ]
  },
  {
   "attachments": {},
   "cell_type": "markdown",
   "metadata": {},
   "source": [
    "**Initial population generation**"
   ]
  },
  {
   "cell_type": "code",
   "execution_count": 16,
   "metadata": {},
   "outputs": [],
   "source": [
    "# Returns array containing initial tree population\n",
    "# TODO - look for library that does the tree things but prettier\n",
    "def init_population(): # Assuming not using ramped 50/50 - TODO, adjust later to allow this\n",
    "    population = []\n",
    "    for i in range(0, POP_SIZE):\n",
    "        new_random_tree = GPTree()\n",
    "        new_random_tree.random_tree(grow, MAX_TREE_DEPTH)\n",
    "        population.append(new_random_tree)\n",
    "    return population"
   ]
  },
  {
   "cell_type": "code",
   "execution_count": 17,
   "metadata": {},
   "outputs": [
    {
     "name": "stdout",
     "output_type": "stream",
     "text": [
      "200\n"
     ]
    }
   ],
   "source": [
    "# Test for init_population\n",
    "test_pop = init_population()\n",
    "print(len(test_pop))"
   ]
  },
  {
   "attachments": {},
   "cell_type": "markdown",
   "metadata": {},
   "source": [
    "**Fitness function**"
   ]
  },
  {
   "cell_type": "code",
   "execution_count": null,
   "metadata": {},
   "outputs": [],
   "source": [
    "def raw_fitness_function(tree : GPTree, test_dataset):\n",
    "    tree_output = tree.evaluate_tree()\n",
    "\n",
    "    # have to convert tree terminals into value from the dataset\n",
    "    # method - just get whole row of dataframe, and then get the correct terminal from that\n",
    "    trip_sample = train_df.sample(100, ignore_index=True, random_state=10)\n",
    "    \n",
    "     # break into iteratable arrays\n",
    "    durations = trip_sample.loc[:,\"Duration\"]\n",
    "    distances = trip_sample.loc[:,\"Distance\"]\n",
    "    pickup_longs = trip_sample.loc[:,\"Pickup_longitude\"]\n",
    "    pickup_lats = trip_sample.loc[:,\"Pickup_latitude\"]\n",
    "    dropoff_longs = trip_sample.loc[:,\"Dropoff_latitude.1\"]\n",
    "    dropoff_lats = trip_sample.loc[:,\"Dropoff_latitude\"]\n",
    "    haversines = trip_sample.loc[:,\"Haversine\"]\n",
    "    pmonths = trip_sample.loc[:,\"Pmonth\"]\n",
    "    pdays = trip_sample.loc[:,\"Pickup_day\"]\n",
    "    phours = trip_sample.loc[:,\"Pickup_hour\"]\n",
    "    pmins = trip_sample.loc[:,\"Pickup_minute\"]\n",
    "    pweekdays = trip_sample.loc[:,\"Pickup_weekday\"]\n",
    "    ddays = trip_sample.loc[:,\"Dropoff_day\"]\n",
    "    dhours = trip_sample.loc[:,\"Dropoff_hour\"]\n",
    "    dmins = trip_sample.loc[:,\"Dropoff_minute\"]\n",
    "    dweekdays = trip_sample.loc[:,\"Dropoff_weekday\"]\n",
    "    temps = trip_sample.loc[:,\"Temp\"]\n",
    "    precips = trip_sample.loc[:,\"Precip\"]\n",
    "    winds = trip_sample.loc[:,\"Wind\"]\n",
    "    humids = trip_sample.loc[:,\"Humid\"]\n",
    "    solars = trip_sample.loc[:,\"Solar\"]\n",
    "    snows = trip_sample.loc[:,\"Snow\"]\n",
    "    groundtemps = trip_sample.loc[:,\"GroundTemp\"]\n",
    "    dusts = trip_sample.loc[:,\"Dust\"]\n",
    "    print(\"Compiling function...\")\n",
    "    func = toolbox.compile(expr=individual)\n",
    "    print(\"function compiled\")\n",
    "    fitness = 0\n",
    "    for i in range(len(trip_sample)):\n",
    "        # print(\"fitness eval loop run \" + str(i))\n",
    "        # PSUEDOCODE: individual_fitness = abs(correct_duration - calculated_duration)\n",
    "        # PSEUDOCODE: fitness = fitness + individual_fitness\n",
    "        sample_row = trip_sample.iloc[[i]]\n",
    "        # print(\"sample row: \" + str(type(sample_row)))\n",
    "        sample_features = sample_row.drop(\"Duration\",axis=1)\n",
    "        # print(\"sample features: \" + str(type(sample_features)))\n",
    "\n",
    "        correct_duration = durations[i]\n",
    "        # print(\"correct duration for item \" + str(i) + \" is \" + str(correct_duration))\n",
    "        calculated_duration = func(\n",
    "            distances[i], pickup_longs[i], pickup_lats[i], dropoff_longs[i], dropoff_lats[i],\n",
    "            haversines[i], pmonths[i], pdays[i], phours[i], pmins[i], pweekdays[i], ddays[i],\n",
    "            dhours[i], dmins[i], dweekdays[i], temps[i], precips[i], winds[i], humids[i], solars[i],\n",
    "            snows[i], groundtemps[i], dusts[i]\n",
    "        )\n",
    "        # print(\"calculated duration for item \" + str(i) + \" is \" + str(calculated_duration))\n",
    "\n",
    "        individual_fitness = abs(correct_duration - calculated_duration)\n",
    "        fitness = fitness + individual_fitness\n",
    "    # print(\"Fitness: \" + str(fitness))\n",
    "    return fitness,\n",
    "    \n",
    "    pass"
   ]
  },
  {
   "cell_type": "code",
   "execution_count": null,
   "metadata": {},
   "outputs": [],
   "source": []
  }
 ],
 "metadata": {
  "kernelspec": {
   "display_name": "base",
   "language": "python",
   "name": "python3"
  },
  "language_info": {
   "codemirror_mode": {
    "name": "ipython",
    "version": 3
   },
   "file_extension": ".py",
   "mimetype": "text/x-python",
   "name": "python",
   "nbconvert_exporter": "python",
   "pygments_lexer": "ipython3",
   "version": "3.9.13"
  },
  "orig_nbformat": 4,
  "vscode": {
   "interpreter": {
    "hash": "ea8238db6dc1fe8cf6fe83219457bde9bcbcde2053d40c59d2e78211d10c5fee"
   }
  }
 },
 "nbformat": 4,
 "nbformat_minor": 2
}
