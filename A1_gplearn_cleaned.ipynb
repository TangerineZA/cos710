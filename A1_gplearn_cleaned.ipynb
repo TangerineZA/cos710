{
 "cells": [
  {
   "cell_type": "code",
   "execution_count": 12,
   "metadata": {},
   "outputs": [],
   "source": [
    "import gplearn\n",
    "import pandas as pd\n",
    "import numpy as np\n",
    "from sklearn.model_selection import train_test_split"
   ]
  },
  {
   "cell_type": "code",
   "execution_count": 13,
   "metadata": {},
   "outputs": [],
   "source": [
    "# import dataset (cleaned)\n",
    "df = pd.read_csv(r'cleaned_data_simplified.csv', index_col=0)"
   ]
  },
  {
   "cell_type": "code",
   "execution_count": 1,
   "metadata": {},
   "outputs": [
    {
     "ename": "NameError",
     "evalue": "name 'df' is not defined",
     "output_type": "error",
     "traceback": [
      "\u001b[1;31m---------------------------------------------------------------------------\u001b[0m",
      "\u001b[1;31mNameError\u001b[0m                                 Traceback (most recent call last)",
      "\u001b[1;32m~\\AppData\\Local\\Temp\\ipykernel_12832\\3289350417.py\u001b[0m in \u001b[0;36m<module>\u001b[1;34m\u001b[0m\n\u001b[1;32m----> 1\u001b[1;33m \u001b[0mdf\u001b[0m\u001b[1;33m.\u001b[0m\u001b[0mcolumns\u001b[0m\u001b[1;33m\u001b[0m\u001b[1;33m\u001b[0m\u001b[0m\n\u001b[0m",
      "\u001b[1;31mNameError\u001b[0m: name 'df' is not defined"
     ]
    }
   ],
   "source": [
    "df.columns"
   ]
  },
  {
   "cell_type": "code",
   "execution_count": 15,
   "metadata": {},
   "outputs": [],
   "source": [
    "x = df.drop('Duration', axis=1)"
   ]
  },
  {
   "cell_type": "code",
   "execution_count": 16,
   "metadata": {},
   "outputs": [
    {
     "name": "stdout",
     "output_type": "stream",
     "text": [
      "         Duration\n",
      "0               3\n",
      "1              24\n",
      "2               8\n",
      "3               8\n",
      "4               4\n",
      "...           ...\n",
      "9830302        39\n",
      "9830304        70\n",
      "9830305        52\n",
      "9830306        67\n",
      "9830307        58\n",
      "\n",
      "[8769371 rows x 1 columns]\n"
     ]
    }
   ],
   "source": [
    "y = df.loc[:,'Duration'].to_frame()\n",
    "type(y)\n",
    "print(y)"
   ]
  },
  {
   "cell_type": "code",
   "execution_count": 17,
   "metadata": {},
   "outputs": [],
   "source": [
    "X_train, X_test, y_train, y_test = train_test_split(x, y, test_size=0.3, random_state=10)"
   ]
  },
  {
   "cell_type": "code",
   "execution_count": 18,
   "metadata": {},
   "outputs": [],
   "source": [
    "from gplearn.genetic import SymbolicRegressor\n",
    "import pickle"
   ]
  },
  {
   "cell_type": "code",
   "execution_count": 19,
   "metadata": {},
   "outputs": [],
   "source": [
    "gp = SymbolicRegressor(population_size=100, stopping_criteria=0.01, verbose=1, random_state=10,\n",
    "                       tournament_size=10, p_crossover=0.7,p_hoist_mutation=0.00,\n",
    "                       p_point_mutation=0.15,p_subtree_mutation=0.15, n_jobs=5, init_method='grow',\n",
    "                       function_set=('add','sub','mul','div','sqrt'))"
   ]
  },
  {
   "cell_type": "code",
   "execution_count": 32,
   "metadata": {},
   "outputs": [
    {
     "data": {
      "text/plain": [
       "SymbolicRegressor(function_set=('add', 'sub', 'mul', 'div', 'sqrt'),\n",
       "                  generations=50, init_method='grow', n_jobs=3, p_crossover=0.7,\n",
       "                  p_hoist_mutation=0.0, p_point_mutation=0.15,\n",
       "                  p_subtree_mutation=0.15, population_size=100, random_state=10,\n",
       "                  stopping_criteria=0.01, tournament_size=10, verbose=1,\n",
       "                  warm_start=True)"
      ]
     },
     "execution_count": 32,
     "metadata": {},
     "output_type": "execute_result"
    }
   ],
   "source": [
    "# gp.set_params(warm_start = True, generations=50, n_jobs=3)"
   ]
  },
  {
   "cell_type": "code",
   "execution_count": 20,
   "metadata": {},
   "outputs": [
    {
     "name": "stdout",
     "output_type": "stream",
     "text": [
      "    |   Population Average    |             Best Individual              |\n",
      "---- ------------------------- ------------------------------------------ ----------\n",
      " Gen   Length          Fitness   Length          Fitness      OOB Fitness  Time Left\n",
      "   0     4.16           6796.9        3          14.4839              N/A      3.10m\n",
      "   1     2.99          87.6349        6          13.7195              N/A      2.02m\n",
      "   2     3.13          104.212        6          13.7195              N/A      1.85m\n",
      "   3     4.24          85.1298        6          13.4113              N/A      1.78m\n",
      "   4     5.05          1369.43       12          13.1934              N/A      1.82m\n",
      "   5     6.89          514.055       10          12.7985              N/A      1.87m\n",
      "   6     7.42          56.9199       10          12.7985              N/A      1.76m\n",
      "   7     9.34          47.8789       10          12.7985              N/A      1.86m\n",
      "   8     9.47          543.759       10          12.4866              N/A      1.67m\n",
      "   9     9.21          26.8344       12          12.0256              N/A      1.48m\n",
      "  10    10.60           49.533       14          11.9997              N/A      1.41m\n",
      "  11    11.16          47.5252       14          11.9997              N/A      1.28m\n",
      "  12    12.55          53.8913       15          11.9009              N/A      1.16m\n",
      "  13    13.34          98.7104       16          11.6948              N/A      1.01m\n",
      "  14    13.51          689.112       16          11.6948              N/A     50.57s\n",
      "  15    15.91          789.599       16          11.6857              N/A     42.69s\n",
      "  16    15.21           1736.8       16          11.6948              N/A     31.71s\n",
      "  17    16.59          58.9357       16          11.6948              N/A     23.16s\n",
      "  18    17.15          51.1968       21          11.6852              N/A     12.07s\n",
      "  19    17.95          123.883       21          11.6852              N/A      0.00s\n"
     ]
    },
    {
     "data": {
      "text/plain": [
       "SymbolicRegressor(function_set=('add', 'sub', 'mul', 'div', 'sqrt'),\n",
       "                  init_method='grow', n_jobs=5, p_crossover=0.7,\n",
       "                  p_hoist_mutation=0.0, p_point_mutation=0.15,\n",
       "                  p_subtree_mutation=0.15, population_size=100, random_state=10,\n",
       "                  stopping_criteria=0.01, tournament_size=10, verbose=1)"
      ]
     },
     "execution_count": 20,
     "metadata": {},
     "output_type": "execute_result"
    }
   ],
   "source": [
    "# TODO train once some system resources have been freed up\n",
    "gp.fit(X=X_train, y=np.ravel(y_train))"
   ]
  },
  {
   "cell_type": "code",
   "execution_count": null,
   "metadata": {},
   "outputs": [],
   "source": []
  }
 ],
 "metadata": {
  "kernelspec": {
   "display_name": "base",
   "language": "python",
   "name": "python3"
  },
  "language_info": {
   "codemirror_mode": {
    "name": "ipython",
    "version": 3
   },
   "file_extension": ".py",
   "mimetype": "text/x-python",
   "name": "python",
   "nbconvert_exporter": "python",
   "pygments_lexer": "ipython3",
   "version": "3.9.13"
  },
  "orig_nbformat": 4
 },
 "nbformat": 4,
 "nbformat_minor": 2
}
