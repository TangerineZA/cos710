{
 "cells": [
  {
   "attachments": {},
   "cell_type": "markdown",
   "metadata": {},
   "source": [
    "# David Walker - COS 710 Assignment 1, Initial Setup"
   ]
  },
  {
   "attachments": {},
   "cell_type": "markdown",
   "metadata": {},
   "source": [
    "**Imports**"
   ]
  },
  {
   "cell_type": "code",
   "execution_count": 56,
   "metadata": {},
   "outputs": [],
   "source": [
    "import pandas as pd\n",
    "import numpy as np\n",
    "import math"
   ]
  },
  {
   "attachments": {},
   "cell_type": "markdown",
   "metadata": {},
   "source": [
    "**Parameters**"
   ]
  },
  {
   "cell_type": "code",
   "execution_count": 57,
   "metadata": {},
   "outputs": [],
   "source": [
    "# Proportion of dataset to be used for training - utility value, used only for calculation purposes.\n",
    "training_proportion = 0.7"
   ]
  },
  {
   "attachments": {},
   "cell_type": "markdown",
   "metadata": {},
   "source": [
    "**CSV Import**"
   ]
  },
  {
   "cell_type": "code",
   "execution_count": 58,
   "metadata": {},
   "outputs": [
    {
     "name": "stdout",
     "output_type": "stream",
     "text": [
      "Index(['Duration', 'Distance', 'PLong', 'PLatd', 'DLong', 'DLatd', 'Haversine',\n",
      "       'Pmonth', 'Pday', 'Phour', 'Pmin', 'PDweek', 'Dmonth', 'Dday', 'Dhour',\n",
      "       'Dmin', 'DDweek', 'Temp', 'Precip', 'Wind', 'Humid', 'Solar', 'Snow',\n",
      "       'GroundTemp', 'Dust'],\n",
      "      dtype='object')\n"
     ]
    }
   ],
   "source": [
    "df = pd.read_csv(r'For_modeling.csv', index_col=0)\n",
    "print(df.columns)"
   ]
  },
  {
   "cell_type": "code",
   "execution_count": 59,
   "metadata": {},
   "outputs": [
    {
     "data": {
      "text/html": [
       "<div>\n",
       "<style scoped>\n",
       "    .dataframe tbody tr th:only-of-type {\n",
       "        vertical-align: middle;\n",
       "    }\n",
       "\n",
       "    .dataframe tbody tr th {\n",
       "        vertical-align: top;\n",
       "    }\n",
       "\n",
       "    .dataframe thead th {\n",
       "        text-align: right;\n",
       "    }\n",
       "</style>\n",
       "<table border=\"1\" class=\"dataframe\">\n",
       "  <thead>\n",
       "    <tr style=\"text-align: right;\">\n",
       "      <th></th>\n",
       "      <th>Duration</th>\n",
       "      <th>Distance</th>\n",
       "      <th>PLong</th>\n",
       "      <th>PLatd</th>\n",
       "      <th>DLong</th>\n",
       "      <th>DLatd</th>\n",
       "      <th>Haversine</th>\n",
       "      <th>Pmonth</th>\n",
       "      <th>Pday</th>\n",
       "      <th>Phour</th>\n",
       "      <th>...</th>\n",
       "      <th>Dmin</th>\n",
       "      <th>DDweek</th>\n",
       "      <th>Temp</th>\n",
       "      <th>Precip</th>\n",
       "      <th>Wind</th>\n",
       "      <th>Humid</th>\n",
       "      <th>Solar</th>\n",
       "      <th>Snow</th>\n",
       "      <th>GroundTemp</th>\n",
       "      <th>Dust</th>\n",
       "    </tr>\n",
       "  </thead>\n",
       "  <tbody>\n",
       "    <tr>\n",
       "      <th>0</th>\n",
       "      <td>3</td>\n",
       "      <td>50</td>\n",
       "      <td>37.544666</td>\n",
       "      <td>126.888359</td>\n",
       "      <td>37.544666</td>\n",
       "      <td>126.888359</td>\n",
       "      <td>0.0</td>\n",
       "      <td>1</td>\n",
       "      <td>1</td>\n",
       "      <td>0</td>\n",
       "      <td>...</td>\n",
       "      <td>4</td>\n",
       "      <td>0</td>\n",
       "      <td>-3.2</td>\n",
       "      <td>0.0</td>\n",
       "      <td>0.5</td>\n",
       "      <td>40.0</td>\n",
       "      <td>0.0</td>\n",
       "      <td>0.0</td>\n",
       "      <td>-2.2</td>\n",
       "      <td>25.0</td>\n",
       "    </tr>\n",
       "  </tbody>\n",
       "</table>\n",
       "<p>1 rows × 25 columns</p>\n",
       "</div>"
      ],
      "text/plain": [
       "   Duration  Distance      PLong       PLatd      DLong       DLatd  \\\n",
       "0         3        50  37.544666  126.888359  37.544666  126.888359   \n",
       "\n",
       "   Haversine  Pmonth  Pday  Phour  ...  Dmin  DDweek  Temp  Precip  Wind  \\\n",
       "0        0.0       1     1      0  ...     4       0  -3.2     0.0   0.5   \n",
       "\n",
       "   Humid  Solar  Snow  GroundTemp  Dust  \n",
       "0   40.0    0.0   0.0        -2.2  25.0  \n",
       "\n",
       "[1 rows x 25 columns]"
      ]
     },
     "execution_count": 59,
     "metadata": {},
     "output_type": "execute_result"
    }
   ],
   "source": [
    "df.head(1)"
   ]
  },
  {
   "cell_type": "code",
   "execution_count": 60,
   "metadata": {},
   "outputs": [
    {
     "data": {
      "text/plain": [
       "0    0\n",
       "1    0\n",
       "2    0\n",
       "3    1\n",
       "4    1\n",
       "Name: Pmin, dtype: int64"
      ]
     },
     "execution_count": 60,
     "metadata": {},
     "output_type": "execute_result"
    }
   ],
   "source": [
    "df.loc[:4, 'Pmin']"
   ]
  },
  {
   "attachments": {},
   "cell_type": "markdown",
   "metadata": {},
   "source": [
    "**Data exploration**"
   ]
  },
  {
   "cell_type": "code",
   "execution_count": 61,
   "metadata": {},
   "outputs": [
    {
     "name": "stdout",
     "output_type": "stream",
     "text": [
      "Row count: 9601139\n",
      "Training row count: 6720798\n",
      "Testing row count: 2880341\n",
      "Balance of rows (should be 0): 0\n"
     ]
    }
   ],
   "source": [
    "# Check the length of the dataframe.\n",
    "count_row = df.shape[0]\n",
    "print('Row count: ' + str(count_row))\n",
    "\n",
    "# For reference, check how many rows will be used for testing and training\n",
    "training_row_count = math.ceil(training_proportion * count_row)\n",
    "print('Training row count: ' + str(training_row_count))\n",
    "\n",
    "testing_row_count = math.floor((1 - training_proportion) * count_row)\n",
    "print('Testing row count: ' + str(testing_row_count))\n",
    "\n",
    "# Accounting to make sure no lines are duplicated\n",
    "accounting_rows = training_row_count + testing_row_count\n",
    "accounting_difference = count_row - accounting_rows\n",
    "print('Balance of rows (should be 0): ' + str(accounting_difference))"
   ]
  },
  {
   "cell_type": "code",
   "execution_count": 62,
   "metadata": {},
   "outputs": [
    {
     "name": "stdout",
     "output_type": "stream",
     "text": [
      "Index(['Duration', 'Distance', 'PLong', 'PLatd', 'DLong', 'DLatd', 'Haversine',\n",
      "       'Pmonth', 'Pday', 'Phour', 'Pmin', 'PDweek', 'Dmonth', 'Dday', 'Dhour',\n",
      "       'Dmin', 'DDweek', 'Temp', 'Precip', 'Wind', 'Humid', 'Solar', 'Snow',\n",
      "       'GroundTemp', 'Dust'],\n",
      "      dtype='object')\n"
     ]
    }
   ],
   "source": [
    "print(df.columns)"
   ]
  },
  {
   "cell_type": "code",
   "execution_count": 63,
   "metadata": {},
   "outputs": [],
   "source": [
    "# Rename latitude and longitude features\n",
    "df.rename({'PLong': 'Pickup_longitude', 'PLatd': 'Pickup_latitude', 'DLong': 'Dropoff_latitude', 'DLatd': 'Dropoff_latitude'}, axis=1, inplace=True)"
   ]
  },
  {
   "cell_type": "code",
   "execution_count": 64,
   "metadata": {},
   "outputs": [],
   "source": [
    "# Rename pickup time features\n",
    "df.rename({'PMonth': 'Pickup_month', 'Pday': 'Pickup_day', 'Phour': 'Pickup_hour', 'Pmin': 'Pickup_minute'},axis=1,inplace=True)"
   ]
  },
  {
   "cell_type": "code",
   "execution_count": 65,
   "metadata": {},
   "outputs": [],
   "source": [
    "# Rename dropoff time features\n",
    "df.rename({'Dmonth': 'Dropoff_month', 'Dday': 'Dropoff_day', 'Dhour': 'Dropoff_hour', 'Dmin': 'Dropoff_minute'},axis=1,inplace=True)"
   ]
  },
  {
   "cell_type": "code",
   "execution_count": 66,
   "metadata": {},
   "outputs": [],
   "source": [
    "# Rename \"day of week\" features\n",
    "df.rename({'PDweek': 'Pickup_weekday', 'DDweek': 'Dropoff_weekday'},axis=1,inplace=True)"
   ]
  },
  {
   "cell_type": "code",
   "execution_count": 67,
   "metadata": {},
   "outputs": [
    {
     "name": "stdout",
     "output_type": "stream",
     "text": [
      "Index(['Duration', 'Distance', 'Pickup_longitude', 'Pickup_latitude',\n",
      "       'Dropoff_latitude', 'Dropoff_latitude', 'Haversine', 'Pmonth',\n",
      "       'Pickup_day', 'Pickup_hour', 'Pickup_minute', 'Pickup_weekday',\n",
      "       'Dropoff_month', 'Dropoff_day', 'Dropoff_hour', 'Dropoff_minute',\n",
      "       'Dropoff_weekday', 'Temp', 'Precip', 'Wind', 'Humid', 'Solar', 'Snow',\n",
      "       'GroundTemp', 'Dust'],\n",
      "      dtype='object')\n"
     ]
    }
   ],
   "source": [
    "print(df.columns)"
   ]
  },
  {
   "cell_type": "code",
   "execution_count": 71,
   "metadata": {},
   "outputs": [
    {
     "name": "stdout",
     "output_type": "stream",
     "text": [
      "   Duration  Distance  Pickup_longitude  Pickup_latitude  Dropoff_latitude  \\\n",
      "0         3        50         37.544666       126.888359         37.544666   \n",
      "1        24      7670         37.506199       127.003944         37.551250   \n",
      "2         8      1390         37.544590       127.057083         37.537014   \n",
      "3         8      1820         37.571102       127.023560         37.561447   \n",
      "\n",
      "   Dropoff_latitude  Haversine  Pmonth  Pickup_day  Pickup_hour  ...  \\\n",
      "0        126.888359   0.000000       1           1            0  ...   \n",
      "1        127.035103   5.713529       1           1            0  ...   \n",
      "2        127.061096   0.913702       1           1            0  ...   \n",
      "3        127.034920   1.468027       1           1            0  ...   \n",
      "\n",
      "   Dropoff_minute  Dropoff_weekday  Temp  Precip  Wind  Humid  Solar  Snow  \\\n",
      "0               4                0  -3.2     0.0   0.5   40.0    0.0   0.0   \n",
      "1              25                0  -3.2     0.0   0.5   40.0    0.0   0.0   \n",
      "2               9                0  -3.2     0.0   0.5   40.0    0.0   0.0   \n",
      "3              10                0  -3.2     0.0   0.5   40.0    0.0   0.0   \n",
      "\n",
      "   GroundTemp  Dust  \n",
      "0        -2.2  25.0  \n",
      "1        -2.2  25.0  \n",
      "2        -2.2  25.0  \n",
      "3        -2.2  25.0  \n",
      "\n",
      "[4 rows x 25 columns]\n"
     ]
    }
   ],
   "source": [
    "print(df.head(4))"
   ]
  },
  {
   "cell_type": "code",
   "execution_count": 68,
   "metadata": {},
   "outputs": [],
   "source": [
    "# Create random state to be used in splitting - seed value as parameter\n",
    "rng = np.random.RandomState(1)\n",
    "\n",
    "# Split training set and testing set into two seperate dataframes\n",
    "train_df = df.sample(frac=training_proportion, random_state=rng)\n",
    "test_df = df.loc[~df.index.isin(train_df.index)]"
   ]
  },
  {
   "cell_type": "code",
   "execution_count": 69,
   "metadata": {},
   "outputs": [
    {
     "name": "stdout",
     "output_type": "stream",
     "text": [
      "Training dataframe row count: 6720797\n",
      "Testing dataframe row count: 2880342\n"
     ]
    }
   ],
   "source": [
    "# Check length of each dataframe\n",
    "train_df_row_count = train_df.shape[0]\n",
    "print('Training dataframe row count: ' + str(train_df_row_count))\n",
    "\n",
    "test_df_row_count = test_df.shape[0]\n",
    "print('Testing dataframe row count: ' + str(test_df_row_count))"
   ]
  },
  {
   "cell_type": "code",
   "execution_count": 70,
   "metadata": {},
   "outputs": [],
   "source": [
    "# Export newly-made training and testing datasets to CSV for easy future work (and ease RAM usage!)\n",
    "train_df.to_csv('training.csv', index = False)\n",
    "test_df.to_csv('testing.csv', index = False)"
   ]
  },
  {
   "attachments": {},
   "cell_type": "markdown",
   "metadata": {},
   "source": [
    "**A new notebook will be created from here, now that the datasets are set up.**"
   ]
  }
 ],
 "metadata": {
  "kernelspec": {
   "display_name": "base",
   "language": "python",
   "name": "python3"
  },
  "language_info": {
   "codemirror_mode": {
    "name": "ipython",
    "version": 3
   },
   "file_extension": ".py",
   "mimetype": "text/x-python",
   "name": "python",
   "nbconvert_exporter": "python",
   "pygments_lexer": "ipython3",
   "version": "3.9.13"
  },
  "orig_nbformat": 4,
  "vscode": {
   "interpreter": {
    "hash": "ea8238db6dc1fe8cf6fe83219457bde9bcbcde2053d40c59d2e78211d10c5fee"
   }
  }
 },
 "nbformat": 4,
 "nbformat_minor": 2
}
