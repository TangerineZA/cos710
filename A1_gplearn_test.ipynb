{
 "cells": [
  {
   "cell_type": "code",
   "execution_count": 1,
   "metadata": {},
   "outputs": [],
   "source": [
    "import gplearn\n",
    "import pandas as pd\n",
    "import numpy as np\n",
    "from sklearn.model_selection import train_test_split"
   ]
  },
  {
   "cell_type": "code",
   "execution_count": 2,
   "metadata": {},
   "outputs": [],
   "source": [
    "# import dataset\n",
    "df = pd.read_csv(r'For_modeling.csv', index_col=0)"
   ]
  },
  {
   "cell_type": "code",
   "execution_count": 3,
   "metadata": {},
   "outputs": [
    {
     "name": "stdout",
     "output_type": "stream",
     "text": [
      "Index(['Distance', 'PLong', 'PLatd', 'DLong', 'DLatd', 'Haversine', 'Pmonth',\n",
      "       'Pday', 'Phour', 'Pmin', 'PDweek', 'Dmonth', 'Dday', 'Dhour', 'Dmin',\n",
      "       'DDweek', 'Temp', 'Precip', 'Wind', 'Humid', 'Solar', 'Snow',\n",
      "       'GroundTemp', 'Dust'],\n",
      "      dtype='object')\n"
     ]
    }
   ],
   "source": [
    "x = df.drop('Duration', axis=1)\n",
    "print(x.columns)"
   ]
  },
  {
   "cell_type": "code",
   "execution_count": 4,
   "metadata": {},
   "outputs": [
    {
     "name": "stdout",
     "output_type": "stream",
     "text": [
      "         Duration\n",
      "0               3\n",
      "1              24\n",
      "2               8\n",
      "3               8\n",
      "4               4\n",
      "...           ...\n",
      "9830306        67\n",
      "9830307        58\n",
      "9830308       118\n",
      "9830309        90\n",
      "9830310       116\n",
      "\n",
      "[9601139 rows x 1 columns]\n"
     ]
    }
   ],
   "source": [
    "y = df.loc[:,'Duration'].to_frame()\n",
    "type(y)\n",
    "print(y)"
   ]
  },
  {
   "cell_type": "code",
   "execution_count": 5,
   "metadata": {},
   "outputs": [],
   "source": [
    "X_train, X_test, y_train, y_test = train_test_split(x, y, test_size=0.3, random_state=10)"
   ]
  },
  {
   "cell_type": "code",
   "execution_count": 6,
   "metadata": {},
   "outputs": [],
   "source": [
    "from gplearn.genetic import SymbolicRegressor\n",
    "import pickle"
   ]
  },
  {
   "cell_type": "code",
   "execution_count": 18,
   "metadata": {},
   "outputs": [],
   "source": [
    "gp = SymbolicRegressor(population_size=100, stopping_criteria=0.01, verbose=1, random_state=10,\n",
    "                       tournament_size=16, p_crossover=0.5,p_hoist_mutation=0.05,\n",
    "                       p_point_mutation=0.25,p_subtree_mutation=0.20, n_jobs=5)"
   ]
  },
  {
   "cell_type": "code",
   "execution_count": 20,
   "metadata": {},
   "outputs": [
    {
     "name": "stdout",
     "output_type": "stream",
     "text": [
      "    |   Population Average    |             Best Individual              |\n",
      "---- ------------------------- ------------------------------------------ ----------\n",
      " Gen   Length          Fitness   Length          Fitness      OOB Fitness  Time Left\n",
      "   0    23.46      7.04854e+14        5          18.0556              N/A      7.55m\n",
      "   1     5.88          49.6308        7           18.024              N/A      2.69m\n",
      "   2     5.58          538.352        5          17.6522              N/A      2.48m\n",
      "   3     5.40          243.168        3          16.0351              N/A      2.36m\n",
      "   4     4.92          104.726        3          16.0351              N/A      2.18m\n",
      "   5     4.12          5261.19       11          16.0157              N/A      1.85m\n",
      "   6     4.56          250.351       11          16.0157              N/A      1.70m\n",
      "   7     7.36           6047.8       13          15.7673              N/A      2.04m\n",
      "   8    11.50          339.857       15          15.6805              N/A      2.30m\n",
      "   9    12.42           341442       19          15.6756              N/A      2.10m\n",
      "  10    13.46          261.796       21          15.6178              N/A      2.05m\n",
      "  11    14.82          3163.62       15          15.0625              N/A      1.92m\n",
      "  12    18.82          20.3656       27          14.2153              N/A      1.94m\n",
      "  13    18.62          620.134       27          13.7093              N/A      1.61m\n",
      "  14    25.52          164.943       45          13.5213              N/A      1.74m\n",
      "  15    30.02          24.8991       45          13.5213              N/A      1.59m\n",
      "  16    36.62          30.8163       43          13.4927              N/A      1.39m\n",
      "  17    41.22          38.2505       47          13.4863              N/A      1.03m\n",
      "  18    45.08          116.749       83          13.4951              N/A     33.63s\n",
      "  19    41.60          25.6841       39          13.4748              N/A      0.00s\n"
     ]
    },
    {
     "data": {
      "text/plain": [
       "SymbolicRegressor(n_jobs=5, p_crossover=0.5, p_hoist_mutation=0.05,\n",
       "                  p_point_mutation=0.25, p_subtree_mutation=0.2,\n",
       "                  population_size=100, random_state=10, stopping_criteria=0.01,\n",
       "                  tournament_size=16, verbose=1)"
      ]
     },
     "execution_count": 20,
     "metadata": {},
     "output_type": "execute_result"
    }
   ],
   "source": [
    "gp.fit(X_train, np.ravel(y_train))"
   ]
  },
  {
   "cell_type": "code",
   "execution_count": 31,
   "metadata": {},
   "outputs": [
    {
     "name": "stdout",
     "output_type": "stream",
     "text": [
      "R2: 0.17977415898570337\n"
     ]
    }
   ],
   "source": [
    "print('R2: ' + str(gp.score(X_test, y_test)))"
   ]
  },
  {
   "cell_type": "code",
   "execution_count": 32,
   "metadata": {},
   "outputs": [],
   "source": [
    "with open('new_gp_model.pkl', 'wb') as f:\n",
    "    pickle.dump(gp, f)"
   ]
  },
  {
   "cell_type": "code",
   "execution_count": 28,
   "metadata": {},
   "outputs": [],
   "source": [
    "with open('new_gp_model.pkl', 'rb') as f:\n",
    "    gp = pickle.load(f)"
   ]
  },
  {
   "cell_type": "code",
   "execution_count": 33,
   "metadata": {},
   "outputs": [
    {
     "data": {
      "text/plain": [
       "SymbolicRegressor(generations=50, n_jobs=5, p_crossover=0.5,\n",
       "                  p_hoist_mutation=0.05, p_point_mutation=0.25,\n",
       "                  p_subtree_mutation=0.2, population_size=100, random_state=10,\n",
       "                  stopping_criteria=0.01, tournament_size=16, verbose=1,\n",
       "                  warm_start=1)"
      ]
     },
     "execution_count": 33,
     "metadata": {},
     "output_type": "execute_result"
    }
   ],
   "source": [
    "gp.set_params(generations=50, n_jobs=5, warm_start=1)"
   ]
  },
  {
   "cell_type": "code",
   "execution_count": 34,
   "metadata": {},
   "outputs": [
    {
     "name": "stdout",
     "output_type": "stream",
     "text": [
      "    |   Population Average    |             Best Individual              |\n",
      "---- ------------------------- ------------------------------------------ ----------\n",
      " Gen   Length          Fitness   Length          Fitness      OOB Fitness  Time Left\n",
      "  40    51.44          351.181       55          13.3091              N/A      6.02m\n",
      "  41    51.24          88.5087       55          13.3082              N/A      5.31m\n",
      "  42    49.46          28.8193       55          13.3082              N/A      4.43m\n",
      "  43    51.52          27.7043       55          13.3082              N/A      3.85m\n",
      "  44    53.66          59.6917       61          13.3051              N/A      3.31m\n",
      "  45    51.42          27.1855       61          13.3051              N/A      2.59m\n",
      "  46    56.12           36.513       67          13.3087              N/A      2.07m\n",
      "  47    51.94          33.8528       49          13.3086              N/A      1.29m\n",
      "  48    50.60          33.1417       49          13.3081              N/A     37.13s\n",
      "  49    48.76          39.2553       49          13.3081              N/A      0.00s\n"
     ]
    },
    {
     "data": {
      "text/plain": [
       "SymbolicRegressor(generations=50, n_jobs=5, p_crossover=0.5,\n",
       "                  p_hoist_mutation=0.05, p_point_mutation=0.25,\n",
       "                  p_subtree_mutation=0.2, population_size=100, random_state=10,\n",
       "                  stopping_criteria=0.01, tournament_size=16, verbose=1,\n",
       "                  warm_start=1)"
      ]
     },
     "execution_count": 34,
     "metadata": {},
     "output_type": "execute_result"
    }
   ],
   "source": [
    "gp.fit(X_train, np.ravel(y_train))"
   ]
  },
  {
   "cell_type": "code",
   "execution_count": 45,
   "metadata": {},
   "outputs": [
    {
     "data": {
      "text/plain": [
       "Index(['Duration', 'Distance', 'PLong', 'PLatd', 'DLong', 'DLatd', 'Haversine',\n",
       "       'Pmonth', 'Pday', 'Phour', 'Pmin', 'PDweek', 'Dmonth', 'Dday', 'Dhour',\n",
       "       'Dmin', 'DDweek', 'Temp', 'Precip', 'Wind', 'Humid', 'Solar', 'Snow',\n",
       "       'GroundTemp', 'Dust'],\n",
       "      dtype='object')"
      ]
     },
     "execution_count": 45,
     "metadata": {},
     "output_type": "execute_result"
    }
   ],
   "source": [
    "df.columns"
   ]
  },
  {
   "cell_type": "code",
   "execution_count": 7,
   "metadata": {},
   "outputs": [],
   "source": [
    "simplified_df = df.drop(['DDweek', 'GroundTemp', 'Haversine', 'Dmonth'],axis=1)"
   ]
  },
  {
   "cell_type": "code",
   "execution_count": 8,
   "metadata": {},
   "outputs": [
    {
     "data": {
      "text/plain": [
       "Index(['Duration', 'Distance', 'PLong', 'PLatd', 'DLong', 'DLatd', 'Pmonth',\n",
       "       'Pday', 'Phour', 'Pmin', 'PDweek', 'Dday', 'Dhour', 'Dmin', 'Temp',\n",
       "       'Precip', 'Wind', 'Humid', 'Solar', 'Snow', 'Dust'],\n",
       "      dtype='object')"
      ]
     },
     "execution_count": 8,
     "metadata": {},
     "output_type": "execute_result"
    }
   ],
   "source": [
    "simplified_df.columns"
   ]
  },
  {
   "cell_type": "code",
   "execution_count": 9,
   "metadata": {},
   "outputs": [],
   "source": [
    "x_s = simplified_df.drop('Duration',axis=1)\n",
    "y_s = simplified_df.loc[:,'Duration'].to_frame()"
   ]
  },
  {
   "cell_type": "code",
   "execution_count": 10,
   "metadata": {},
   "outputs": [],
   "source": [
    "X_train_s, X_test_s, y_train_s, y_test_s = train_test_split(x_s, y_s, test_size=0.3, random_state=10)"
   ]
  },
  {
   "cell_type": "code",
   "execution_count": 13,
   "metadata": {},
   "outputs": [],
   "source": [
    "simplified_gp = SymbolicRegressor(population_size=100,\n",
    "                           generations=20, stopping_criteria=0.01,\n",
    "                           p_crossover=0.5, p_subtree_mutation=0.4,\n",
    "                           p_hoist_mutation=0, p_point_mutation=0.1,\n",
    "                           verbose=1,\n",
    "                           parsimony_coefficient=0.01, random_state=10, n_jobs=5)"
   ]
  },
  {
   "cell_type": "code",
   "execution_count": 18,
   "metadata": {},
   "outputs": [
    {
     "data": {
      "text/plain": [
       "SymbolicRegressor(generations=51, n_jobs=5, p_crossover=0.5, p_hoist_mutation=0,\n",
       "                  p_point_mutation=0.1, p_subtree_mutation=0.4,\n",
       "                  parsimony_coefficient=0.01, population_size=100,\n",
       "                  random_state=10, stopping_criteria=0.01, verbose=1,\n",
       "                  warm_start=True)"
      ]
     },
     "execution_count": 18,
     "metadata": {},
     "output_type": "execute_result"
    }
   ],
   "source": [
    "simplified_gp.set_params(generations=51, warm_start=True)"
   ]
  },
  {
   "cell_type": "code",
   "execution_count": 19,
   "metadata": {},
   "outputs": [
    {
     "name": "stdout",
     "output_type": "stream",
     "text": [
      "    |   Population Average    |             Best Individual              |\n",
      "---- ------------------------- ------------------------------------------ ----------\n",
      " Gen   Length          Fitness   Length          Fitness      OOB Fitness  Time Left\n",
      "  20    11.90          161.755       17          8.72373              N/A      9.96m\n",
      "  21    12.32          839.198       17          8.72373              N/A      9.67m\n",
      "  22    12.42          5401.85       17          8.72373              N/A      9.32m\n",
      "  23    12.94          4537.71       17          8.72373              N/A      9.17m\n",
      "  24    11.42          78.2822       27           8.7223              N/A      8.21m\n",
      "  25    11.50          1695.51       17          8.71892              N/A      7.99m\n",
      "  26    12.42          90.4515       17          8.72373              N/A      7.88m\n",
      "  27    11.26          3800.17       17          8.72373              N/A      7.28m\n",
      "  28    11.74          912.977       17          8.72373              N/A      6.99m\n",
      "  29    11.76          277.172       17          8.72373              N/A      6.90m\n",
      "  30    12.46          108.433       17          8.72373              N/A      7.29m\n",
      "  31    13.98          85.8345       17          8.72373              N/A      6.95m\n",
      "  32    11.74          158.739       17          8.72373              N/A      5.76m\n",
      "  33    13.96          742.725       17          8.72373              N/A      6.16m\n",
      "  34    11.76          10707.7       17          8.72373              N/A      5.52m\n",
      "  35    11.88          441.561       17          8.72373              N/A      4.90m\n",
      "  36    11.90          319.842       17          8.72373              N/A      4.67m\n",
      "  37    10.70          530.518       17          8.72373              N/A      3.96m\n",
      "  38    11.96          90.8825       17          8.72118              N/A      3.87m\n",
      "  39    12.10           434.21       17          8.72373              N/A      3.65m\n",
      "  40    12.36          119.677       17          8.72373              N/A      3.35m\n",
      "  41    11.48          83.5279       17          8.72373              N/A      2.85m\n",
      "  42    11.38           445.83       17          8.72373              N/A      2.55m\n",
      "  43    14.56          134.044       19          8.71837              N/A      2.59m\n",
      "  44    11.66          198.316       19          8.71837              N/A      1.94m\n",
      "  45    13.56          675.943       17          8.72373              N/A      1.73m\n",
      "  46    11.90          803.354       17          8.72373              N/A      1.32m\n",
      "  47    11.08           75.313       19          8.71837              N/A     56.62s\n",
      "  48    10.58          431.557       13          8.74099              N/A     35.18s\n",
      "  49    10.52          3880.45       19          8.71837              N/A     17.40s\n",
      "  50    10.00          79.9338       11          8.71183              N/A      0.00s\n"
     ]
    },
    {
     "data": {
      "text/plain": [
       "SymbolicRegressor(generations=51, n_jobs=5, p_crossover=0.5, p_hoist_mutation=0,\n",
       "                  p_point_mutation=0.1, p_subtree_mutation=0.4,\n",
       "                  parsimony_coefficient=0.01, population_size=100,\n",
       "                  random_state=10, stopping_criteria=0.01, verbose=1,\n",
       "                  warm_start=True)"
      ]
     },
     "execution_count": 19,
     "metadata": {},
     "output_type": "execute_result"
    }
   ],
   "source": [
    "simplified_gp.fit(x_s, np.ravel(y_s))"
   ]
  },
  {
   "cell_type": "code",
   "execution_count": 20,
   "metadata": {},
   "outputs": [],
   "source": [
    "with open('simplified.pkl', 'wb') as f:\n",
    "    pickle.dump(simplified_gp, f)"
   ]
  },
  {
   "cell_type": "code",
   "execution_count": null,
   "metadata": {},
   "outputs": [],
   "source": []
  }
 ],
 "metadata": {
  "kernelspec": {
   "display_name": "base",
   "language": "python",
   "name": "python3"
  },
  "language_info": {
   "codemirror_mode": {
    "name": "ipython",
    "version": 3
   },
   "file_extension": ".py",
   "mimetype": "text/x-python",
   "name": "python",
   "nbconvert_exporter": "python",
   "pygments_lexer": "ipython3",
   "version": "3.9.13"
  },
  "orig_nbformat": 4
 },
 "nbformat": 4,
 "nbformat_minor": 2
}
